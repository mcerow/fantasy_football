{
 "cells": [
  {
   "cell_type": "markdown",
   "metadata": {},
   "source": [
    "# Week 8 -- Kicking Data Collection"
   ]
  },
  {
   "cell_type": "code",
   "execution_count": 1,
   "metadata": {},
   "outputs": [],
   "source": [
    "import pandas as pd\n",
    "import numpy as np\n",
    "import requests\n",
    "from bs4 import BeautifulSoup\n",
    "import time\n",
    "import warnings\n",
    "warnings.simplefilter('ignore')"
   ]
  },
  {
   "cell_type": "code",
   "execution_count": 2,
   "metadata": {},
   "outputs": [],
   "source": [
    "%%capture\n",
    "\n",
    "from tqdm import tqdm_notebook as tqdm\n",
    "from tqdm import tnrange\n",
    "tqdm().pandas()"
   ]
  },
  {
   "cell_type": "code",
   "execution_count": 3,
   "metadata": {},
   "outputs": [],
   "source": [
    "pd.set_option('display.max_columns', None)"
   ]
  },
  {
   "cell_type": "code",
   "execution_count": 4,
   "metadata": {},
   "outputs": [],
   "source": [
    "pd.set_option('display.float_format', lambda x: '%.2f' % x)"
   ]
  },
  {
   "cell_type": "markdown",
   "metadata": {},
   "source": [
    "## Initiating DataFrame"
   ]
  },
  {
   "cell_type": "code",
   "execution_count": 5,
   "metadata": {},
   "outputs": [],
   "source": [
    "kicking_df = pd.DataFrame(columns = ['PLAYER', 'POSITION', 'TEAM', 'GP', 'FGM_A', 'FG%', 'LNG', '_1_19', '_20_29', \n",
    "                                     '_30_39', '_40_49', 'OVER50', 'XPM_A', 'XP%', 'PTS'])"
   ]
  },
  {
   "cell_type": "markdown",
   "metadata": {},
   "source": [
    "## Scraping Functions"
   ]
  },
  {
   "cell_type": "code",
   "execution_count": 6,
   "metadata": {},
   "outputs": [],
   "source": [
    "def get_name_pos_team_missing_team(soup):\n",
    "    container = soup.find('tbody')\n",
    "    names = []\n",
    "    positions = []\n",
    "    teams = []\n",
    "    for i in range(len(container.findAll('span', class_ = 'CellPlayerName--long'))):\n",
    "        name = container.findAll('span', class_ = 'CellPlayerName--long')[i].get_text()\n",
    "        name = name.lstrip('\\n')\n",
    "        name = name.partition('\\n')[0]\n",
    "        names.append(name)\n",
    "        \n",
    "        position = container.findAll('span', class_ = 'CellPlayerName--long')[i].get_text()\n",
    "        position = position.lstrip('\\n')\n",
    "        position = position.split('\\n')\n",
    "        position = position[2]\n",
    "        position = position.replace(' ', '')\n",
    "        positions.append(position)\n",
    "        \n",
    "        team = container.findAll('span', class_ = 'CellPlayerName--long')[i].get_text()\n",
    "        team = team.lstrip('\\n')\n",
    "        team = team.split('\\n')\n",
    "        team = team[5]\n",
    "        team = team.replace(' ', '')\n",
    "        teams.append(team)\n",
    "        \n",
    "    return names, positions, teams"
   ]
  },
  {
   "cell_type": "code",
   "execution_count": 7,
   "metadata": {},
   "outputs": [],
   "source": [
    "def get_12first(soup):\n",
    "    container = soup.find('tbody')\n",
    "    first_col = []\n",
    "    count = 0\n",
    "    length = len(container.findAll('td', class_ = 'TableBase-bodyTd TableBase-bodyTd--number'))\n",
    "    for i in range(length):\n",
    "        if count in range(length):\n",
    "            val = container.findAll('td', class_ = 'TableBase-bodyTd TableBase-bodyTd--number')[count].get_text()\n",
    "            val = val.replace('\\n', '')\n",
    "            val = val.replace(' ', '')\n",
    "            first_col.append(val)\n",
    "        \n",
    "        count += 12    \n",
    "    return first_col"
   ]
  },
  {
   "cell_type": "code",
   "execution_count": 8,
   "metadata": {},
   "outputs": [],
   "source": [
    "def get_12second(soup):\n",
    "    container = soup.find('tbody')\n",
    "    second_col = []\n",
    "    count = 1\n",
    "    length = len(container.findAll('td', class_ = 'TableBase-bodyTd TableBase-bodyTd--number'))\n",
    "    for i in range(length):\n",
    "        if count in range(length):\n",
    "            val = container.findAll('td', class_ = 'TableBase-bodyTd TableBase-bodyTd--number')[count].get_text()\n",
    "            val = val.replace('\\n', '')\n",
    "            val = val.replace(' ', '')\n",
    "            second_col.append(val)\n",
    "        \n",
    "        count += 12    \n",
    "    return second_col"
   ]
  },
  {
   "cell_type": "code",
   "execution_count": 9,
   "metadata": {},
   "outputs": [],
   "source": [
    "def get_12third(soup):\n",
    "    container = soup.find('tbody')\n",
    "    third_col = []\n",
    "    count = 2\n",
    "    length = len(container.findAll('td', class_ = 'TableBase-bodyTd TableBase-bodyTd--number'))\n",
    "    for i in range(length):\n",
    "        if count in range(length):\n",
    "            val = container.findAll('td', class_ = 'TableBase-bodyTd TableBase-bodyTd--number')[count].get_text()\n",
    "            val = val.replace('\\n', '')\n",
    "            val = val.replace(' ', '')\n",
    "            third_col.append(val)\n",
    "        \n",
    "        count += 12    \n",
    "    return third_col"
   ]
  },
  {
   "cell_type": "code",
   "execution_count": 10,
   "metadata": {},
   "outputs": [],
   "source": [
    "def get_12fourth(soup):\n",
    "    container = soup.find('tbody')\n",
    "    fourth_col = []\n",
    "    count = 3\n",
    "    length = len(container.findAll('td', class_ = 'TableBase-bodyTd TableBase-bodyTd--number'))\n",
    "    for i in range(length):\n",
    "        if count in range(length):\n",
    "            val = container.findAll('td', class_ = 'TableBase-bodyTd TableBase-bodyTd--number')[count].get_text()\n",
    "            val = val.replace('\\n', '')\n",
    "            val = val.replace(' ', '')\n",
    "            fourth_col.append(val)\n",
    "        \n",
    "        count += 12    \n",
    "    return fourth_col"
   ]
  },
  {
   "cell_type": "code",
   "execution_count": 11,
   "metadata": {},
   "outputs": [],
   "source": [
    "def get_12fifth(soup):\n",
    "    container = soup.find('tbody')\n",
    "    fifth_col = []\n",
    "    count = 4\n",
    "    length = len(container.findAll('td', class_ = 'TableBase-bodyTd TableBase-bodyTd--number'))\n",
    "    for i in range(length):\n",
    "        if count in range(length):\n",
    "            val = container.findAll('td', class_ = 'TableBase-bodyTd TableBase-bodyTd--number')[count].get_text()\n",
    "            val = val.replace('\\n', '')\n",
    "            val = val.replace(' ', '')\n",
    "            fifth_col.append(val)\n",
    "        \n",
    "        count += 12    \n",
    "    return fifth_col"
   ]
  },
  {
   "cell_type": "code",
   "execution_count": 12,
   "metadata": {},
   "outputs": [],
   "source": [
    "def get_12sixth(soup):\n",
    "    container = soup.find('tbody')\n",
    "    sixth_col = []\n",
    "    count = 5\n",
    "    length = len(container.findAll('td', class_ = 'TableBase-bodyTd TableBase-bodyTd--number'))\n",
    "    for i in range(length):\n",
    "        if count in range(length):\n",
    "            val = container.findAll('td', class_ = 'TableBase-bodyTd TableBase-bodyTd--number')[count].get_text()\n",
    "            val = val.replace('\\n', '')\n",
    "            val = val.replace(' ', '')\n",
    "            sixth_col.append(val)\n",
    "        \n",
    "        count += 12    \n",
    "    return sixth_col"
   ]
  },
  {
   "cell_type": "code",
   "execution_count": 13,
   "metadata": {},
   "outputs": [],
   "source": [
    "def get_12seventh(soup):\n",
    "    container = soup.find('tbody')\n",
    "    seventh_col = []\n",
    "    count = 6\n",
    "    length = len(container.findAll('td', class_ = 'TableBase-bodyTd TableBase-bodyTd--number'))\n",
    "    for i in range(length):\n",
    "        if count in range(length):\n",
    "            val = container.findAll('td', class_ = 'TableBase-bodyTd TableBase-bodyTd--number')[count].get_text()\n",
    "            val = val.replace('\\n', '')\n",
    "            val = val.replace(' ', '')\n",
    "            seventh_col.append(val)\n",
    "        \n",
    "        count += 12    \n",
    "    return seventh_col"
   ]
  },
  {
   "cell_type": "code",
   "execution_count": 14,
   "metadata": {},
   "outputs": [],
   "source": [
    "def get_12eighth(soup):\n",
    "    container = soup.find('tbody')\n",
    "    eighth_col = []\n",
    "    count = 7\n",
    "    length = len(container.findAll('td', class_ = 'TableBase-bodyTd TableBase-bodyTd--number'))\n",
    "    for i in range(length):\n",
    "        if count in range(length):\n",
    "            val = container.findAll('td', class_ = 'TableBase-bodyTd TableBase-bodyTd--number')[count].get_text()\n",
    "            val = val.replace('\\n', '')\n",
    "            val = val.replace(' ', '')\n",
    "            eighth_col.append(val)\n",
    "        \n",
    "        count += 12    \n",
    "    return eighth_col"
   ]
  },
  {
   "cell_type": "code",
   "execution_count": 15,
   "metadata": {},
   "outputs": [],
   "source": [
    "def get_12ninth(soup):\n",
    "    container = soup.find('tbody')\n",
    "    ninth_col = []\n",
    "    count = 8\n",
    "    length = len(container.findAll('td', class_ = 'TableBase-bodyTd TableBase-bodyTd--number'))\n",
    "    for i in range(length):\n",
    "        if count in range(length):\n",
    "            val = container.findAll('td', class_ = 'TableBase-bodyTd TableBase-bodyTd--number')[count].get_text()\n",
    "            val = val.replace('\\n', '')\n",
    "            val = val.replace(' ', '')\n",
    "            ninth_col.append(val)\n",
    "        \n",
    "        count += 12    \n",
    "    return ninth_col"
   ]
  },
  {
   "cell_type": "code",
   "execution_count": 16,
   "metadata": {},
   "outputs": [],
   "source": [
    "def get_12tenth(soup):\n",
    "    container = soup.find('tbody')\n",
    "    tenth_col = []\n",
    "    count = 9\n",
    "    length = len(container.findAll('td', class_ = 'TableBase-bodyTd TableBase-bodyTd--number'))\n",
    "    for i in range(length):\n",
    "        if count in range(length):\n",
    "            val = container.findAll('td', class_ = 'TableBase-bodyTd TableBase-bodyTd--number')[count].get_text()\n",
    "            val = val.replace('\\n', '')\n",
    "            val = val.replace(' ', '')\n",
    "            tenth_col.append(val)\n",
    "        \n",
    "        count += 12    \n",
    "    return tenth_col"
   ]
  },
  {
   "cell_type": "code",
   "execution_count": 17,
   "metadata": {},
   "outputs": [],
   "source": [
    "def get_12eleventh(soup):\n",
    "    container = soup.find('tbody')\n",
    "    eleventh_col = []\n",
    "    count = 10\n",
    "    length = len(container.findAll('td', class_ = 'TableBase-bodyTd TableBase-bodyTd--number'))\n",
    "    for i in range(length):\n",
    "        if count in range(length):\n",
    "            val = container.findAll('td', class_ = 'TableBase-bodyTd TableBase-bodyTd--number')[count].get_text()\n",
    "            val = val.replace('\\n', '')\n",
    "            val = val.replace(' ', '')\n",
    "            eleventh_col.append(val)\n",
    "        \n",
    "        count += 12    \n",
    "    return eleventh_col"
   ]
  },
  {
   "cell_type": "code",
   "execution_count": 18,
   "metadata": {},
   "outputs": [],
   "source": [
    "def get_12twelfth(soup):\n",
    "    container = soup.find('tbody')\n",
    "    twelfth_col = []\n",
    "    count = 11\n",
    "    length = len(container.findAll('td', class_ = 'TableBase-bodyTd TableBase-bodyTd--number'))\n",
    "    for i in range(length):\n",
    "        if count in range(length):\n",
    "            val = container.findAll('td', class_ = 'TableBase-bodyTd TableBase-bodyTd--number')[count].get_text()\n",
    "            val = val.replace('\\n', '')\n",
    "            val = val.replace(' ', '')\n",
    "            twelfth_col.append(val)\n",
    "        \n",
    "        count += 12    \n",
    "    return twelfth_col"
   ]
  },
  {
   "cell_type": "code",
   "execution_count": 19,
   "metadata": {},
   "outputs": [],
   "source": [
    "def get_kicking(url):\n",
    "    html = requests.get(url)\n",
    "    soup = BeautifulSoup(html.content, 'html.parser')\n",
    "    \n",
    "    kicking_df['PLAYER'], kicking_df['POSITION'], kicking_df['TEAM'] = get_name_pos_team_missing_team(soup)\n",
    "    kicking_df['GP'] = get_12first(soup)\n",
    "    kicking_df['FGM_A'] = get_12second(soup)\n",
    "    kicking_df['FG%'] = get_12third(soup)\n",
    "    kicking_df['LNG'] = get_12fourth(soup)\n",
    "    kicking_df['_1_19'] = get_12fifth(soup)\n",
    "    kicking_df['_20_29'] = get_12sixth(soup)\n",
    "    kicking_df['_30_39'] = get_12seventh(soup)\n",
    "    kicking_df['_40_49'] = get_12eighth(soup)\n",
    "    kicking_df['OVER50'] = get_12ninth(soup)\n",
    "    kicking_df['XPM_A'] = get_12tenth(soup)\n",
    "    kicking_df['XP%'] = get_12eleventh(soup)\n",
    "    kicking_df['PTS'] = get_12twelfth(soup)"
   ]
  },
  {
   "cell_type": "markdown",
   "metadata": {},
   "source": [
    "## Scraping Kicking Data"
   ]
  },
  {
   "cell_type": "code",
   "execution_count": 20,
   "metadata": {},
   "outputs": [],
   "source": [
    "url = 'https://www.cbssports.com/nfl/stats/player/kicking/nfl/regular/all/'\n",
    "get_kicking(url)"
   ]
  },
  {
   "cell_type": "code",
   "execution_count": 21,
   "metadata": {},
   "outputs": [
    {
     "data": {
      "text/html": [
       "<div>\n",
       "<style scoped>\n",
       "    .dataframe tbody tr th:only-of-type {\n",
       "        vertical-align: middle;\n",
       "    }\n",
       "\n",
       "    .dataframe tbody tr th {\n",
       "        vertical-align: top;\n",
       "    }\n",
       "\n",
       "    .dataframe thead th {\n",
       "        text-align: right;\n",
       "    }\n",
       "</style>\n",
       "<table border=\"1\" class=\"dataframe\">\n",
       "  <thead>\n",
       "    <tr style=\"text-align: right;\">\n",
       "      <th></th>\n",
       "      <th>PLAYER</th>\n",
       "      <th>POSITION</th>\n",
       "      <th>TEAM</th>\n",
       "      <th>GP</th>\n",
       "      <th>FGM_A</th>\n",
       "      <th>FG%</th>\n",
       "      <th>LNG</th>\n",
       "      <th>_1_19</th>\n",
       "      <th>_20_29</th>\n",
       "      <th>_30_39</th>\n",
       "      <th>_40_49</th>\n",
       "      <th>OVER50</th>\n",
       "      <th>XPM_A</th>\n",
       "      <th>XP%</th>\n",
       "      <th>PTS</th>\n",
       "    </tr>\n",
       "  </thead>\n",
       "  <tbody>\n",
       "    <tr>\n",
       "      <th>0</th>\n",
       "      <td>Randy Bullock</td>\n",
       "      <td>K</td>\n",
       "      <td>CIN</td>\n",
       "      <td>8</td>\n",
       "      <td>20</td>\n",
       "      <td>90.0</td>\n",
       "      <td>55</td>\n",
       "      <td>0-0</td>\n",
       "      <td>3-3</td>\n",
       "      <td>7-8</td>\n",
       "      <td>6-7</td>\n",
       "      <td>2-2</td>\n",
       "      <td>20</td>\n",
       "      <td>100.0</td>\n",
       "      <td>74</td>\n",
       "    </tr>\n",
       "    <tr>\n",
       "      <th>1</th>\n",
       "      <td>Younghoe Koo</td>\n",
       "      <td>K</td>\n",
       "      <td>ATL</td>\n",
       "      <td>7</td>\n",
       "      <td>20</td>\n",
       "      <td>95.0</td>\n",
       "      <td>54</td>\n",
       "      <td>0-0</td>\n",
       "      <td>5-5</td>\n",
       "      <td>5-5</td>\n",
       "      <td>7-8</td>\n",
       "      <td>2-2</td>\n",
       "      <td>17</td>\n",
       "      <td>82.4</td>\n",
       "      <td>71</td>\n",
       "    </tr>\n",
       "    <tr>\n",
       "      <th>2</th>\n",
       "      <td>Ryan Succop</td>\n",
       "      <td>K</td>\n",
       "      <td>TB</td>\n",
       "      <td>8</td>\n",
       "      <td>17</td>\n",
       "      <td>88.2</td>\n",
       "      <td>50</td>\n",
       "      <td>0-0</td>\n",
       "      <td>3-3</td>\n",
       "      <td>7-7</td>\n",
       "      <td>4-5</td>\n",
       "      <td>1-2</td>\n",
       "      <td>27</td>\n",
       "      <td>96.3</td>\n",
       "      <td>71</td>\n",
       "    </tr>\n",
       "    <tr>\n",
       "      <th>3</th>\n",
       "      <td>Joey Slye</td>\n",
       "      <td>K</td>\n",
       "      <td>CAR</td>\n",
       "      <td>8</td>\n",
       "      <td>21</td>\n",
       "      <td>85.7</td>\n",
       "      <td>48</td>\n",
       "      <td>0-0</td>\n",
       "      <td>8-8</td>\n",
       "      <td>6-6</td>\n",
       "      <td>4-5</td>\n",
       "      <td>0-2</td>\n",
       "      <td>17</td>\n",
       "      <td>88.2</td>\n",
       "      <td>69</td>\n",
       "    </tr>\n",
       "    <tr>\n",
       "      <th>4</th>\n",
       "      <td>Wil Lutz</td>\n",
       "      <td>K</td>\n",
       "      <td>NO</td>\n",
       "      <td>7</td>\n",
       "      <td>16</td>\n",
       "      <td>93.8</td>\n",
       "      <td>53</td>\n",
       "      <td>0-0</td>\n",
       "      <td>3-4</td>\n",
       "      <td>7-7</td>\n",
       "      <td>4-4</td>\n",
       "      <td>1-1</td>\n",
       "      <td>23</td>\n",
       "      <td>100.0</td>\n",
       "      <td>68</td>\n",
       "    </tr>\n",
       "  </tbody>\n",
       "</table>\n",
       "</div>"
      ],
      "text/plain": [
       "          PLAYER POSITION TEAM GP FGM_A   FG% LNG _1_19 _20_29 _30_39 _40_49  \\\n",
       "0  Randy Bullock        K  CIN  8    20  90.0  55   0-0    3-3    7-8    6-7   \n",
       "1   Younghoe Koo        K  ATL  7    20  95.0  54   0-0    5-5    5-5    7-8   \n",
       "2    Ryan Succop        K   TB  8    17  88.2  50   0-0    3-3    7-7    4-5   \n",
       "3      Joey Slye        K  CAR  8    21  85.7  48   0-0    8-8    6-6    4-5   \n",
       "4       Wil Lutz        K   NO  7    16  93.8  53   0-0    3-4    7-7    4-4   \n",
       "\n",
       "  OVER50 XPM_A    XP% PTS  \n",
       "0    2-2    20  100.0  74  \n",
       "1    2-2    17   82.4  71  \n",
       "2    1-2    27   96.3  71  \n",
       "3    0-2    17   88.2  69  \n",
       "4    1-1    23  100.0  68  "
      ]
     },
     "execution_count": 21,
     "metadata": {},
     "output_type": "execute_result"
    }
   ],
   "source": [
    "kicking_df.head()"
   ]
  },
  {
   "cell_type": "markdown",
   "metadata": {},
   "source": [
    "## Pickle DataFrame"
   ]
  },
  {
   "cell_type": "code",
   "execution_count": 22,
   "metadata": {},
   "outputs": [],
   "source": [
    "kicking_df.to_pickle('kicking_data')"
   ]
  },
  {
   "cell_type": "code",
   "execution_count": null,
   "metadata": {},
   "outputs": [],
   "source": []
  }
 ],
 "metadata": {
  "kernelspec": {
   "display_name": "Python 3",
   "language": "python",
   "name": "python3"
  },
  "language_info": {
   "codemirror_mode": {
    "name": "ipython",
    "version": 3
   },
   "file_extension": ".py",
   "mimetype": "text/x-python",
   "name": "python",
   "nbconvert_exporter": "python",
   "pygments_lexer": "ipython3",
   "version": "3.7.6"
  }
 },
 "nbformat": 4,
 "nbformat_minor": 4
}
