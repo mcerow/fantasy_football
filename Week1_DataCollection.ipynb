{
 "cells": [
  {
   "cell_type": "markdown",
   "metadata": {},
   "source": [
    "# Fantasy Football Week One\n",
    "## Data Collection"
   ]
  },
  {
   "cell_type": "code",
   "execution_count": 1,
   "metadata": {},
   "outputs": [],
   "source": [
    "import pandas as pd\n",
    "import numpy as np\n",
    "import requests\n",
    "from bs4 import BeautifulSoup\n",
    "import time"
   ]
  },
  {
   "cell_type": "code",
   "execution_count": 2,
   "metadata": {},
   "outputs": [],
   "source": [
    "%%capture\n",
    "\n",
    "from tqdm import tqdm_notebook as tqdm\n",
    "from tqdm import tnrange\n",
    "tqdm().pandas()"
   ]
  },
  {
   "cell_type": "code",
   "execution_count": 3,
   "metadata": {},
   "outputs": [],
   "source": [
    "pd.set_option('display.max_columns', None)"
   ]
  },
  {
   "cell_type": "code",
   "execution_count": 4,
   "metadata": {},
   "outputs": [],
   "source": [
    "pd.set_option('display.float_format', lambda x: '%.2f' % x)"
   ]
  },
  {
   "cell_type": "markdown",
   "metadata": {},
   "source": [
    "### Setting DataFrames"
   ]
  },
  {
   "cell_type": "code",
   "execution_count": 5,
   "metadata": {},
   "outputs": [],
   "source": [
    "passing_df = pd.DataFrame(columns = ['PLAYER', 'POSITION', 'TEAM', 'GP', 'ATT', 'CMP', 'PCT', 'YDS', 'YDSpG', 'LNG',\n",
    "                                    'TD', 'INT', 'SCK', 'YDSL', 'RATE'])"
   ]
  },
  {
   "cell_type": "code",
   "execution_count": 7,
   "metadata": {},
   "outputs": [],
   "source": [
    "rushing_df = pd.DataFrame(columns = ['PLAYER', 'POSITION', 'TEAM', 'GP', 'ATT', 'YDS', 'YDSpG', 'AVG', 'TD', 'LNG'])"
   ]
  },
  {
   "cell_type": "code",
   "execution_count": 8,
   "metadata": {},
   "outputs": [],
   "source": [
    "receiving_df = pd.DataFrame(columns = ['PLAYER', 'POSITION', 'TEAM', 'GP', 'REC', 'YDS', 'YDSpG', 'AVG', 'LNG', 'TD'])"
   ]
  },
  {
   "cell_type": "code",
   "execution_count": 6,
   "metadata": {},
   "outputs": [],
   "source": [
    "kicking_df = pd.DataFrame(columns = ['PLAYER', 'POSITION', 'TEAM', 'GP', 'FGM_A', 'FG%', 'LNG', '_1_19', '_20_29', \n",
    "                                     '_30_39', '_40_49', 'OVER50', 'XPM_A', 'XP%', 'PTS'])"
   ]
  },
  {
   "cell_type": "code",
   "execution_count": 9,
   "metadata": {},
   "outputs": [],
   "source": [
    "defense_df = pd.DataFrame(columns = ['PLAYER', 'POSITION', 'TEAM', 'GP', 'STK', 'ATK', 'CMB', 'INT', 'YDS', 'LNG', \n",
    "                                     'TD', 'FUM', 'FREC', 'FTD', 'SCK', 'PDEF', 'SFTY'])"
   ]
  },
  {
   "cell_type": "markdown",
   "metadata": {},
   "source": [
    "### Name, Position & Team Functions"
   ]
  },
  {
   "cell_type": "code",
   "execution_count": 32,
   "metadata": {},
   "outputs": [],
   "source": [
    "def get_name(soup):\n",
    "    container = soup.find('tbody')\n",
    "    names = []\n",
    "    for i in range(len(container.findAll('a', class_ = ''))):\n",
    "        if i % 2 != 0:\n",
    "            names.append(container.findAll('a', class_ = '')[i].get_text())\n",
    "        else:\n",
    "            continue\n",
    "    return names"
   ]
  },
  {
   "cell_type": "code",
   "execution_count": 33,
   "metadata": {},
   "outputs": [],
   "source": [
    "def get_position(soup):\n",
    "    container = soup.find('tbody')\n",
    "    positions = []\n",
    "    for i in range(len(container.findAll('span', class_ = 'CellPlayerName-position'))):\n",
    "        if i % 2 != 0:\n",
    "            position = container.findAll('span', class_ = 'CellPlayerName-position')[i].get_text()\n",
    "            position = position.replace('\\n', '')\n",
    "            position = position.replace(' ', '')\n",
    "            positions.append(position)\n",
    "        else:\n",
    "            continue\n",
    "    return positions"
   ]
  },
  {
   "cell_type": "code",
   "execution_count": 34,
   "metadata": {},
   "outputs": [],
   "source": [
    "def get_team(soup):\n",
    "    container = soup.find('tbody')\n",
    "    teams = []\n",
    "    for i in range(len(container.findAll('span', class_ = 'CellPlayerName-team'))):\n",
    "        if i % 2 != 0:\n",
    "            team = container.findAll('span', class_ = 'CellPlayerName-team')[i].get_text()\n",
    "            team = team.replace('\\n', '')\n",
    "            team = team.replace(' ', '')\n",
    "            teams.append(team)\n",
    "        else:\n",
    "            continue\n",
    "    return teams"
   ]
  },
  {
   "cell_type": "markdown",
   "metadata": {},
   "source": [
    "### 12 Stats"
   ]
  },
  {
   "cell_type": "code",
   "execution_count": 10,
   "metadata": {},
   "outputs": [],
   "source": [
    "def get_12first(soup):\n",
    "    container = soup.find('tbody')\n",
    "    first_col = []\n",
    "    count = 0\n",
    "    length = len(container.findAll('td', class_ = 'TableBase-bodyTd TableBase-bodyTd--number'))\n",
    "    for i in range(length):\n",
    "        if count in range(length):\n",
    "            val = container.findAll('td', class_ = 'TableBase-bodyTd TableBase-bodyTd--number')[count].get_text()\n",
    "            val = val.replace('\\n', '')\n",
    "            val = val.replace(' ', '')\n",
    "            first_col.append(val)\n",
    "        \n",
    "        count += 12    \n",
    "    return first_col"
   ]
  },
  {
   "cell_type": "code",
   "execution_count": 11,
   "metadata": {},
   "outputs": [],
   "source": [
    "def get_12second(soup):\n",
    "    container = soup.find('tbody')\n",
    "    second_col = []\n",
    "    count = 1\n",
    "    length = len(container.findAll('td', class_ = 'TableBase-bodyTd TableBase-bodyTd--number'))\n",
    "    for i in range(length):\n",
    "        if count in range(length):\n",
    "            val = container.findAll('td', class_ = 'TableBase-bodyTd TableBase-bodyTd--number')[count].get_text()\n",
    "            val = val.replace('\\n', '')\n",
    "            val = val.replace(' ', '')\n",
    "            second_col.append(val)\n",
    "        \n",
    "        count += 12    \n",
    "    return second_col"
   ]
  },
  {
   "cell_type": "code",
   "execution_count": 12,
   "metadata": {},
   "outputs": [],
   "source": [
    "def get_12third(soup):\n",
    "    container = soup.find('tbody')\n",
    "    third_col = []\n",
    "    count = 2\n",
    "    length = len(container.findAll('td', class_ = 'TableBase-bodyTd TableBase-bodyTd--number'))\n",
    "    for i in range(length):\n",
    "        if count in range(length):\n",
    "            val = container.findAll('td', class_ = 'TableBase-bodyTd TableBase-bodyTd--number')[count].get_text()\n",
    "            val = val.replace('\\n', '')\n",
    "            val = val.replace(' ', '')\n",
    "            third_col.append(val)\n",
    "        \n",
    "        count += 12    \n",
    "    return third_col"
   ]
  },
  {
   "cell_type": "code",
   "execution_count": 184,
   "metadata": {},
   "outputs": [],
   "source": [
    "def get_12fourth(soup):\n",
    "    container = soup.find('tbody')\n",
    "    fourth_col = []\n",
    "    count = 3\n",
    "    length = len(container.findAll('td', class_ = 'TableBase-bodyTd TableBase-bodyTd--number'))\n",
    "    for i in range(length):\n",
    "        if count in range(length):\n",
    "            val = container.findAll('td', class_ = 'TableBase-bodyTd TableBase-bodyTd--number')[count].get_text()\n",
    "            val = val.replace('\\n', '')\n",
    "            val = val.replace(' ', '')\n",
    "            fourth_col.append(val)\n",
    "        \n",
    "        count += 12    \n",
    "    return fourth_col"
   ]
  },
  {
   "cell_type": "code",
   "execution_count": 13,
   "metadata": {},
   "outputs": [],
   "source": [
    "def get_12fifth(soup):\n",
    "    container = soup.find('tbody')\n",
    "    fifth_col = []\n",
    "    count = 4\n",
    "    length = len(container.findAll('td', class_ = 'TableBase-bodyTd TableBase-bodyTd--number'))\n",
    "    for i in range(length):\n",
    "        if count in range(length):\n",
    "            val = container.findAll('td', class_ = 'TableBase-bodyTd TableBase-bodyTd--number')[count].get_text()\n",
    "            val = val.replace('\\n', '')\n",
    "            val = val.replace(' ', '')\n",
    "            fifth_col.append(val)\n",
    "        \n",
    "        count += 12    \n",
    "    return fifth_col"
   ]
  },
  {
   "cell_type": "code",
   "execution_count": 14,
   "metadata": {},
   "outputs": [],
   "source": [
    "def get_12sixth(soup):\n",
    "    container = soup.find('tbody')\n",
    "    sixth_col = []\n",
    "    count = 5\n",
    "    length = len(container.findAll('td', class_ = 'TableBase-bodyTd TableBase-bodyTd--number'))\n",
    "    for i in range(length):\n",
    "        if count in range(length):\n",
    "            val = container.findAll('td', class_ = 'TableBase-bodyTd TableBase-bodyTd--number')[count].get_text()\n",
    "            val = val.replace('\\n', '')\n",
    "            val = val.replace(' ', '')\n",
    "            sixth_col.append(val)\n",
    "        \n",
    "        count += 12    \n",
    "    return sixth_col"
   ]
  },
  {
   "cell_type": "code",
   "execution_count": 15,
   "metadata": {},
   "outputs": [],
   "source": [
    "def get_12seventh(soup):\n",
    "    container = soup.find('tbody')\n",
    "    seventh_col = []\n",
    "    count = 6\n",
    "    length = len(container.findAll('td', class_ = 'TableBase-bodyTd TableBase-bodyTd--number'))\n",
    "    for i in range(length):\n",
    "        if count in range(length):\n",
    "            val = container.findAll('td', class_ = 'TableBase-bodyTd TableBase-bodyTd--number')[count].get_text()\n",
    "            val = val.replace('\\n', '')\n",
    "            val = val.replace(' ', '')\n",
    "            seventh_col.append(val)\n",
    "        \n",
    "        count += 12    \n",
    "    return seventh_col"
   ]
  },
  {
   "cell_type": "code",
   "execution_count": 16,
   "metadata": {},
   "outputs": [],
   "source": [
    "def get_12eighth(soup):\n",
    "    container = soup.find('tbody')\n",
    "    eighth_col = []\n",
    "    count = 7\n",
    "    length = len(container.findAll('td', class_ = 'TableBase-bodyTd TableBase-bodyTd--number'))\n",
    "    for i in range(length):\n",
    "        if count in range(length):\n",
    "            val = container.findAll('td', class_ = 'TableBase-bodyTd TableBase-bodyTd--number')[count].get_text()\n",
    "            val = val.replace('\\n', '')\n",
    "            val = val.replace(' ', '')\n",
    "            eighth_col.append(val)\n",
    "        \n",
    "        count += 12    \n",
    "    return eighth_col"
   ]
  },
  {
   "cell_type": "code",
   "execution_count": 17,
   "metadata": {},
   "outputs": [],
   "source": [
    "def get_12ninth(soup):\n",
    "    container = soup.find('tbody')\n",
    "    ninth_col = []\n",
    "    count = 8\n",
    "    length = len(container.findAll('td', class_ = 'TableBase-bodyTd TableBase-bodyTd--number'))\n",
    "    for i in range(length):\n",
    "        if count in range(length):\n",
    "            val = container.findAll('td', class_ = 'TableBase-bodyTd TableBase-bodyTd--number')[count].get_text()\n",
    "            val = val.replace('\\n', '')\n",
    "            val = val.replace(' ', '')\n",
    "            ninth_col.append(val)\n",
    "        \n",
    "        count += 12    \n",
    "    return ninth_col"
   ]
  },
  {
   "cell_type": "code",
   "execution_count": 18,
   "metadata": {},
   "outputs": [],
   "source": [
    "def get_12tenth(soup):\n",
    "    container = soup.find('tbody')\n",
    "    tenth_col = []\n",
    "    count = 9\n",
    "    length = len(container.findAll('td', class_ = 'TableBase-bodyTd TableBase-bodyTd--number'))\n",
    "    for i in range(length):\n",
    "        if count in range(length):\n",
    "            val = container.findAll('td', class_ = 'TableBase-bodyTd TableBase-bodyTd--number')[count].get_text()\n",
    "            val = val.replace('\\n', '')\n",
    "            val = val.replace(' ', '')\n",
    "            tenth_col.append(val)\n",
    "        \n",
    "        count += 12    \n",
    "    return tenth_col"
   ]
  },
  {
   "cell_type": "code",
   "execution_count": 19,
   "metadata": {},
   "outputs": [],
   "source": [
    "def get_12eleventh(soup):\n",
    "    container = soup.find('tbody')\n",
    "    eleventh_col = []\n",
    "    count = 10\n",
    "    length = len(container.findAll('td', class_ = 'TableBase-bodyTd TableBase-bodyTd--number'))\n",
    "    for i in range(length):\n",
    "        if count in range(length):\n",
    "            val = container.findAll('td', class_ = 'TableBase-bodyTd TableBase-bodyTd--number')[count].get_text()\n",
    "            val = val.replace('\\n', '')\n",
    "            val = val.replace(' ', '')\n",
    "            eleventh_col.append(val)\n",
    "        \n",
    "        count += 12    \n",
    "    return eleventh_col"
   ]
  },
  {
   "cell_type": "code",
   "execution_count": 20,
   "metadata": {},
   "outputs": [],
   "source": [
    "def get_12twelfth(soup):\n",
    "    container = soup.find('tbody')\n",
    "    twelfth_col = []\n",
    "    count = 11\n",
    "    length = len(container.findAll('td', class_ = 'TableBase-bodyTd TableBase-bodyTd--number'))\n",
    "    for i in range(length):\n",
    "        if count in range(length):\n",
    "            val = container.findAll('td', class_ = 'TableBase-bodyTd TableBase-bodyTd--number')[count].get_text()\n",
    "            val = val.replace('\\n', '')\n",
    "            val = val.replace(' ', '')\n",
    "            twelfth_col.append(val)\n",
    "        \n",
    "        count += 12    \n",
    "    return twelfth_col"
   ]
  },
  {
   "cell_type": "markdown",
   "metadata": {},
   "source": [
    "### 7 Stats"
   ]
  },
  {
   "cell_type": "code",
   "execution_count": 26,
   "metadata": {},
   "outputs": [],
   "source": [
    "def get_7first(soup):\n",
    "    container = soup.find('tbody')\n",
    "    first_col = []\n",
    "    count = 0\n",
    "    length = len(container.findAll('td', class_ = 'TableBase-bodyTd TableBase-bodyTd--number'))\n",
    "    for i in range(length):\n",
    "        if count in range(length):\n",
    "            val = container.findAll('td', class_ = 'TableBase-bodyTd TableBase-bodyTd--number')[count].get_text()\n",
    "            val = val.replace('\\n', '')\n",
    "            val = val.replace(' ', '')\n",
    "            first_col.append(val)\n",
    "        \n",
    "        count += 7    \n",
    "    return first_col"
   ]
  },
  {
   "cell_type": "code",
   "execution_count": 23,
   "metadata": {},
   "outputs": [],
   "source": [
    "def get_7second(soup):\n",
    "    container = soup.find('tbody')\n",
    "    second_col = []\n",
    "    count = 1\n",
    "    length = len(container.findAll('td', class_ = 'TableBase-bodyTd TableBase-bodyTd--number'))\n",
    "    for i in range(length):\n",
    "        if count in range(length):\n",
    "            val = container.findAll('td', class_ = 'TableBase-bodyTd TableBase-bodyTd--number')[count].get_text()\n",
    "            val = val.replace('\\n', '')\n",
    "            val = val.replace(' ', '')\n",
    "            second_col.append(val)\n",
    "        \n",
    "        count += 7    \n",
    "    return second_col"
   ]
  },
  {
   "cell_type": "code",
   "execution_count": 25,
   "metadata": {},
   "outputs": [],
   "source": [
    "def get_7third(soup):\n",
    "    container = soup.find('tbody')\n",
    "    third_col = []\n",
    "    count = 2\n",
    "    length = len(container.findAll('td', class_ = 'TableBase-bodyTd TableBase-bodyTd--number'))\n",
    "    for i in range(length):\n",
    "        if count in range(length):\n",
    "            val = container.findAll('td', class_ = 'TableBase-bodyTd TableBase-bodyTd--number')[count].get_text()\n",
    "            val = val.replace('\\n', '')\n",
    "            val = val.replace(' ', '')\n",
    "            third_col.append(val)\n",
    "        \n",
    "        count += 7    \n",
    "    return third_col"
   ]
  },
  {
   "cell_type": "code",
   "execution_count": 24,
   "metadata": {},
   "outputs": [],
   "source": [
    "def get_7fourth(soup):\n",
    "    container = soup.find('tbody')\n",
    "    fourth_col = []\n",
    "    count = 3\n",
    "    length = len(container.findAll('td', class_ = 'TableBase-bodyTd TableBase-bodyTd--number'))\n",
    "    for i in range(length):\n",
    "        if count in range(length):\n",
    "            val = container.findAll('td', class_ = 'TableBase-bodyTd TableBase-bodyTd--number')[count].get_text()\n",
    "            val = val.replace('\\n', '')\n",
    "            val = val.replace(' ', '')\n",
    "            fourth_col.append(val)\n",
    "        \n",
    "        count += 7    \n",
    "    return fourth_col"
   ]
  },
  {
   "cell_type": "code",
   "execution_count": 27,
   "metadata": {},
   "outputs": [],
   "source": [
    "def get_7fifth(soup):\n",
    "    container = soup.find('tbody')\n",
    "    fifth_col = []\n",
    "    count = 4\n",
    "    length = len(container.findAll('td', class_ = 'TableBase-bodyTd TableBase-bodyTd--number'))\n",
    "    for i in range(length):\n",
    "        if count in range(length):\n",
    "            val = container.findAll('td', class_ = 'TableBase-bodyTd TableBase-bodyTd--number')[count].get_text()\n",
    "            val = val.replace('\\n', '')\n",
    "            val = val.replace(' ', '')\n",
    "            fifth_col.append(val)\n",
    "        \n",
    "        count += 7    \n",
    "    return fifth_col"
   ]
  },
  {
   "cell_type": "code",
   "execution_count": 28,
   "metadata": {},
   "outputs": [],
   "source": [
    "def get_7sixth(soup):\n",
    "    container = soup.find('tbody')\n",
    "    sixth_col = []\n",
    "    count = 5\n",
    "    length = len(container.findAll('td', class_ = 'TableBase-bodyTd TableBase-bodyTd--number'))\n",
    "    for i in range(length):\n",
    "        if count in range(length):\n",
    "            val = container.findAll('td', class_ = 'TableBase-bodyTd TableBase-bodyTd--number')[count].get_text()\n",
    "            val = val.replace('\\n', '')\n",
    "            val = val.replace(' ', '')\n",
    "            sixth_col.append(val)\n",
    "        \n",
    "        count += 7    \n",
    "    return sixth_col"
   ]
  },
  {
   "cell_type": "code",
   "execution_count": 29,
   "metadata": {},
   "outputs": [],
   "source": [
    "def get_7seventh(soup):\n",
    "    container = soup.find('tbody')\n",
    "    seventh_col = []\n",
    "    count = 6\n",
    "    length = len(container.findAll('td', class_ = 'TableBase-bodyTd TableBase-bodyTd--number'))\n",
    "    for i in range(length):\n",
    "        if count in range(length):\n",
    "            val = container.findAll('td', class_ = 'TableBase-bodyTd TableBase-bodyTd--number')[count].get_text()\n",
    "            val = val.replace('\\n', '')\n",
    "            val = val.replace(' ', '')\n",
    "            seventh_col.append(val)\n",
    "        \n",
    "        count += 7    \n",
    "    return seventh_col"
   ]
  },
  {
   "cell_type": "code",
   "execution_count": null,
   "metadata": {},
   "outputs": [],
   "source": []
  },
  {
   "cell_type": "markdown",
   "metadata": {},
   "source": [
    "### DataFrame Functions"
   ]
  },
  {
   "cell_type": "code",
   "execution_count": 211,
   "metadata": {},
   "outputs": [],
   "source": [
    "def get_passing(url):\n",
    "    html = requests.get(url)\n",
    "    soup = BeautifulSoup(html.content, 'html.parser')\n",
    "    \n",
    "    passing_df['PLAYER'] = get_name(soup)\n",
    "    passing_df['POSITION'] = get_position(soup)\n",
    "    passing_df['TEAM'] = get_team(soup)\n",
    "    passing_df['GP'] = get_12first(soup)\n",
    "    passing_df['ATT'] = get_12second(soup)\n",
    "    passing_df['CMP'] = get_12third(soup)\n",
    "    passing_df['PCT'] = get_12fourth(soup)\n",
    "    passing_df['YDS'] = get_12fifth(soup)\n",
    "    passing_df['YDSpG'] = get_12sixth(soup)\n",
    "    passing_df['LNG'] = get_12seventh(soup)\n",
    "    passing_df['TD'] = get_12eighth(soup)\n",
    "    passing_df['INT'] = get_12ninth(soup)\n",
    "    passing_df['SCK'] = get_12tenth(soup)\n",
    "    passing_df['YDSL'] = get_12eleventh(soup)\n",
    "    passing_df['RATE'] = get_12twelfth(soup)    "
   ]
  },
  {
   "cell_type": "code",
   "execution_count": 22,
   "metadata": {},
   "outputs": [],
   "source": [
    "def get_kicking(url):\n",
    "    html = requests.get(url)\n",
    "    soup = BeautifulSoup(html.content, 'html.parser')\n",
    "    \n",
    "    kicking_df['PLAYER'] = get_name(soup)\n",
    "    kicking_df['POSITION'] = get_position(soup)\n",
    "    kicking_df['TEAM'] = get_team(soup)\n",
    "    kicking_df['GP'] = get_12first(soup)\n",
    "    kicking_df['FGM_A'] = get_12second(soup)\n",
    "    kicking_df['FG%'] = get_12third(soup)\n",
    "    kicking_df['LNG'] = get_12fourth(soup)\n",
    "    kicking_df['_1_19'] = get_12fifth(soup)\n",
    "    kicking_df['_20_29'] = get_12sixth(soup)\n",
    "    kicking_df['_30_39'] = get_12seventh(soup)\n",
    "    kicking_df['_40_49'] = get_12eighth(soup)\n",
    "    kicking_df['OVER50'] = get_12ninth(soup)\n",
    "    kicking_df['XPM_A'] = get_12tenth(soup)\n",
    "    kicking_df['XP%'] = get_12eleventh(soup)\n",
    "    kicking_df['PTS'] = get_12twelfth(soup)    "
   ]
  },
  {
   "cell_type": "code",
   "execution_count": 41,
   "metadata": {},
   "outputs": [],
   "source": [
    "def get_rushing(url_list):\n",
    "    name_list = []\n",
    "    position_list = []\n",
    "    team_list = []\n",
    "    gp_list = []\n",
    "    att_list = []\n",
    "    yds_list = []\n",
    "    ydspg_list = []\n",
    "    avg_list = []\n",
    "    td_list = []\n",
    "    lng_list = []\n",
    "    \n",
    "    \n",
    "    for url in url_list:\n",
    "        html = requests.get(url)\n",
    "        soup = BeautifulSoup(html.content, 'html.parser')\n",
    "    \n",
    "        name_list += get_name(soup)\n",
    "        position_list += get_position(soup)\n",
    "        team_list += get_team(soup)\n",
    "        gp_list += get_7first(soup)\n",
    "        att_list += get_7second(soup)\n",
    "        yds_list += get_7third(soup)\n",
    "        ydspg_list += get_7fourth(soup)\n",
    "        avg_list += get_7fifth(soup)\n",
    "        td_list += get_7sixth(soup)\n",
    "        lng_list += get_7seventh(soup)\n",
    "    \n",
    "    rushing_df['PLAYER'] = name_list\n",
    "    rushing_df['POSITION'] = position_list\n",
    "    rushing_df['TEAM'] = team_list\n",
    "    rushing_df['GP'] = gp_list\n",
    "    rushing_df['ATT'] = att_list\n",
    "    rushing_df['YDS'] = yds_list\n",
    "    rushing_df['YDSpG'] = ydspg_list\n",
    "    rushing_df['AVG'] = avg_list\n",
    "    rushing_df['TD'] = td_list\n",
    "    rushing_df['LNG'] = lng_list"
   ]
  },
  {
   "cell_type": "code",
   "execution_count": 43,
   "metadata": {},
   "outputs": [],
   "source": [
    "def get_receiving(url_list):\n",
    "    name_list = []\n",
    "    position_list = []\n",
    "    team_list = []\n",
    "    gp_list = []\n",
    "    rec_list = []\n",
    "    yds_list = []\n",
    "    ydspg_list = []\n",
    "    avg_list = []\n",
    "    lng_list = []\n",
    "    td_list = []\n",
    "    \n",
    "    for url in url_list:\n",
    "        html = requests.get(url)\n",
    "        soup = BeautifulSoup(html.content, 'html.parser')\n",
    "    \n",
    "        name_list += get_name(soup)\n",
    "        position_list += get_position(soup)\n",
    "        team_list += get_team(soup)\n",
    "        gp_list += get_7first(soup)\n",
    "        rec_list += get_7second(soup)\n",
    "        yds_list += get_7third(soup)\n",
    "        ydspg_list += get_7fourth(soup)\n",
    "        avg_list += get_7fifth(soup)\n",
    "        lng_list += get_7sixth(soup)\n",
    "        td_list += get_7seventh(soup)\n",
    "    \n",
    "    receiving_df['PLAYER'] = name_list\n",
    "    receiving_df['POSITION'] = position_list\n",
    "    receiving_df['TEAM'] = team_list\n",
    "    receiving_df['GP'] = gp_list\n",
    "    receiving_df['REC'] = att_list\n",
    "    receiving_df['YDS'] = yds_list\n",
    "    receiving_df['YDSpG'] = ydspg_list\n",
    "    receiving_df['AVG'] = avg_list\n",
    "    receiving_df['LNG'] = lng_list\n",
    "    receiving_df['TD'] = td_list"
   ]
  },
  {
   "cell_type": "code",
   "execution_count": null,
   "metadata": {},
   "outputs": [],
   "source": [
    "def get_defense(url_list):\n",
    "    name_list = []\n",
    "    position_list = []\n",
    "    team_list = []\n",
    "    gp_list = []\n",
    "    stk_list = []\n",
    "    atk_list = []\n",
    "    cmb_list = []\n",
    "    int_list = []\n",
    "    yds_list = []\n",
    "    lng_list = []\n",
    "    td_list = []\n",
    "    fum_list = []\n",
    "    frec_list = []\n",
    "    ftd_list = []\n",
    "    sck_list = []    \n",
    "    pdef_list = []    \n",
    "    sfty_list = []\n",
    "    \n",
    "    \n",
    "    for url in url_list:\n",
    "        html = requests.get(url)\n",
    "        soup = BeautifulSoup(html.content, 'html.parser')\n",
    "    \n",
    "        name_list += get_name(soup)\n",
    "        position_list += get_position(soup)\n",
    "        team_list += get_team(soup)\n",
    "        gp_list += get_14first(soup)\n",
    "        stk_list += get_14second(soup)\n",
    "        atk_list += get_14third(soup)\n",
    "        cmb_list += get_14fourth(soup)\n",
    "        int_list += get_14fifth(soup)\n",
    "        yds_list += get_14sixth(soup)\n",
    "        lng_list += get_14seventh(soup)\n",
    "        td_list +=\n",
    "        fum_list +=\n",
    "        frec_list +=\n",
    "        ftd_list +=\n",
    "        sck_list +=\n",
    "        pdef_list +=\n",
    "        sfty_list +=\n",
    "    \n",
    "    defense_df['PLAYER'] = name_list\n",
    "    defense_df['POSITION'] = position_list\n",
    "    defense_df['TEAM'] = team_list\n",
    "    defense_df['GP'] = gp_list\n",
    "    defense_df['STK'] = stk_list\n",
    "    defense_df['ATK'] = atk_list\n",
    "    defense_df['CMB'] = cmb_list\n",
    "    defense_df['INT'] = int_list\n",
    "    defense_df['YDS'] = yds_list\n",
    "    defense_df['LNG'] = lng_list\n",
    "    defense_df['TD'] = td_list\n",
    "    defense_df['FMB'] = fum_list\n",
    "    defense_df['FREC'] = frec_list\n",
    "    defense_df['FTD'] = ftd_list\n",
    "    defense_df['SCK'] = sck_list\n",
    "    defense_df['PDEF'] =pdef_list\n",
    "    defense_df['SFTY'] = sfty_list"
   ]
  },
  {
   "cell_type": "code",
   "execution_count": 44,
   "metadata": {},
   "outputs": [
    {
     "data": {
      "text/plain": [
       "Index(['PLAYER', 'POSITION', 'TEAM', 'GP', 'STK', 'ATK', 'CMB', 'INT', 'YDS',\n",
       "       'LNG', 'TD', 'FUM', 'FREC', 'FTD', 'SCK', 'PDEF', 'SFTY'],\n",
       "      dtype='object')"
      ]
     },
     "execution_count": 44,
     "metadata": {},
     "output_type": "execute_result"
    }
   ],
   "source": [
    "defense_df.columns"
   ]
  },
  {
   "cell_type": "code",
   "execution_count": 36,
   "metadata": {},
   "outputs": [],
   "source": [
    "url = 'https://www.cbssports.com/nfl/stats/player/kicking/nfl/regular/all/'\n",
    "html = requests.get(url)\n",
    "soup = BeautifulSoup(html.content, 'html.parser')"
   ]
  },
  {
   "cell_type": "code",
   "execution_count": 45,
   "metadata": {},
   "outputs": [
    {
     "ename": "ValueError",
     "evalue": "Length of values does not match length of index",
     "output_type": "error",
     "traceback": [
      "\u001b[0;31m---------------------------------------------------------------------------\u001b[0m",
      "\u001b[0;31mValueError\u001b[0m                                Traceback (most recent call last)",
      "\u001b[0;32m<ipython-input-45-a18adde090d3>\u001b[0m in \u001b[0;36m<module>\u001b[0;34m\u001b[0m\n\u001b[0;32m----> 1\u001b[0;31m \u001b[0mget_kicking\u001b[0m\u001b[0;34m(\u001b[0m\u001b[0murl\u001b[0m\u001b[0;34m)\u001b[0m\u001b[0;34m\u001b[0m\u001b[0;34m\u001b[0m\u001b[0m\n\u001b[0m",
      "\u001b[0;32m<ipython-input-22-a8b0d6f54446>\u001b[0m in \u001b[0;36mget_kicking\u001b[0;34m(url)\u001b[0m\n\u001b[1;32m      6\u001b[0m     \u001b[0mkicking_df\u001b[0m\u001b[0;34m[\u001b[0m\u001b[0;34m'POSITION'\u001b[0m\u001b[0;34m]\u001b[0m \u001b[0;34m=\u001b[0m \u001b[0mget_position\u001b[0m\u001b[0;34m(\u001b[0m\u001b[0msoup\u001b[0m\u001b[0;34m)\u001b[0m\u001b[0;34m\u001b[0m\u001b[0;34m\u001b[0m\u001b[0m\n\u001b[1;32m      7\u001b[0m     \u001b[0mkicking_df\u001b[0m\u001b[0;34m[\u001b[0m\u001b[0;34m'TEAM'\u001b[0m\u001b[0;34m]\u001b[0m \u001b[0;34m=\u001b[0m \u001b[0mget_team\u001b[0m\u001b[0;34m(\u001b[0m\u001b[0msoup\u001b[0m\u001b[0;34m)\u001b[0m\u001b[0;34m\u001b[0m\u001b[0;34m\u001b[0m\u001b[0m\n\u001b[0;32m----> 8\u001b[0;31m     \u001b[0mkicking_df\u001b[0m\u001b[0;34m[\u001b[0m\u001b[0;34m'GP'\u001b[0m\u001b[0;34m]\u001b[0m \u001b[0;34m=\u001b[0m \u001b[0mget_12first\u001b[0m\u001b[0;34m(\u001b[0m\u001b[0msoup\u001b[0m\u001b[0;34m)\u001b[0m\u001b[0;34m\u001b[0m\u001b[0;34m\u001b[0m\u001b[0m\n\u001b[0m\u001b[1;32m      9\u001b[0m     \u001b[0mkicking_df\u001b[0m\u001b[0;34m[\u001b[0m\u001b[0;34m'FGM_A'\u001b[0m\u001b[0;34m]\u001b[0m \u001b[0;34m=\u001b[0m \u001b[0mget_12second\u001b[0m\u001b[0;34m(\u001b[0m\u001b[0msoup\u001b[0m\u001b[0;34m)\u001b[0m\u001b[0;34m\u001b[0m\u001b[0;34m\u001b[0m\u001b[0m\n\u001b[1;32m     10\u001b[0m     \u001b[0mkicking_df\u001b[0m\u001b[0;34m[\u001b[0m\u001b[0;34m'FG%'\u001b[0m\u001b[0;34m]\u001b[0m \u001b[0;34m=\u001b[0m \u001b[0mget_12third\u001b[0m\u001b[0;34m(\u001b[0m\u001b[0msoup\u001b[0m\u001b[0;34m)\u001b[0m\u001b[0;34m\u001b[0m\u001b[0;34m\u001b[0m\u001b[0m\n",
      "\u001b[0;32m/opt/anaconda3/lib/python3.7/site-packages/pandas/core/frame.py\u001b[0m in \u001b[0;36m__setitem__\u001b[0;34m(self, key, value)\u001b[0m\n\u001b[1;32m   2936\u001b[0m         \u001b[0;32melse\u001b[0m\u001b[0;34m:\u001b[0m\u001b[0;34m\u001b[0m\u001b[0;34m\u001b[0m\u001b[0m\n\u001b[1;32m   2937\u001b[0m             \u001b[0;31m# set column\u001b[0m\u001b[0;34m\u001b[0m\u001b[0;34m\u001b[0m\u001b[0;34m\u001b[0m\u001b[0m\n\u001b[0;32m-> 2938\u001b[0;31m             \u001b[0mself\u001b[0m\u001b[0;34m.\u001b[0m\u001b[0m_set_item\u001b[0m\u001b[0;34m(\u001b[0m\u001b[0mkey\u001b[0m\u001b[0;34m,\u001b[0m \u001b[0mvalue\u001b[0m\u001b[0;34m)\u001b[0m\u001b[0;34m\u001b[0m\u001b[0;34m\u001b[0m\u001b[0m\n\u001b[0m\u001b[1;32m   2939\u001b[0m \u001b[0;34m\u001b[0m\u001b[0m\n\u001b[1;32m   2940\u001b[0m     \u001b[0;32mdef\u001b[0m \u001b[0m_setitem_slice\u001b[0m\u001b[0;34m(\u001b[0m\u001b[0mself\u001b[0m\u001b[0;34m,\u001b[0m \u001b[0mkey\u001b[0m\u001b[0;34m,\u001b[0m \u001b[0mvalue\u001b[0m\u001b[0;34m)\u001b[0m\u001b[0;34m:\u001b[0m\u001b[0;34m\u001b[0m\u001b[0;34m\u001b[0m\u001b[0m\n",
      "\u001b[0;32m/opt/anaconda3/lib/python3.7/site-packages/pandas/core/frame.py\u001b[0m in \u001b[0;36m_set_item\u001b[0;34m(self, key, value)\u001b[0m\n\u001b[1;32m   2998\u001b[0m \u001b[0;34m\u001b[0m\u001b[0m\n\u001b[1;32m   2999\u001b[0m         \u001b[0mself\u001b[0m\u001b[0;34m.\u001b[0m\u001b[0m_ensure_valid_index\u001b[0m\u001b[0;34m(\u001b[0m\u001b[0mvalue\u001b[0m\u001b[0;34m)\u001b[0m\u001b[0;34m\u001b[0m\u001b[0;34m\u001b[0m\u001b[0m\n\u001b[0;32m-> 3000\u001b[0;31m         \u001b[0mvalue\u001b[0m \u001b[0;34m=\u001b[0m \u001b[0mself\u001b[0m\u001b[0;34m.\u001b[0m\u001b[0m_sanitize_column\u001b[0m\u001b[0;34m(\u001b[0m\u001b[0mkey\u001b[0m\u001b[0;34m,\u001b[0m \u001b[0mvalue\u001b[0m\u001b[0;34m)\u001b[0m\u001b[0;34m\u001b[0m\u001b[0;34m\u001b[0m\u001b[0m\n\u001b[0m\u001b[1;32m   3001\u001b[0m         \u001b[0mNDFrame\u001b[0m\u001b[0;34m.\u001b[0m\u001b[0m_set_item\u001b[0m\u001b[0;34m(\u001b[0m\u001b[0mself\u001b[0m\u001b[0;34m,\u001b[0m \u001b[0mkey\u001b[0m\u001b[0;34m,\u001b[0m \u001b[0mvalue\u001b[0m\u001b[0;34m)\u001b[0m\u001b[0;34m\u001b[0m\u001b[0;34m\u001b[0m\u001b[0m\n\u001b[1;32m   3002\u001b[0m \u001b[0;34m\u001b[0m\u001b[0m\n",
      "\u001b[0;32m/opt/anaconda3/lib/python3.7/site-packages/pandas/core/frame.py\u001b[0m in \u001b[0;36m_sanitize_column\u001b[0;34m(self, key, value, broadcast)\u001b[0m\n\u001b[1;32m   3634\u001b[0m \u001b[0;34m\u001b[0m\u001b[0m\n\u001b[1;32m   3635\u001b[0m             \u001b[0;31m# turn me into an ndarray\u001b[0m\u001b[0;34m\u001b[0m\u001b[0;34m\u001b[0m\u001b[0;34m\u001b[0m\u001b[0m\n\u001b[0;32m-> 3636\u001b[0;31m             \u001b[0mvalue\u001b[0m \u001b[0;34m=\u001b[0m \u001b[0msanitize_index\u001b[0m\u001b[0;34m(\u001b[0m\u001b[0mvalue\u001b[0m\u001b[0;34m,\u001b[0m \u001b[0mself\u001b[0m\u001b[0;34m.\u001b[0m\u001b[0mindex\u001b[0m\u001b[0;34m,\u001b[0m \u001b[0mcopy\u001b[0m\u001b[0;34m=\u001b[0m\u001b[0;32mFalse\u001b[0m\u001b[0;34m)\u001b[0m\u001b[0;34m\u001b[0m\u001b[0;34m\u001b[0m\u001b[0m\n\u001b[0m\u001b[1;32m   3637\u001b[0m             \u001b[0;32mif\u001b[0m \u001b[0;32mnot\u001b[0m \u001b[0misinstance\u001b[0m\u001b[0;34m(\u001b[0m\u001b[0mvalue\u001b[0m\u001b[0;34m,\u001b[0m \u001b[0;34m(\u001b[0m\u001b[0mnp\u001b[0m\u001b[0;34m.\u001b[0m\u001b[0mndarray\u001b[0m\u001b[0;34m,\u001b[0m \u001b[0mIndex\u001b[0m\u001b[0;34m)\u001b[0m\u001b[0;34m)\u001b[0m\u001b[0;34m:\u001b[0m\u001b[0;34m\u001b[0m\u001b[0;34m\u001b[0m\u001b[0m\n\u001b[1;32m   3638\u001b[0m                 \u001b[0;32mif\u001b[0m \u001b[0misinstance\u001b[0m\u001b[0;34m(\u001b[0m\u001b[0mvalue\u001b[0m\u001b[0;34m,\u001b[0m \u001b[0mlist\u001b[0m\u001b[0;34m)\u001b[0m \u001b[0;32mand\u001b[0m \u001b[0mlen\u001b[0m\u001b[0;34m(\u001b[0m\u001b[0mvalue\u001b[0m\u001b[0;34m)\u001b[0m \u001b[0;34m>\u001b[0m \u001b[0;36m0\u001b[0m\u001b[0;34m:\u001b[0m\u001b[0;34m\u001b[0m\u001b[0;34m\u001b[0m\u001b[0m\n",
      "\u001b[0;32m/opt/anaconda3/lib/python3.7/site-packages/pandas/core/internals/construction.py\u001b[0m in \u001b[0;36msanitize_index\u001b[0;34m(data, index, copy)\u001b[0m\n\u001b[1;32m    609\u001b[0m \u001b[0;34m\u001b[0m\u001b[0m\n\u001b[1;32m    610\u001b[0m     \u001b[0;32mif\u001b[0m \u001b[0mlen\u001b[0m\u001b[0;34m(\u001b[0m\u001b[0mdata\u001b[0m\u001b[0;34m)\u001b[0m \u001b[0;34m!=\u001b[0m \u001b[0mlen\u001b[0m\u001b[0;34m(\u001b[0m\u001b[0mindex\u001b[0m\u001b[0;34m)\u001b[0m\u001b[0;34m:\u001b[0m\u001b[0;34m\u001b[0m\u001b[0;34m\u001b[0m\u001b[0m\n\u001b[0;32m--> 611\u001b[0;31m         \u001b[0;32mraise\u001b[0m \u001b[0mValueError\u001b[0m\u001b[0;34m(\u001b[0m\u001b[0;34m\"Length of values does not match length of index\"\u001b[0m\u001b[0;34m)\u001b[0m\u001b[0;34m\u001b[0m\u001b[0;34m\u001b[0m\u001b[0m\n\u001b[0m\u001b[1;32m    612\u001b[0m \u001b[0;34m\u001b[0m\u001b[0m\n\u001b[1;32m    613\u001b[0m     \u001b[0;32mif\u001b[0m \u001b[0misinstance\u001b[0m\u001b[0;34m(\u001b[0m\u001b[0mdata\u001b[0m\u001b[0;34m,\u001b[0m \u001b[0mABCIndexClass\u001b[0m\u001b[0;34m)\u001b[0m \u001b[0;32mand\u001b[0m \u001b[0;32mnot\u001b[0m \u001b[0mcopy\u001b[0m\u001b[0;34m:\u001b[0m\u001b[0;34m\u001b[0m\u001b[0;34m\u001b[0m\u001b[0m\n",
      "\u001b[0;31mValueError\u001b[0m: Length of values does not match length of index"
     ]
    }
   ],
   "source": [
    "get_kicking(url)"
   ]
  },
  {
   "cell_type": "code",
   "execution_count": 47,
   "metadata": {},
   "outputs": [
    {
     "data": {
      "text/plain": [
       "41"
      ]
     },
     "execution_count": 47,
     "metadata": {},
     "output_type": "execute_result"
    }
   ],
   "source": [
    "len(get_12first(soup))"
   ]
  },
  {
   "cell_type": "code",
   "execution_count": 53,
   "metadata": {},
   "outputs": [
    {
     "data": {
      "text/plain": [
       "41"
      ]
     },
     "execution_count": 53,
     "metadata": {},
     "output_type": "execute_result"
    }
   ],
   "source": [
    "len(get_12second(soup))"
   ]
  },
  {
   "cell_type": "code",
   "execution_count": 48,
   "metadata": {},
   "outputs": [
    {
     "data": {
      "text/plain": [
       "40"
      ]
     },
     "execution_count": 48,
     "metadata": {},
     "output_type": "execute_result"
    }
   ],
   "source": [
    "len(get_name(soup))"
   ]
  },
  {
   "cell_type": "code",
   "execution_count": 52,
   "metadata": {},
   "outputs": [
    {
     "data": {
      "text/plain": [
       "['Mason Crosby',\n",
       " 'Matt Prater',\n",
       " 'Harrison Butker',\n",
       " 'Daniel Carlson',\n",
       " 'Wil Lutz',\n",
       " 'Joey Slye',\n",
       " 'Tyler Bass',\n",
       " 'Dustin Hopkins',\n",
       " 'Josh Lambo',\n",
       " 'Cairo Santos',\n",
       " 'Rodrigo Blankenship',\n",
       " 'Chris Boswell',\n",
       " 'Robbie Gould',\n",
       " 'Jason Myers',\n",
       " 'Sam Sloman',\n",
       " 'Justin Tucker',\n",
       " 'Randy Bullock',\n",
       " 'Younghoe Koo',\n",
       " 'Zane Gonzalez',\n",
       " 'Jake Elliott',\n",
       " 'Sam Ficken',\n",
       " 'Ryan Succop',\n",
       " 'Greg Zuerlein',\n",
       " 'Dan Bailey',\n",
       " 'Graham Gano',\n",
       " 'Stephen Gostkowski',\n",
       " 'Nick Folk',\n",
       " 'Jason Sanders',\n",
       " \"Ka'imi Fairbairn\",\n",
       " 'Brandon McManus',\n",
       " 'Jake Bailey',\n",
       " 'Britton Colquitt',\n",
       " 'Logan Cooke',\n",
       " 'Jack Fox',\n",
       " 'Ty Long',\n",
       " 'Thomas Morstead',\n",
       " 'Bradley Pinion',\n",
       " 'Rigoberto Sanchez',\n",
       " 'Austin Seibert',\n",
       " 'Mitch Wishnowsky']"
      ]
     },
     "execution_count": 52,
     "metadata": {},
     "output_type": "execute_result"
    }
   ],
   "source": [
    "get_name(soup)"
   ]
  },
  {
   "cell_type": "code",
   "execution_count": 38,
   "metadata": {
    "scrolled": false
   },
   "outputs": [],
   "source": [
    "name_list = []\n",
    "name_list += get_name(soup)"
   ]
  },
  {
   "cell_type": "code",
   "execution_count": 39,
   "metadata": {},
   "outputs": [
    {
     "data": {
      "text/plain": [
       "['Mason Crosby',\n",
       " 'Matt Prater',\n",
       " 'Harrison Butker',\n",
       " 'Daniel Carlson',\n",
       " 'Wil Lutz',\n",
       " 'Joey Slye',\n",
       " 'Tyler Bass',\n",
       " 'Dustin Hopkins',\n",
       " 'Josh Lambo',\n",
       " 'Cairo Santos',\n",
       " 'Rodrigo Blankenship',\n",
       " 'Chris Boswell',\n",
       " 'Robbie Gould',\n",
       " 'Jason Myers',\n",
       " 'Sam Sloman',\n",
       " 'Justin Tucker',\n",
       " 'Randy Bullock',\n",
       " 'Younghoe Koo',\n",
       " 'Zane Gonzalez',\n",
       " 'Jake Elliott',\n",
       " 'Sam Ficken',\n",
       " 'Ryan Succop',\n",
       " 'Greg Zuerlein',\n",
       " 'Dan Bailey',\n",
       " 'Graham Gano',\n",
       " 'Stephen Gostkowski',\n",
       " 'Nick Folk',\n",
       " 'Jason Sanders',\n",
       " \"Ka'imi Fairbairn\",\n",
       " 'Brandon McManus',\n",
       " 'Jake Bailey',\n",
       " 'Britton Colquitt',\n",
       " 'Logan Cooke',\n",
       " 'Jack Fox',\n",
       " 'Ty Long',\n",
       " 'Thomas Morstead',\n",
       " 'Bradley Pinion',\n",
       " 'Rigoberto Sanchez',\n",
       " 'Austin Seibert',\n",
       " 'Mitch Wishnowsky']"
      ]
     },
     "execution_count": 39,
     "metadata": {},
     "output_type": "execute_result"
    }
   ],
   "source": [
    "name_list"
   ]
  },
  {
   "cell_type": "code",
   "execution_count": 66,
   "metadata": {},
   "outputs": [
    {
     "data": {
      "text/plain": [
       "[<a class=\"\" href=\"/nfl/players/playerpage/408969/mason-crosby\">M. Crosby</a>,\n",
       " <a class=\"\" href=\"/nfl/players/playerpage/408969/mason-crosby\">Mason Crosby</a>,\n",
       " <a class=\"\" href=\"/nfl/players/playerpage/1109832/matt-prater\">M. Prater</a>,\n",
       " <a class=\"\" href=\"/nfl/players/playerpage/1109832/matt-prater\">Matt Prater</a>,\n",
       " <a class=\"\" href=\"/nfl/players/playerpage/2078888/harrison-butker\">H. Butker</a>,\n",
       " <a class=\"\" href=\"/nfl/players/playerpage/2078888/harrison-butker\">Harrison Butker</a>,\n",
       " <a class=\"\" href=\"/nfl/players/playerpage/2079862/daniel-carlson\">D. Carlson</a>,\n",
       " <a class=\"\" href=\"/nfl/players/playerpage/2079862/daniel-carlson\">Daniel Carlson</a>,\n",
       " <a class=\"\" href=\"/nfl/players/playerpage/2008545/wil-lutz\">W. Lutz</a>,\n",
       " <a class=\"\" href=\"/nfl/players/playerpage/2008545/wil-lutz\">Wil Lutz</a>,\n",
       " <a class=\"\" href=\"/nfl/players/playerpage/3116871/joey-slye\">J. Slye</a>,\n",
       " <a class=\"\" href=\"/nfl/players/playerpage/3116871/joey-slye\">Joey Slye</a>,\n",
       " <a class=\"\" href=\"/nfl/players/playerpage/2188356/tyler-bass\">T. Bass</a>,\n",
       " <a class=\"\" href=\"/nfl/players/playerpage/2188356/tyler-bass\">Tyler Bass</a>,\n",
       " <a class=\"\" href=\"/nfl/players/playerpage/1664151/dustin-hopkins\">D. Hopkins</a>,\n",
       " <a class=\"\" href=\"/nfl/players/playerpage/1664151/dustin-hopkins\">Dustin Hopkins</a>,\n",
       " <a class=\"\" href=\"/nfl/players/playerpage/2013049/josh-lambo\">J. Lambo</a>,\n",
       " <a class=\"\" href=\"/nfl/players/playerpage/2013049/josh-lambo\">Josh Lambo</a>,\n",
       " <a class=\"\" href=\"/nfl/players/playerpage/2132690/cairo-santos\">C. Santos</a>,\n",
       " <a class=\"\" href=\"/nfl/players/playerpage/2132690/cairo-santos\">Cairo Santos</a>,\n",
       " <a class=\"\" href=\"/nfl/players/playerpage/2183949/rodrigo-blankenship\">R. Blankenship</a>,\n",
       " <a class=\"\" href=\"/nfl/players/playerpage/2183949/rodrigo-blankenship\">Rodrigo Blankenship</a>,\n",
       " <a class=\"\" href=\"/nfl/players/playerpage/1724930/chris-boswell\">C. Boswell</a>,\n",
       " <a class=\"\" href=\"/nfl/players/playerpage/1724930/chris-boswell\">Chris Boswell</a>,\n",
       " <a class=\"\" href=\"/nfl/players/playerpage/553121/robbie-gould\">R. Gould</a>,\n",
       " <a class=\"\" href=\"/nfl/players/playerpage/553121/robbie-gould\">Robbie Gould</a>,\n",
       " <a class=\"\" href=\"/nfl/players/playerpage/2169640/jason-myers\">J. Myers</a>,\n",
       " <a class=\"\" href=\"/nfl/players/playerpage/2169640/jason-myers\">Jason Myers</a>,\n",
       " <a class=\"\" href=\"/nfl/players/playerpage/2240109/sam-sloman\">S. Sloman</a>,\n",
       " <a class=\"\" href=\"/nfl/players/playerpage/2240109/sam-sloman\">Sam Sloman</a>,\n",
       " <a class=\"\" href=\"/nfl/players/playerpage/1985374/justin-tucker\">J. Tucker</a>,\n",
       " <a class=\"\" href=\"/nfl/players/playerpage/1985374/justin-tucker\">Justin Tucker</a>,\n",
       " <a class=\"\" href=\"/nfl/players/playerpage/1632503/randy-bullock\">R. Bullock</a>,\n",
       " <a class=\"\" href=\"/nfl/players/playerpage/1632503/randy-bullock\">Randy Bullock</a>,\n",
       " <a class=\"\" href=\"/nfl/players/playerpage/2820093/younghoe-koo\">Y. Koo</a>,\n",
       " <a class=\"\" href=\"/nfl/players/playerpage/2820093/younghoe-koo\">Younghoe Koo</a>,\n",
       " <a class=\"\" href=\"/nfl/players/playerpage/2061033/zane-gonzalez\">Z. Gonzalez</a>,\n",
       " <a class=\"\" href=\"/nfl/players/playerpage/2061033/zane-gonzalez\">Zane Gonzalez</a>,\n",
       " <a class=\"\" href=\"/nfl/players/playerpage/2080295/jake-elliott\">J. Elliott</a>,\n",
       " <a class=\"\" href=\"/nfl/players/playerpage/2080295/jake-elliott\">Jake Elliott</a>,\n",
       " <a class=\"\" href=\"/nfl/players/playerpage/1889916/sam-ficken\">S. Ficken</a>,\n",
       " <a class=\"\" href=\"/nfl/players/playerpage/1889916/sam-ficken\">Sam Ficken</a>,\n",
       " <a class=\"\" href=\"/nfl/players/playerpage/1674148/ryan-succop\">R. Succop</a>,\n",
       " <a class=\"\" href=\"/nfl/players/playerpage/1674148/ryan-succop\">Ryan Succop</a>,\n",
       " <a class=\"\" href=\"/nfl/players/playerpage/1971893/greg-zuerlein\">G. Zuerlein</a>,\n",
       " <a class=\"\" href=\"/nfl/players/playerpage/1971893/greg-zuerlein\">Greg Zuerlein</a>,\n",
       " <a class=\"\" href=\"/nfl/players/playerpage/1689664/dan-bailey\">D. Bailey</a>,\n",
       " <a class=\"\" href=\"/nfl/players/playerpage/1689664/dan-bailey\">Dan Bailey</a>,\n",
       " <a class=\"\" href=\"/nfl/players/playerpage/558839/graham-gano\">G. Gano</a>,\n",
       " <a class=\"\" href=\"/nfl/players/playerpage/558839/graham-gano\">Graham Gano</a>,\n",
       " <a class=\"\" href=\"/nfl/players/playerpage/411579/stephen-gostkowski\">S. Gostkowski</a>,\n",
       " <a class=\"\" href=\"/nfl/players/playerpage/411579/stephen-gostkowski\">Stephen Gostkowski</a>,\n",
       " <a class=\"\" href=\"/nfl/players/playerpage/410721/nick-folk\">N. Folk</a>,\n",
       " <a class=\"\" href=\"/nfl/players/playerpage/410721/nick-folk\">Nick Folk</a>,\n",
       " <a class=\"\" href=\"/nfl/players/playerpage/2131909/jason-sanders\">J. Sanders</a>,\n",
       " <a class=\"\" href=\"/nfl/players/playerpage/2131909/jason-sanders\">Jason Sanders</a>,\n",
       " <a class=\"\" href=\"/nfl/players/playerpage/1996562/kaimi-fairbairn\">K. Fairbairn</a>,\n",
       " <a class=\"\" href=\"/nfl/players/playerpage/1996562/kaimi-fairbairn\">Ka'imi Fairbairn</a>,\n",
       " <a class=\"\" href=\"/nfl/players/playerpage/2058320/brandon-mcmanus\">B. McManus</a>,\n",
       " <a class=\"\" href=\"/nfl/players/playerpage/2058320/brandon-mcmanus\">Brandon McManus</a>,\n",
       " <a class=\"\" href=\"/nfl/players/playerpage/2186821/jake-bailey\">J. Bailey</a>,\n",
       " <a class=\"\" href=\"/nfl/players/playerpage/2186821/jake-bailey\">Jake Bailey</a>,\n",
       " <a class=\"\" href=\"/nfl/players/playerpage/518635/britton-colquitt\">B. Colquitt</a>,\n",
       " <a class=\"\" href=\"/nfl/players/playerpage/518635/britton-colquitt\">Britton Colquitt</a>,\n",
       " <a class=\"\" href=\"/nfl/players/playerpage/2139820/logan-cooke\">L. Cooke</a>,\n",
       " <a class=\"\" href=\"/nfl/players/playerpage/2139820/logan-cooke\">Logan Cooke</a>,\n",
       " <a class=\"\" href=\"/nfl/players/playerpage/2180739/jack-fox\">J. Fox</a>,\n",
       " <a class=\"\" href=\"/nfl/players/playerpage/2180739/jack-fox\">Jack Fox</a>,\n",
       " <a class=\"\" href=\"/nfl/players/playerpage/2174774/ty-long\">T. Long</a>,\n",
       " <a class=\"\" href=\"/nfl/players/playerpage/2174774/ty-long\">Ty Long</a>,\n",
       " <a class=\"\" href=\"/nfl/players/playerpage/520362/thomas-morstead\">T. Morstead</a>,\n",
       " <a class=\"\" href=\"/nfl/players/playerpage/520362/thomas-morstead\">Thomas Morstead</a>,\n",
       " <a class=\"\" href=\"/nfl/players/playerpage/1983525/bradley-pinion\">B. Pinion</a>,\n",
       " <a class=\"\" href=\"/nfl/players/playerpage/1983525/bradley-pinion\">Bradley Pinion</a>,\n",
       " <a class=\"\" href=\"/nfl/players/playerpage/2818657/rigoberto-sanchez\">R. Sanchez</a>,\n",
       " <a class=\"\" href=\"/nfl/players/playerpage/2818657/rigoberto-sanchez\">Rigoberto Sanchez</a>,\n",
       " <a class=\"\" href=\"/nfl/players/playerpage/2179668/austin-seibert\">A. Seibert</a>,\n",
       " <a class=\"\" href=\"/nfl/players/playerpage/2179668/austin-seibert\">Austin Seibert</a>,\n",
       " <a class=\"\" href=\"/nfl/players/playerpage/2240526/mitch-wishnowsky\">M. Wishnowsky</a>,\n",
       " <a class=\"\" href=\"/nfl/players/playerpage/2240526/mitch-wishnowsky\">Mitch Wishnowsky</a>]"
      ]
     },
     "execution_count": 66,
     "metadata": {},
     "output_type": "execute_result"
    }
   ],
   "source": [
    "container = soup.find('tbody')\n",
    "container.findAll('a', class_ = '')"
   ]
  },
  {
   "cell_type": "code",
   "execution_count": 55,
   "metadata": {},
   "outputs": [],
   "source": [
    "length = len(soup.findAll('td', class_ = 'TableBase-bodyTd TableBase-bodyTd--number'))"
   ]
  },
  {
   "cell_type": "code",
   "execution_count": 56,
   "metadata": {},
   "outputs": [
    {
     "data": {
      "text/plain": [
       "492"
      ]
     },
     "execution_count": 56,
     "metadata": {},
     "output_type": "execute_result"
    }
   ],
   "source": [
    "length"
   ]
  },
  {
   "cell_type": "code",
   "execution_count": 57,
   "metadata": {},
   "outputs": [],
   "source": [
    "x = 40 * 12"
   ]
  },
  {
   "cell_type": "code",
   "execution_count": 58,
   "metadata": {},
   "outputs": [
    {
     "data": {
      "text/plain": [
       "480"
      ]
     },
     "execution_count": 58,
     "metadata": {},
     "output_type": "execute_result"
    }
   ],
   "source": [
    "x"
   ]
  },
  {
   "cell_type": "code",
   "execution_count": 60,
   "metadata": {},
   "outputs": [
    {
     "data": {
      "text/plain": [
       "492"
      ]
     },
     "execution_count": 60,
     "metadata": {},
     "output_type": "execute_result"
    }
   ],
   "source": [
    "len(soup.findAll('td', class_ = 'TableBase-bodyTd TableBase-bodyTd--number'))"
   ]
  },
  {
   "cell_type": "code",
   "execution_count": null,
   "metadata": {},
   "outputs": [],
   "source": []
  }
 ],
 "metadata": {
  "kernelspec": {
   "display_name": "Python 3",
   "language": "python",
   "name": "python3"
  },
  "language_info": {
   "codemirror_mode": {
    "name": "ipython",
    "version": 3
   },
   "file_extension": ".py",
   "mimetype": "text/x-python",
   "name": "python",
   "nbconvert_exporter": "python",
   "pygments_lexer": "ipython3",
   "version": "3.7.6"
  }
 },
 "nbformat": 4,
 "nbformat_minor": 4
}
