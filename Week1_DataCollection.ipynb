{
 "cells": [
  {
   "cell_type": "markdown",
   "metadata": {},
   "source": [
    "# Fantasy Football Week One\n",
    "## Data Collection"
   ]
  },
  {
   "cell_type": "code",
   "execution_count": 1,
   "metadata": {},
   "outputs": [],
   "source": [
    "import pandas as pd\n",
    "import numpy as np\n",
    "import requests\n",
    "from bs4 import BeautifulSoup\n",
    "import time"
   ]
  },
  {
   "cell_type": "code",
   "execution_count": 2,
   "metadata": {},
   "outputs": [],
   "source": [
    "%%capture\n",
    "\n",
    "from tqdm import tqdm_notebook as tqdm\n",
    "from tqdm import tnrange\n",
    "tqdm().pandas()"
   ]
  },
  {
   "cell_type": "code",
   "execution_count": 3,
   "metadata": {},
   "outputs": [],
   "source": [
    "pd.set_option('display.max_columns', None)"
   ]
  },
  {
   "cell_type": "code",
   "execution_count": 4,
   "metadata": {},
   "outputs": [],
   "source": [
    "pd.set_option('display.float_format', lambda x: '%.2f' % x)"
   ]
  },
  {
   "cell_type": "markdown",
   "metadata": {},
   "source": [
    "### Setting DataFrames"
   ]
  },
  {
   "cell_type": "code",
   "execution_count": 5,
   "metadata": {},
   "outputs": [],
   "source": [
    "passing_df = pd.DataFrame(columns = ['PLAYER', 'POSITION', 'TEAM', 'GP', 'ATT', 'CMP', 'PCT', 'YDS', 'YDSpG', 'LNG',\n",
    "                                    'TD', 'INT', 'SCK', 'YDSL', 'RATE'])"
   ]
  },
  {
   "cell_type": "code",
   "execution_count": 7,
   "metadata": {},
   "outputs": [],
   "source": [
    "rushing_df = pd.DataFrame(columns = ['PLAYER', 'POSITION', 'TEAM', 'GP', 'ATT', 'YDS', 'YDSpG', 'AVG', 'TD', 'LNG'])"
   ]
  },
  {
   "cell_type": "code",
   "execution_count": 8,
   "metadata": {},
   "outputs": [],
   "source": [
    "receiving_df = pd.DataFrame(columns = ['PLAYER', 'POSITION', 'TEAM', 'GP', 'REC', 'YDS', 'YDSpG', 'AVG', 'LNG', 'TD'])"
   ]
  },
  {
   "cell_type": "code",
   "execution_count": 6,
   "metadata": {},
   "outputs": [],
   "source": [
    "kicking_df = pd.DataFrame(columns = ['PLAYER', 'POSITION', 'TEAM', 'GP', 'FGM_A', 'FG%', 'LNG', '_1_19', '_20_29', \n",
    "                                     '_30_39', '_40_49', 'OVER50', 'XPM_A', 'XP%', 'PTS'])"
   ]
  },
  {
   "cell_type": "code",
   "execution_count": 9,
   "metadata": {},
   "outputs": [],
   "source": [
    "defense_df = pd.DataFrame(columns = ['PLAYER', 'POSITION', 'TEAM', 'GP', 'STK', 'ATK', 'CMB', 'INT', 'YDS', 'LNG', \n",
    "                                     'TD', 'FUM', 'FREC', 'FTD', 'SCK', 'PDEF', 'SFTY'])"
   ]
  },
  {
   "cell_type": "markdown",
   "metadata": {},
   "source": [
    "### Name, Position & Team Functions"
   ]
  },
  {
   "cell_type": "code",
   "execution_count": 63,
   "metadata": {},
   "outputs": [],
   "source": [
    "def get_name(soup):\n",
    "    container = soup.find('tbody')\n",
    "    names = []\n",
    "    for i in range(len(container.findAll('a', class_ = ''))):\n",
    "        if i % 2 != 0:\n",
    "            names.append(container.findAll('a', class_ = '')[i].get_text())\n",
    "        else:\n",
    "            continue\n",
    "    return names"
   ]
  },
  {
   "cell_type": "code",
   "execution_count": 83,
   "metadata": {},
   "outputs": [],
   "source": [
    "def get_position(soup):\n",
    "    container = soup.find('tbody')\n",
    "    positions = []\n",
    "    for i in range(len(container.findAll('span', class_ = 'CellPlayerName-position'))):\n",
    "        if i % 2 != 0:\n",
    "            position = container.findAll('span', class_ = 'CellPlayerName-position')[i].get_text()\n",
    "            position = position.replace('\\n', '')\n",
    "            position = position.replace(' ', '')\n",
    "            positions.append(position)\n",
    "        else:\n",
    "            continue\n",
    "    return positions"
   ]
  },
  {
   "cell_type": "code",
   "execution_count": 82,
   "metadata": {},
   "outputs": [],
   "source": [
    "def get_team(soup):\n",
    "    container = soup.find('tbody')\n",
    "    teams = []\n",
    "    for i in range(len(container.findAll('span', class_ = 'CellPlayerName-team'))):\n",
    "        if i % 2 != 0:\n",
    "            team = container.findAll('span', class_ = 'CellPlayerName-team')[i].get_text()\n",
    "            team = team.replace('\\n', '')\n",
    "            team = team.replace(' ', '')\n",
    "            teams.append(team)\n",
    "        else:\n",
    "            continue\n",
    "    return teams"
   ]
  },
  {
   "cell_type": "markdown",
   "metadata": {},
   "source": [
    "### 12 Stats"
   ]
  },
  {
   "cell_type": "code",
   "execution_count": 10,
   "metadata": {},
   "outputs": [],
   "source": [
    "def get_12first(soup):\n",
    "    container = soup.find('tbody')\n",
    "    first_col = []\n",
    "    count = 0\n",
    "    length = len(container.findAll('td', class_ = 'TableBase-bodyTd TableBase-bodyTd--number'))\n",
    "    for i in range(length):\n",
    "        if count in range(length):\n",
    "            val = container.findAll('td', class_ = 'TableBase-bodyTd TableBase-bodyTd--number')[count].get_text()\n",
    "            val = val.replace('\\n', '')\n",
    "            val = val.replace(' ', '')\n",
    "            first_col.append(val)\n",
    "        \n",
    "        count += 12    \n",
    "    return first_col"
   ]
  },
  {
   "cell_type": "code",
   "execution_count": 11,
   "metadata": {},
   "outputs": [],
   "source": [
    "def get_12second(soup):\n",
    "    container = soup.find('tbody')\n",
    "    second_col = []\n",
    "    count = 1\n",
    "    length = len(container.findAll('td', class_ = 'TableBase-bodyTd TableBase-bodyTd--number'))\n",
    "    for i in range(length):\n",
    "        if count in range(length):\n",
    "            val = container.findAll('td', class_ = 'TableBase-bodyTd TableBase-bodyTd--number')[count].get_text()\n",
    "            val = val.replace('\\n', '')\n",
    "            val = val.replace(' ', '')\n",
    "            second_col.append(val)\n",
    "        \n",
    "        count += 12    \n",
    "    return second_col"
   ]
  },
  {
   "cell_type": "code",
   "execution_count": 12,
   "metadata": {},
   "outputs": [],
   "source": [
    "def get_12third(soup):\n",
    "    container = soup.find('tbody')\n",
    "    third_col = []\n",
    "    count = 2\n",
    "    length = len(container.findAll('td', class_ = 'TableBase-bodyTd TableBase-bodyTd--number'))\n",
    "    for i in range(length):\n",
    "        if count in range(length):\n",
    "            val = container.findAll('td', class_ = 'TableBase-bodyTd TableBase-bodyTd--number')[count].get_text()\n",
    "            val = val.replace('\\n', '')\n",
    "            val = val.replace(' ', '')\n",
    "            third_col.append(val)\n",
    "        \n",
    "        count += 12    \n",
    "    return third_col"
   ]
  },
  {
   "cell_type": "code",
   "execution_count": 184,
   "metadata": {},
   "outputs": [],
   "source": [
    "def get_12fourth(soup):\n",
    "    container = soup.find('tbody')\n",
    "    fourth_col = []\n",
    "    count = 3\n",
    "    length = len(container.findAll('td', class_ = 'TableBase-bodyTd TableBase-bodyTd--number'))\n",
    "    for i in range(length):\n",
    "        if count in range(length):\n",
    "            val = container.findAll('td', class_ = 'TableBase-bodyTd TableBase-bodyTd--number')[count].get_text()\n",
    "            val = val.replace('\\n', '')\n",
    "            val = val.replace(' ', '')\n",
    "            fourth_col.append(val)\n",
    "        \n",
    "        count += 12    \n",
    "    return fourth_col"
   ]
  },
  {
   "cell_type": "code",
   "execution_count": 13,
   "metadata": {},
   "outputs": [],
   "source": [
    "def get_12fifth(soup):\n",
    "    container = soup.find('tbody')\n",
    "    fifth_col = []\n",
    "    count = 4\n",
    "    length = len(container.findAll('td', class_ = 'TableBase-bodyTd TableBase-bodyTd--number'))\n",
    "    for i in range(length):\n",
    "        if count in range(length):\n",
    "            val = container.findAll('td', class_ = 'TableBase-bodyTd TableBase-bodyTd--number')[count].get_text()\n",
    "            val = val.replace('\\n', '')\n",
    "            val = val.replace(' ', '')\n",
    "            fifth_col.append(val)\n",
    "        \n",
    "        count += 12    \n",
    "    return fifth_col"
   ]
  },
  {
   "cell_type": "code",
   "execution_count": 14,
   "metadata": {},
   "outputs": [],
   "source": [
    "def get_12sixth(soup):\n",
    "    container = soup.find('tbody')\n",
    "    sixth_col = []\n",
    "    count = 5\n",
    "    length = len(container.findAll('td', class_ = 'TableBase-bodyTd TableBase-bodyTd--number'))\n",
    "    for i in range(length):\n",
    "        if count in range(length):\n",
    "            val = container.findAll('td', class_ = 'TableBase-bodyTd TableBase-bodyTd--number')[count].get_text()\n",
    "            val = val.replace('\\n', '')\n",
    "            val = val.replace(' ', '')\n",
    "            sixth_col.append(val)\n",
    "        \n",
    "        count += 12    \n",
    "    return sixth_col"
   ]
  },
  {
   "cell_type": "code",
   "execution_count": 15,
   "metadata": {},
   "outputs": [],
   "source": [
    "def get_12seventh(soup):\n",
    "    container = soup.find('tbody')\n",
    "    seventh_col = []\n",
    "    count = 6\n",
    "    length = len(container.findAll('td', class_ = 'TableBase-bodyTd TableBase-bodyTd--number'))\n",
    "    for i in range(length):\n",
    "        if count in range(length):\n",
    "            val = container.findAll('td', class_ = 'TableBase-bodyTd TableBase-bodyTd--number')[count].get_text()\n",
    "            val = val.replace('\\n', '')\n",
    "            val = val.replace(' ', '')\n",
    "            seventh_col.append(val)\n",
    "        \n",
    "        count += 12    \n",
    "    return seventh_col"
   ]
  },
  {
   "cell_type": "code",
   "execution_count": 16,
   "metadata": {},
   "outputs": [],
   "source": [
    "def get_12eighth(soup):\n",
    "    container = soup.find('tbody')\n",
    "    eighth_col = []\n",
    "    count = 7\n",
    "    length = len(container.findAll('td', class_ = 'TableBase-bodyTd TableBase-bodyTd--number'))\n",
    "    for i in range(length):\n",
    "        if count in range(length):\n",
    "            val = container.findAll('td', class_ = 'TableBase-bodyTd TableBase-bodyTd--number')[count].get_text()\n",
    "            val = val.replace('\\n', '')\n",
    "            val = val.replace(' ', '')\n",
    "            eighth_col.append(val)\n",
    "        \n",
    "        count += 12    \n",
    "    return eighth_col"
   ]
  },
  {
   "cell_type": "code",
   "execution_count": 17,
   "metadata": {},
   "outputs": [],
   "source": [
    "def get_12ninth(soup):\n",
    "    container = soup.find('tbody')\n",
    "    ninth_col = []\n",
    "    count = 8\n",
    "    length = len(container.findAll('td', class_ = 'TableBase-bodyTd TableBase-bodyTd--number'))\n",
    "    for i in range(length):\n",
    "        if count in range(length):\n",
    "            val = container.findAll('td', class_ = 'TableBase-bodyTd TableBase-bodyTd--number')[count].get_text()\n",
    "            val = val.replace('\\n', '')\n",
    "            val = val.replace(' ', '')\n",
    "            ninth_col.append(val)\n",
    "        \n",
    "        count += 12    \n",
    "    return ninth_col"
   ]
  },
  {
   "cell_type": "code",
   "execution_count": 18,
   "metadata": {},
   "outputs": [],
   "source": [
    "def get_12tenth(soup):\n",
    "    container = soup.find('tbody')\n",
    "    tenth_col = []\n",
    "    count = 9\n",
    "    length = len(container.findAll('td', class_ = 'TableBase-bodyTd TableBase-bodyTd--number'))\n",
    "    for i in range(length):\n",
    "        if count in range(length):\n",
    "            val = container.findAll('td', class_ = 'TableBase-bodyTd TableBase-bodyTd--number')[count].get_text()\n",
    "            val = val.replace('\\n', '')\n",
    "            val = val.replace(' ', '')\n",
    "            tenth_col.append(val)\n",
    "        \n",
    "        count += 12    \n",
    "    return tenth_col"
   ]
  },
  {
   "cell_type": "code",
   "execution_count": 19,
   "metadata": {},
   "outputs": [],
   "source": [
    "def get_12eleventh(soup):\n",
    "    container = soup.find('tbody')\n",
    "    eleventh_col = []\n",
    "    count = 10\n",
    "    length = len(container.findAll('td', class_ = 'TableBase-bodyTd TableBase-bodyTd--number'))\n",
    "    for i in range(length):\n",
    "        if count in range(length):\n",
    "            val = container.findAll('td', class_ = 'TableBase-bodyTd TableBase-bodyTd--number')[count].get_text()\n",
    "            val = val.replace('\\n', '')\n",
    "            val = val.replace(' ', '')\n",
    "            eleventh_col.append(val)\n",
    "        \n",
    "        count += 12    \n",
    "    return eleventh_col"
   ]
  },
  {
   "cell_type": "code",
   "execution_count": 20,
   "metadata": {},
   "outputs": [],
   "source": [
    "def get_12twelfth(soup):\n",
    "    container = soup.find('tbody')\n",
    "    twelfth_col = []\n",
    "    count = 11\n",
    "    length = len(container.findAll('td', class_ = 'TableBase-bodyTd TableBase-bodyTd--number'))\n",
    "    for i in range(length):\n",
    "        if count in range(length):\n",
    "            val = container.findAll('td', class_ = 'TableBase-bodyTd TableBase-bodyTd--number')[count].get_text()\n",
    "            val = val.replace('\\n', '')\n",
    "            val = val.replace(' ', '')\n",
    "            twelfth_col.append(val)\n",
    "        \n",
    "        count += 12    \n",
    "    return twelfth_col"
   ]
  },
  {
   "cell_type": "markdown",
   "metadata": {},
   "source": [
    "### 7 Stats"
   ]
  },
  {
   "cell_type": "code",
   "execution_count": 26,
   "metadata": {},
   "outputs": [],
   "source": [
    "def get_7first(soup):\n",
    "    container = soup.find('tbody')\n",
    "    first_col = []\n",
    "    count = 0\n",
    "    length = len(container.findAll('td', class_ = 'TableBase-bodyTd TableBase-bodyTd--number'))\n",
    "    for i in range(length):\n",
    "        if count in range(length):\n",
    "            val = container.findAll('td', class_ = 'TableBase-bodyTd TableBase-bodyTd--number')[count].get_text()\n",
    "            val = val.replace('\\n', '')\n",
    "            val = val.replace(' ', '')\n",
    "            first_col.append(val)\n",
    "        \n",
    "        count += 7    \n",
    "    return first_col"
   ]
  },
  {
   "cell_type": "code",
   "execution_count": 23,
   "metadata": {},
   "outputs": [],
   "source": [
    "def get_7second(soup):\n",
    "    container = soup.find('tbody')\n",
    "    second_col = []\n",
    "    count = 1\n",
    "    length = len(container.findAll('td', class_ = 'TableBase-bodyTd TableBase-bodyTd--number'))\n",
    "    for i in range(length):\n",
    "        if count in range(length):\n",
    "            val = container.findAll('td', class_ = 'TableBase-bodyTd TableBase-bodyTd--number')[count].get_text()\n",
    "            val = val.replace('\\n', '')\n",
    "            val = val.replace(' ', '')\n",
    "            second_col.append(val)\n",
    "        \n",
    "        count += 7    \n",
    "    return second_col"
   ]
  },
  {
   "cell_type": "code",
   "execution_count": 25,
   "metadata": {},
   "outputs": [],
   "source": [
    "def get_7third(soup):\n",
    "    container = soup.find('tbody')\n",
    "    third_col = []\n",
    "    count = 2\n",
    "    length = len(container.findAll('td', class_ = 'TableBase-bodyTd TableBase-bodyTd--number'))\n",
    "    for i in range(length):\n",
    "        if count in range(length):\n",
    "            val = container.findAll('td', class_ = 'TableBase-bodyTd TableBase-bodyTd--number')[count].get_text()\n",
    "            val = val.replace('\\n', '')\n",
    "            val = val.replace(' ', '')\n",
    "            third_col.append(val)\n",
    "        \n",
    "        count += 7    \n",
    "    return third_col"
   ]
  },
  {
   "cell_type": "code",
   "execution_count": 24,
   "metadata": {},
   "outputs": [],
   "source": [
    "def get_7fourth(soup):\n",
    "    container = soup.find('tbody')\n",
    "    fourth_col = []\n",
    "    count = 3\n",
    "    length = len(container.findAll('td', class_ = 'TableBase-bodyTd TableBase-bodyTd--number'))\n",
    "    for i in range(length):\n",
    "        if count in range(length):\n",
    "            val = container.findAll('td', class_ = 'TableBase-bodyTd TableBase-bodyTd--number')[count].get_text()\n",
    "            val = val.replace('\\n', '')\n",
    "            val = val.replace(' ', '')\n",
    "            fourth_col.append(val)\n",
    "        \n",
    "        count += 7    \n",
    "    return fourth_col"
   ]
  },
  {
   "cell_type": "code",
   "execution_count": 27,
   "metadata": {},
   "outputs": [],
   "source": [
    "def get_7fifth(soup):\n",
    "    container = soup.find('tbody')\n",
    "    fifth_col = []\n",
    "    count = 4\n",
    "    length = len(container.findAll('td', class_ = 'TableBase-bodyTd TableBase-bodyTd--number'))\n",
    "    for i in range(length):\n",
    "        if count in range(length):\n",
    "            val = container.findAll('td', class_ = 'TableBase-bodyTd TableBase-bodyTd--number')[count].get_text()\n",
    "            val = val.replace('\\n', '')\n",
    "            val = val.replace(' ', '')\n",
    "            fifth_col.append(val)\n",
    "        \n",
    "        count += 7    \n",
    "    return fifth_col"
   ]
  },
  {
   "cell_type": "code",
   "execution_count": 28,
   "metadata": {},
   "outputs": [],
   "source": [
    "def get_7sixth(soup):\n",
    "    container = soup.find('tbody')\n",
    "    sixth_col = []\n",
    "    count = 5\n",
    "    length = len(container.findAll('td', class_ = 'TableBase-bodyTd TableBase-bodyTd--number'))\n",
    "    for i in range(length):\n",
    "        if count in range(length):\n",
    "            val = container.findAll('td', class_ = 'TableBase-bodyTd TableBase-bodyTd--number')[count].get_text()\n",
    "            val = val.replace('\\n', '')\n",
    "            val = val.replace(' ', '')\n",
    "            sixth_col.append(val)\n",
    "        \n",
    "        count += 7    \n",
    "    return sixth_col"
   ]
  },
  {
   "cell_type": "code",
   "execution_count": 29,
   "metadata": {},
   "outputs": [],
   "source": [
    "def get_7seventh(soup):\n",
    "    container = soup.find('tbody')\n",
    "    seventh_col = []\n",
    "    count = 6\n",
    "    length = len(container.findAll('td', class_ = 'TableBase-bodyTd TableBase-bodyTd--number'))\n",
    "    for i in range(length):\n",
    "        if count in range(length):\n",
    "            val = container.findAll('td', class_ = 'TableBase-bodyTd TableBase-bodyTd--number')[count].get_text()\n",
    "            val = val.replace('\\n', '')\n",
    "            val = val.replace(' ', '')\n",
    "            seventh_col.append(val)\n",
    "        \n",
    "        count += 7    \n",
    "    return seventh_col"
   ]
  },
  {
   "cell_type": "code",
   "execution_count": null,
   "metadata": {},
   "outputs": [],
   "source": []
  },
  {
   "cell_type": "markdown",
   "metadata": {},
   "source": [
    "### DataFrame Functions"
   ]
  },
  {
   "cell_type": "code",
   "execution_count": 211,
   "metadata": {},
   "outputs": [],
   "source": [
    "def get_passing(url):\n",
    "    html = requests.get(url)\n",
    "    soup = BeautifulSoup(html.content, 'html.parser')\n",
    "    \n",
    "    passing_df['PLAYER'] = get_name(soup)\n",
    "    passing_df['POSITION'] = get_position(soup)\n",
    "    passing_df['TEAM'] = get_team(soup)\n",
    "    passing_df['GP'] = get_12first(soup)\n",
    "    passing_df['ATT'] = get_12second(soup)\n",
    "    passing_df['CMP'] = get_12third(soup)\n",
    "    passing_df['PCT'] = get_12fourth(soup)\n",
    "    passing_df['YDS'] = get_12fifth(soup)\n",
    "    passing_df['YDSpG'] = get_12sixth(soup)\n",
    "    passing_df['LNG'] = get_12seventh(soup)\n",
    "    passing_df['TD'] = get_12eighth(soup)\n",
    "    passing_df['INT'] = get_12ninth(soup)\n",
    "    passing_df['SCK'] = get_12tenth(soup)\n",
    "    passing_df['YDSL'] = get_12eleventh(soup)\n",
    "    passing_df['RATE'] = get_12twelfth(soup)    "
   ]
  },
  {
   "cell_type": "code",
   "execution_count": 22,
   "metadata": {},
   "outputs": [],
   "source": [
    "def get_kicking(url):\n",
    "    html = requests.get(url)\n",
    "    soup = BeautifulSoup(html.content, 'html.parser')\n",
    "    \n",
    "    kicking_df['PLAYER'] = get_name(soup)\n",
    "    kicking_df['POSITION'] = get_position(soup)\n",
    "    kicking_df['TEAM'] = get_team(soup)\n",
    "    kicking_df['GP'] = get_12first(soup)\n",
    "    kicking_df['FGM_A'] = get_12second(soup)\n",
    "    kicking_df['FG%'] = get_12third(soup)\n",
    "    kicking_df['LNG'] = get_12fourth(soup)\n",
    "    kicking_df['_1_19'] = get_12fifth(soup)\n",
    "    kicking_df['_20_29'] = get_12sixth(soup)\n",
    "    kicking_df['_30_39'] = get_12seventh(soup)\n",
    "    kicking_df['_40_49'] = get_12eighth(soup)\n",
    "    kicking_df['OVER50'] = get_12ninth(soup)\n",
    "    kicking_df['XPM_A'] = get_12tenth(soup)\n",
    "    kicking_df['XP%'] = get_12eleventh(soup)\n",
    "    kicking_df['PTS'] = get_12twelfth(soup)    "
   ]
  },
  {
   "cell_type": "code",
   "execution_count": null,
   "metadata": {},
   "outputs": [],
   "source": []
  },
  {
   "cell_type": "code",
   "execution_count": null,
   "metadata": {},
   "outputs": [],
   "source": []
  },
  {
   "cell_type": "code",
   "execution_count": null,
   "metadata": {},
   "outputs": [],
   "source": []
  },
  {
   "cell_type": "code",
   "execution_count": null,
   "metadata": {},
   "outputs": [],
   "source": []
  }
 ],
 "metadata": {
  "kernelspec": {
   "display_name": "Python 3",
   "language": "python",
   "name": "python3"
  },
  "language_info": {
   "codemirror_mode": {
    "name": "ipython",
    "version": 3
   },
   "file_extension": ".py",
   "mimetype": "text/x-python",
   "name": "python",
   "nbconvert_exporter": "python",
   "pygments_lexer": "ipython3",
   "version": "3.7.6"
  }
 },
 "nbformat": 4,
 "nbformat_minor": 4
}
