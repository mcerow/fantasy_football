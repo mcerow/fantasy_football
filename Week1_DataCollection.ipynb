{
 "cells": [
  {
   "cell_type": "markdown",
   "metadata": {},
   "source": [
    "# Fantasy Football Week One\n",
    "## Data Collection"
   ]
  },
  {
   "cell_type": "code",
   "execution_count": 1,
   "metadata": {},
   "outputs": [],
   "source": [
    "import pandas as pd\n",
    "import numpy as np\n",
    "import requests\n",
    "from bs4 import BeautifulSoup\n",
    "import time"
   ]
  },
  {
   "cell_type": "code",
   "execution_count": 2,
   "metadata": {},
   "outputs": [],
   "source": [
    "%%capture\n",
    "\n",
    "from tqdm import tqdm_notebook as tqdm\n",
    "from tqdm import tnrange\n",
    "tqdm().pandas()"
   ]
  },
  {
   "cell_type": "code",
   "execution_count": 3,
   "metadata": {},
   "outputs": [],
   "source": [
    "pd.set_option('display.max_columns', None)"
   ]
  },
  {
   "cell_type": "code",
   "execution_count": 4,
   "metadata": {},
   "outputs": [],
   "source": [
    "pd.set_option('display.float_format', lambda x: '%.2f' % x)"
   ]
  },
  {
   "cell_type": "markdown",
   "metadata": {},
   "source": [
    "### Passing Data Collection"
   ]
  },
  {
   "cell_type": "code",
   "execution_count": 10,
   "metadata": {},
   "outputs": [],
   "source": [
    "passing_df = pd.DataFrame(columns = ['PLAYER', 'POSITION', 'TEAM', 'GP', 'ATT', 'CMP', 'PCT', 'YDS', 'YDS/G', 'LNG'\n",
    "                                    'TD', 'INT', 'SCK', 'YDSL', 'RATE'])"
   ]
  },
  {
   "cell_type": "code",
   "execution_count": 11,
   "metadata": {},
   "outputs": [
    {
     "data": {
      "text/plain": [
       "<Response [200]>"
      ]
     },
     "execution_count": 11,
     "metadata": {},
     "output_type": "execute_result"
    }
   ],
   "source": [
    "url = 'https://www.cbssports.com/nfl/stats/player/passing/nfl/regular/all/'\n",
    "html = requests.get(url)\n",
    "html"
   ]
  },
  {
   "cell_type": "code",
   "execution_count": 12,
   "metadata": {},
   "outputs": [],
   "source": [
    "soup = BeautifulSoup(html.content, 'html.parser')"
   ]
  },
  {
   "cell_type": "code",
   "execution_count": 48,
   "metadata": {},
   "outputs": [],
   "source": [
    "container = soup.find('tbody')"
   ]
  },
  {
   "cell_type": "code",
   "execution_count": 110,
   "metadata": {},
   "outputs": [
    {
     "data": {
      "text/plain": [
       "'\\n                    1\\n                '"
      ]
     },
     "execution_count": 110,
     "metadata": {},
     "output_type": "execute_result"
    }
   ],
   "source": [
    "container.findAll('td', class_ = 'TableBase-bodyTd TableBase-bodyTd--number')[48].get_text()"
   ]
  },
  {
   "cell_type": "code",
   "execution_count": 87,
   "metadata": {},
   "outputs": [
    {
     "data": {
      "text/plain": [
       "'\\n                    1\\n                '"
      ]
     },
     "execution_count": 87,
     "metadata": {},
     "output_type": "execute_result"
    }
   ],
   "source": [
    "container.findAll('td', class_ = 'TableBase-bodyTd TableBase-bodyTd--number')[0].get_text()"
   ]
  },
  {
   "cell_type": "code",
   "execution_count": 89,
   "metadata": {},
   "outputs": [
    {
     "data": {
      "text/plain": [
       "'\\n                    1\\n                '"
      ]
     },
     "execution_count": 89,
     "metadata": {},
     "output_type": "execute_result"
    }
   ],
   "source": [
    "container.findAll('td', class_ = 'TableBase-bodyTd TableBase-bodyTd--number')[12].get_text()"
   ]
  },
  {
   "cell_type": "code",
   "execution_count": 90,
   "metadata": {},
   "outputs": [
    {
     "data": {
      "text/plain": [
       "'\\n                    1\\n                '"
      ]
     },
     "execution_count": 90,
     "metadata": {},
     "output_type": "execute_result"
    }
   ],
   "source": [
    "container.findAll('td', class_ = 'TableBase-bodyTd TableBase-bodyTd--number')[24].get_text()"
   ]
  },
  {
   "cell_type": "code",
   "execution_count": 63,
   "metadata": {},
   "outputs": [],
   "source": [
    "def get_name(soup):\n",
    "    container = soup.find('tbody')\n",
    "    names = []\n",
    "    for i in range(len(container.findAll('a', class_ = ''))):\n",
    "        if i % 2 != 0:\n",
    "            names.append(container.findAll('a', class_ = '')[i].get_text())\n",
    "        else:\n",
    "            continue\n",
    "    return names"
   ]
  },
  {
   "cell_type": "code",
   "execution_count": 83,
   "metadata": {},
   "outputs": [],
   "source": [
    "def get_position(soup):\n",
    "    container = soup.find('tbody')\n",
    "    positions = []\n",
    "    for i in range(len(container.findAll('span', class_ = 'CellPlayerName-position'))):\n",
    "        if i % 2 != 0:\n",
    "            position = container.findAll('span', class_ = 'CellPlayerName-position')[i].get_text()\n",
    "            position = position.replace('\\n', '')\n",
    "            position = position.replace(' ', '')\n",
    "            positions.append(position)\n",
    "        else:\n",
    "            continue\n",
    "    return positions"
   ]
  },
  {
   "cell_type": "code",
   "execution_count": 82,
   "metadata": {},
   "outputs": [],
   "source": [
    "def get_team(soup):\n",
    "    container = soup.find('tbody')\n",
    "    teams = []\n",
    "    for i in range(len(container.findAll('span', class_ = 'CellPlayerName-team'))):\n",
    "        if i % 2 != 0:\n",
    "            team = container.findAll('span', class_ = 'CellPlayerName-team')[i].get_text()\n",
    "            team = team.replace('\\n', '')\n",
    "            team = team.replace(' ', '')\n",
    "            teams.append(team)\n",
    "        else:\n",
    "            continue\n",
    "    return teams"
   ]
  },
  {
   "cell_type": "markdown",
   "metadata": {},
   "source": [
    "### 12 Stats"
   ]
  },
  {
   "cell_type": "code",
   "execution_count": 181,
   "metadata": {},
   "outputs": [],
   "source": [
    "def get_first(soup):\n",
    "    container = soup.find('tbody')\n",
    "    first_col = []\n",
    "    count = 0\n",
    "    length = len(container.findAll('td', class_ = 'TableBase-bodyTd TableBase-bodyTd--number'))\n",
    "    for i in range(length):\n",
    "        if count in range(length):\n",
    "            val = container.findAll('td', class_ = 'TableBase-bodyTd TableBase-bodyTd--number')[count].get_text()\n",
    "            val = val.replace('\\n', '')\n",
    "            val = val.replace(' ', '')\n",
    "            first_col.append(val)\n",
    "        \n",
    "        count += 12    \n",
    "    return first_col"
   ]
  },
  {
   "cell_type": "code",
   "execution_count": 182,
   "metadata": {},
   "outputs": [],
   "source": [
    "def get_second(soup):\n",
    "    container = soup.find('tbody')\n",
    "    second_col = []\n",
    "    count = 1\n",
    "    length = len(container.findAll('td', class_ = 'TableBase-bodyTd TableBase-bodyTd--number'))\n",
    "    for i in range(length):\n",
    "        if count in range(length):\n",
    "            val = container.findAll('td', class_ = 'TableBase-bodyTd TableBase-bodyTd--number')[count].get_text()\n",
    "            val = val.replace('\\n', '')\n",
    "            val = val.replace(' ', '')\n",
    "            second_col.append(val)\n",
    "        \n",
    "        count += 12    \n",
    "    return second_col"
   ]
  },
  {
   "cell_type": "code",
   "execution_count": 183,
   "metadata": {},
   "outputs": [],
   "source": [
    "def get_third(soup):\n",
    "    container = soup.find('tbody')\n",
    "    third_col = []\n",
    "    count = 2\n",
    "    length = len(container.findAll('td', class_ = 'TableBase-bodyTd TableBase-bodyTd--number'))\n",
    "    for i in range(length):\n",
    "        if count in range(length):\n",
    "            val = container.findAll('td', class_ = 'TableBase-bodyTd TableBase-bodyTd--number')[count].get_text()\n",
    "            val = val.replace('\\n', '')\n",
    "            val = val.replace(' ', '')\n",
    "            third_col.append(val)\n",
    "        \n",
    "        count += 12    \n",
    "    return third_col"
   ]
  },
  {
   "cell_type": "code",
   "execution_count": 184,
   "metadata": {},
   "outputs": [],
   "source": [
    "def get_fourth(soup):\n",
    "    container = soup.find('tbody')\n",
    "    fourth_col = []\n",
    "    count = 3\n",
    "    length = len(container.findAll('td', class_ = 'TableBase-bodyTd TableBase-bodyTd--number'))\n",
    "    for i in range(length):\n",
    "        if count in range(length):\n",
    "            val = container.findAll('td', class_ = 'TableBase-bodyTd TableBase-bodyTd--number')[count].get_text()\n",
    "            val = val.replace('\\n', '')\n",
    "            val = val.replace(' ', '')\n",
    "            fourth_col.append(val)\n",
    "        \n",
    "        count += 12    \n",
    "    return fourth_col"
   ]
  },
  {
   "cell_type": "code",
   "execution_count": 185,
   "metadata": {},
   "outputs": [],
   "source": [
    "def get_fifth(soup):\n",
    "    container = soup.find('tbody')\n",
    "    fifth_col = []\n",
    "    count = 4\n",
    "    length = len(container.findAll('td', class_ = 'TableBase-bodyTd TableBase-bodyTd--number'))\n",
    "    for i in range(length):\n",
    "        if count in range(length):\n",
    "            val = container.findAll('td', class_ = 'TableBase-bodyTd TableBase-bodyTd--number')[count].get_text()\n",
    "            val = val.replace('\\n', '')\n",
    "            val = val.replace(' ', '')\n",
    "            fifth_col.append(val)\n",
    "        \n",
    "        count += 12    \n",
    "    return fifth_col"
   ]
  },
  {
   "cell_type": "code",
   "execution_count": 186,
   "metadata": {},
   "outputs": [],
   "source": [
    "def get_sixth(soup):\n",
    "    container = soup.find('tbody')\n",
    "    sixth_col = []\n",
    "    count = 5\n",
    "    length = len(container.findAll('td', class_ = 'TableBase-bodyTd TableBase-bodyTd--number'))\n",
    "    for i in range(length):\n",
    "        if count in range(length):\n",
    "            val = container.findAll('td', class_ = 'TableBase-bodyTd TableBase-bodyTd--number')[count].get_text()\n",
    "            val = val.replace('\\n', '')\n",
    "            val = val.replace(' ', '')\n",
    "            sixth_col.append(val)\n",
    "        \n",
    "        count += 12    \n",
    "    return sixth_col"
   ]
  },
  {
   "cell_type": "code",
   "execution_count": 187,
   "metadata": {},
   "outputs": [],
   "source": [
    "def get_seventh(soup):\n",
    "    container = soup.find('tbody')\n",
    "    seventh_col = []\n",
    "    count = 6\n",
    "    length = len(container.findAll('td', class_ = 'TableBase-bodyTd TableBase-bodyTd--number'))\n",
    "    for i in range(length):\n",
    "        if count in range(length):\n",
    "            val = container.findAll('td', class_ = 'TableBase-bodyTd TableBase-bodyTd--number')[count].get_text()\n",
    "            val = val.replace('\\n', '')\n",
    "            val = val.replace(' ', '')\n",
    "            seventh_col.append(val)\n",
    "        \n",
    "        count += 12    \n",
    "    return seventh_col\n"
   ]
  },
  {
   "cell_type": "code",
   "execution_count": 188,
   "metadata": {},
   "outputs": [],
   "source": [
    "def get_eighth(soup):\n",
    "    container = soup.find('tbody')\n",
    "    eighth_col = []\n",
    "    count = 7\n",
    "    length = len(container.findAll('td', class_ = 'TableBase-bodyTd TableBase-bodyTd--number'))\n",
    "    for i in range(length):\n",
    "        if count in range(length):\n",
    "            val = container.findAll('td', class_ = 'TableBase-bodyTd TableBase-bodyTd--number')[count].get_text()\n",
    "            val = val.replace('\\n', '')\n",
    "            val = val.replace(' ', '')\n",
    "            eighth_col.append(val)\n",
    "        \n",
    "        count += 12    \n",
    "    return eighth_col"
   ]
  },
  {
   "cell_type": "code",
   "execution_count": 190,
   "metadata": {},
   "outputs": [],
   "source": [
    "def get_ninth(soup):\n",
    "    container = soup.find('tbody')\n",
    "    ninth_col = []\n",
    "    count = 8\n",
    "    length = len(container.findAll('td', class_ = 'TableBase-bodyTd TableBase-bodyTd--number'))\n",
    "    for i in range(length):\n",
    "        if count in range(length):\n",
    "            val = container.findAll('td', class_ = 'TableBase-bodyTd TableBase-bodyTd--number')[count].get_text()\n",
    "            val = val.replace('\\n', '')\n",
    "            val = val.replace(' ', '')\n",
    "            ninth_col.append(val)\n",
    "        \n",
    "        count += 12    \n",
    "    return ninth_col"
   ]
  },
  {
   "cell_type": "code",
   "execution_count": 191,
   "metadata": {},
   "outputs": [],
   "source": [
    "def get_tenth(soup):\n",
    "    container = soup.find('tbody')\n",
    "    tenth_col = []\n",
    "    count = 8\n",
    "    length = len(container.findAll('td', class_ = 'TableBase-bodyTd TableBase-bodyTd--number'))\n",
    "    for i in range(length):\n",
    "        if count in range(length):\n",
    "            val = container.findAll('td', class_ = 'TableBase-bodyTd TableBase-bodyTd--number')[count].get_text()\n",
    "            val = val.replace('\\n', '')\n",
    "            val = val.replace(' ', '')\n",
    "            tenth_col.append(val)\n",
    "        \n",
    "        count += 12    \n",
    "    return tenth_col"
   ]
  },
  {
   "cell_type": "code",
   "execution_count": null,
   "metadata": {},
   "outputs": [],
   "source": [
    "def get_elev(soup):\n",
    "    container = soup.find('tbody')\n",
    "    ninth_col = []\n",
    "    count = 8\n",
    "    length = len(container.findAll('td', class_ = 'TableBase-bodyTd TableBase-bodyTd--number'))\n",
    "    for i in range(length):\n",
    "        if count in range(length):\n",
    "            val = container.findAll('td', class_ = 'TableBase-bodyTd TableBase-bodyTd--number')[count].get_text()\n",
    "            val = val.replace('\\n', '')\n",
    "            val = val.replace(' ', '')\n",
    "            ninth_col.append(inter)\n",
    "        \n",
    "        count += 12    \n",
    "    return ninth_col"
   ]
  }
 ],
 "metadata": {
  "kernelspec": {
   "display_name": "Python 3",
   "language": "python",
   "name": "python3"
  },
  "language_info": {
   "codemirror_mode": {
    "name": "ipython",
    "version": 3
   },
   "file_extension": ".py",
   "mimetype": "text/x-python",
   "name": "python",
   "nbconvert_exporter": "python",
   "pygments_lexer": "ipython3",
   "version": "3.7.6"
  }
 },
 "nbformat": 4,
 "nbformat_minor": 4
}
