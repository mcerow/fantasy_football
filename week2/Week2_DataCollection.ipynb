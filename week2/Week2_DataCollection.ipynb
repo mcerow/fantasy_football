{
 "cells": [
  {
   "cell_type": "markdown",
   "metadata": {},
   "source": [
    "# Week 2 -- Data Collection"
   ]
  },
  {
   "cell_type": "code",
   "execution_count": 26,
   "metadata": {},
   "outputs": [],
   "source": [
    "import pandas as pd\n",
    "import numpy as np\n",
    "import requests\n",
    "import urllib\n",
    "from bs4 import BeautifulSoup\n",
    "from selenium import webdriver\n",
    "import time\n",
    "import warnings"
   ]
  },
  {
   "cell_type": "code",
   "execution_count": 3,
   "metadata": {},
   "outputs": [],
   "source": [
    "%%capture\n",
    "\n",
    "from tqdm import tqdm_notebook as tqdm\n",
    "from tqdm import tnrange\n",
    "tqdm().pandas()"
   ]
  },
  {
   "cell_type": "code",
   "execution_count": 4,
   "metadata": {},
   "outputs": [],
   "source": [
    "pd.set_option('display.max_columns', None)\n",
    "pd.set_option('display.max_rows', None)\n",
    "pd.set_option('display.float_format', lambda x: '%.2f' % x)"
   ]
  },
  {
   "cell_type": "code",
   "execution_count": 21,
   "metadata": {},
   "outputs": [],
   "source": [
    "url = 'https://www.pro-football-reference.com/years/2020/fantasy.htm'"
   ]
  },
  {
   "cell_type": "code",
   "execution_count": 22,
   "metadata": {},
   "outputs": [],
   "source": [
    "html = requests.get(url)"
   ]
  },
  {
   "cell_type": "code",
   "execution_count": 23,
   "metadata": {},
   "outputs": [
    {
     "data": {
      "text/plain": [
       "<Response [200]>"
      ]
     },
     "execution_count": 23,
     "metadata": {},
     "output_type": "execute_result"
    }
   ],
   "source": [
    "html"
   ]
  },
  {
   "cell_type": "code",
   "execution_count": 27,
   "metadata": {},
   "outputs": [
    {
     "name": "stderr",
     "output_type": "stream",
     "text": [
      "[2020-09-20 21:39:07,353 DEBUG] [chardet.charsetprober.eucjpprober.feed] EUC-JP Japanese prober hit error at byte 53587\n",
      "[2020-09-20 21:39:08,524 DEBUG] [chardet.charsetprober.mbcharsetprober.feed] EUC-KR Korean prober hit error at byte 53587\n",
      "[2020-09-20 21:39:08,593 DEBUG] [chardet.charsetprober.mbcharsetprober.feed] CP949 Korean prober hit error at byte 53587\n",
      "[2020-09-20 21:39:09,729 DEBUG] [chardet.charsetprober.mbcharsetprober.feed] EUC-TW Taiwan prober hit error at byte 28263\n",
      "[2020-09-20 21:39:11,551 DEBUG] [chardet.charsetprober.charsetgroupprober.get_confidence] utf-8 not active\n",
      "[2020-09-20 21:39:11,552 DEBUG] [chardet.charsetprober.charsetgroupprober.get_confidence] CP932 Japanese confidence = 0.01\n",
      "[2020-09-20 21:39:11,552 DEBUG] [chardet.charsetprober.charsetgroupprober.get_confidence] EUC-JP not active\n",
      "[2020-09-20 21:39:11,552 DEBUG] [chardet.charsetprober.charsetgroupprober.get_confidence] GB2312 Chinese confidence = 0.01\n",
      "[2020-09-20 21:39:11,553 DEBUG] [chardet.charsetprober.charsetgroupprober.get_confidence] EUC-KR not active\n",
      "[2020-09-20 21:39:11,554 DEBUG] [chardet.charsetprober.charsetgroupprober.get_confidence] CP949 not active\n",
      "[2020-09-20 21:39:11,554 DEBUG] [chardet.charsetprober.charsetgroupprober.get_confidence] Big5 Chinese confidence = 0.01\n",
      "[2020-09-20 21:39:11,555 DEBUG] [chardet.charsetprober.charsetgroupprober.get_confidence] EUC-TW not active\n",
      "[2020-09-20 21:39:11,556 DEBUG] [chardet.charsetprober.charsetgroupprober.get_confidence] windows-1251 Russian confidence = 0.01\n",
      "[2020-09-20 21:39:11,556 DEBUG] [chardet.charsetprober.charsetgroupprober.get_confidence] KOI8-R Russian confidence = 0.01\n",
      "[2020-09-20 21:39:11,557 DEBUG] [chardet.charsetprober.charsetgroupprober.get_confidence] ISO-8859-5 Russian confidence = 0.0\n",
      "[2020-09-20 21:39:11,557 DEBUG] [chardet.charsetprober.charsetgroupprober.get_confidence] MacCyrillic Russian confidence = 0.01\n",
      "[2020-09-20 21:39:11,558 DEBUG] [chardet.charsetprober.charsetgroupprober.get_confidence] IBM866 Russian confidence = 0.01\n",
      "[2020-09-20 21:39:11,558 DEBUG] [chardet.charsetprober.charsetgroupprober.get_confidence] IBM855 Russian confidence = 0.01\n",
      "[2020-09-20 21:39:11,559 DEBUG] [chardet.charsetprober.charsetgroupprober.get_confidence] ISO-8859-7 Greek confidence = 0.01\n",
      "[2020-09-20 21:39:11,560 DEBUG] [chardet.charsetprober.charsetgroupprober.get_confidence] windows-1253 Greek confidence = 0.01\n",
      "[2020-09-20 21:39:11,560 DEBUG] [chardet.charsetprober.charsetgroupprober.get_confidence] ISO-8859-5 Bulgairan confidence = 0.0\n",
      "[2020-09-20 21:39:11,561 DEBUG] [chardet.charsetprober.charsetgroupprober.get_confidence] windows-1251 Bulgarian confidence = 0.01\n",
      "[2020-09-20 21:39:11,562 DEBUG] [chardet.charsetprober.charsetgroupprober.get_confidence] TIS-620 Thai confidence = 0.12916658893605865\n",
      "[2020-09-20 21:39:11,562 DEBUG] [chardet.charsetprober.charsetgroupprober.get_confidence] ISO-8859-9 Turkish confidence = 0.6529425886808293\n",
      "[2020-09-20 21:39:11,562 DEBUG] [chardet.charsetprober.charsetgroupprober.get_confidence] windows-1255 Hebrew confidence = 0.0\n",
      "[2020-09-20 21:39:11,563 DEBUG] [chardet.charsetprober.charsetgroupprober.get_confidence] windows-1255 Hebrew confidence = 0.0\n",
      "[2020-09-20 21:39:11,564 DEBUG] [chardet.charsetprober.charsetgroupprober.get_confidence] windows-1255 Hebrew confidence = 0.0\n"
     ]
    }
   ],
   "source": [
    "soup = BeautifulSoup(html.content, 'html.parser')"
   ]
  },
  {
   "cell_type": "code",
   "execution_count": null,
   "metadata": {},
   "outputs": [],
   "source": []
  }
 ],
 "metadata": {
  "kernelspec": {
   "display_name": "Python 3",
   "language": "python",
   "name": "python3"
  },
  "language_info": {
   "codemirror_mode": {
    "name": "ipython",
    "version": 3
   },
   "file_extension": ".py",
   "mimetype": "text/x-python",
   "name": "python",
   "nbconvert_exporter": "python",
   "pygments_lexer": "ipython3",
   "version": "3.7.6"
  }
 },
 "nbformat": 4,
 "nbformat_minor": 4
}
