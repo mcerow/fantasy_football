{
 "cells": [
  {
   "cell_type": "markdown",
   "metadata": {},
   "source": [
    "# Week 2 -- Data Collection"
   ]
  },
  {
   "cell_type": "code",
   "execution_count": 1,
   "metadata": {},
   "outputs": [],
   "source": [
    "import pandas as pd\n",
    "import numpy as np\n",
    "import requests\n",
    "import urllib\n",
    "from bs4 import BeautifulSoup\n",
    "from selenium import webdriver\n",
    "import time\n",
    "import warnings\n",
    "warnings.simplefilter('ignore')"
   ]
  },
  {
   "cell_type": "code",
   "execution_count": 2,
   "metadata": {},
   "outputs": [],
   "source": [
    "%%capture\n",
    "\n",
    "from tqdm import tqdm_notebook as tqdm\n",
    "from tqdm import tnrange\n",
    "tqdm().pandas()"
   ]
  },
  {
   "cell_type": "code",
   "execution_count": 3,
   "metadata": {},
   "outputs": [],
   "source": [
    "pd.set_option('display.max_columns', None)\n",
    "pd.set_option('display.max_rows', None)\n",
    "pd.set_option('display.float_format', lambda x: '%.2f' % x)"
   ]
  },
  {
   "cell_type": "code",
   "execution_count": 19,
   "metadata": {},
   "outputs": [],
   "source": [
    "url = 'https://www.pro-football-reference.com/years/2020/fantasy.htm'"
   ]
  },
  {
   "cell_type": "code",
   "execution_count": 43,
   "metadata": {},
   "outputs": [],
   "source": [
    "df = pd.DataFrame(columns = ['Player', 'Team', 'Position', 'Age', 'Games', 'GamesStarted', 'CompletedPasses', \n",
    "                             'PassesAttempted', 'PassingYds', 'PassingTDs', 'Interceptions', 'RushingAttempts', \n",
    "                             'RushingYds', 'RushingYds', 'RushingYdspAtt', 'RushingTDs', 'Targeted', 'Receptions', \n",
    "                             'ReceivingYds', 'YdspReception', 'ReceivingTDs', 'Fumbles', 'LostFumbles', 'TtlTDs', \n",
    "                             '2PTConversions', '2PTConversionPasses', 'FantasyPts', 'OverallRank', 'PositionRank'])"
   ]
  },
  {
   "cell_type": "code",
   "execution_count": 44,
   "metadata": {},
   "outputs": [],
   "source": [
    "def get_offense(url):\n",
    "    html = requests.get(url)\n",
    "    soup = BeautifulSoup(html.content, 'html.parser')\n",
    "    container = soup.find('tbody')\n",
    "    \n",
    "    for i in range(len(container.findAll('tr'))):\n",
    "        name = container.findAll('td', {'data-stat': 'player'})[i].get_text()\n",
    "        team = container.findAll('td', {'data-stat': 'team'})[i].get_text()\n",
    "        position = container.findAll('td', {'data-stat': 'fantasy_pos'})[i].get_text()\n",
    "        age = container.findAll('td', {'data-stat': 'age'})[i].get_text()\n",
    "        games = container.findAll('td', {'data-stat': 'g'})[i].get_text()\n",
    "        gamesstarted = container.findAll('td', {'data-stat': 'gs'})[i].get_text()\n",
    "        completions = container.findAll('td', {'data-stat': 'pass_cmp'})[i].get_text()\n",
    "        pass_att = container.findAll('td', {'data-stat': 'pass_att'})[i].get_text()\n",
    "        pass_yds = container.findAll('td', {'data-stat': 'pass_yds'})[i].get_text()\n",
    "        pass_tds = container.findAll('td', {'data-stat': 'pass_td'})[i].get_text()\n",
    "        pass_int = container.findAll('td', {'data-stat': 'pass_int'})[i].get_text()\n",
    "        rush_att = container.findAll('td', {'data-stat': 'rush_att'})[i].get_text()\n",
    "        rush_yds = container.findAll('td', {'data-stat': 'rush_yds'})[i].get_text()\n",
    "        yds_p_att = container.findAll('td', {'data-stat': 'rush_yds_per_att'})[i].get_text()\n",
    "        "
   ]
  },
  {
   "cell_type": "code",
   "execution_count": null,
   "metadata": {},
   "outputs": [],
   "source": []
  }
 ],
 "metadata": {
  "kernelspec": {
   "display_name": "Python 3",
   "language": "python",
   "name": "python3"
  },
  "language_info": {
   "codemirror_mode": {
    "name": "ipython",
    "version": 3
   },
   "file_extension": ".py",
   "mimetype": "text/x-python",
   "name": "python",
   "nbconvert_exporter": "python",
   "pygments_lexer": "ipython3",
   "version": "3.7.6"
  }
 },
 "nbformat": 4,
 "nbformat_minor": 4
}
