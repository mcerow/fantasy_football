{
 "cells": [
  {
   "cell_type": "markdown",
   "metadata": {},
   "source": [
    "# Week 5 -- Data Collection\n",
    "\n",
    "This notebook contains the functions to scrape offensive player stats, week and total fantasy points for players & the defense for a team, and the defense stats. It initializes the dataframes the observations will be added to. I set up the url functions to update with the week number that will need to be manually updated (see below).\n",
    "\n",
    "I first import all necessary libraries and set my dataframe formats."
   ]
  },
  {
   "cell_type": "code",
   "execution_count": 1,
   "metadata": {},
   "outputs": [],
   "source": [
    "import pandas as pd\n",
    "import numpy as np\n",
    "import requests\n",
    "import urllib\n",
    "from bs4 import BeautifulSoup\n",
    "import time\n",
    "import warnings\n",
    "warnings.simplefilter('ignore')"
   ]
  },
  {
   "cell_type": "code",
   "execution_count": 2,
   "metadata": {},
   "outputs": [],
   "source": [
    "%%capture\n",
    "\n",
    "from tqdm import tqdm_notebook as tqdm\n",
    "from tqdm import tnrange\n",
    "tqdm().pandas()"
   ]
  },
  {
   "cell_type": "code",
   "execution_count": 3,
   "metadata": {},
   "outputs": [],
   "source": [
    "pd.set_option('display.max_columns', None)\n",
    "pd.set_option('display.max_rows', None)\n",
    "pd.set_option('display.float_format', lambda x: '%.1f' % x)"
   ]
  },
  {
   "cell_type": "markdown",
   "metadata": {},
   "source": [
    "### Update Week Number\n",
    "\n",
    "week_no needs to be updated for the week just ended in the football season. This will update url functions and the dataframe for the week over week fantasy points dataframe."
   ]
  },
  {
   "cell_type": "code",
   "execution_count": 4,
   "metadata": {},
   "outputs": [],
   "source": [
    "week_no = 5"
   ]
  },
  {
   "cell_type": "markdown",
   "metadata": {},
   "source": [
    "### DataFrames\n",
    "\n",
    "#### Offense\n",
    "\n",
    "This dataframe will be used for the offensive player stats on the season."
   ]
  },
  {
   "cell_type": "code",
   "execution_count": 5,
   "metadata": {},
   "outputs": [],
   "source": [
    "df = pd.DataFrame(columns = ['Player', 'Team', 'Position', 'Age', 'Games', 'GamesStarted', 'CompletedPasses', \n",
    "                             'PassesAttempted', 'PassingYds', 'PassingTDs', 'Interceptions', 'RushingAttempts', \n",
    "                             'RushingYds', 'RushingYdspAtt', 'RushingTDs', 'Targeted', 'Receptions', \n",
    "                             'ReceivingYds', 'YdspReception', 'ReceivingTDs', 'Fumbles', 'LostFumbles', 'TtlTDs', \n",
    "                             'TwoPTConversions', 'TwoPTConversionPasses', 'FDFantasyPts', 'PositionRank', \n",
    "                             'OverallRank'])"
   ]
  },
  {
   "cell_type": "markdown",
   "metadata": {},
   "source": [
    "#### Fantasy Points\n",
    "\n",
    "These dataframes will be used when scraping the player/team fantasy points. There is one for total points and one for the week. The week column will update when the week_no variable is updated above."
   ]
  },
  {
   "cell_type": "code",
   "execution_count": 6,
   "metadata": {},
   "outputs": [],
   "source": [
    "week_fantasy = pd.DataFrame(columns = ['Player', 'Team', 'Position', 'Week_' + str(week_no)])"
   ]
  },
  {
   "cell_type": "code",
   "execution_count": 7,
   "metadata": {},
   "outputs": [],
   "source": [
    "weekTTL_fantasy = pd.DataFrame(columns = ['Player', 'Team', 'Position', 'TTL'])"
   ]
  },
  {
   "cell_type": "markdown",
   "metadata": {},
   "source": [
    "### Defense\n",
    "\n",
    "This dataframe will be used to collect a team's defensive stats as a total."
   ]
  },
  {
   "cell_type": "code",
   "execution_count": 8,
   "metadata": {},
   "outputs": [],
   "source": [
    "defense_df = pd.DataFrame(columns = ['Team', 'Ttl_Pts_Allowed', 'Ttl_Offense_Plays_Allowed', 'Yds_p_Play', 'Ttl_Yds', \n",
    "                                    'Rushing_Att', 'Rushing_Yds', 'Rushing_Yds_p_Att', 'Rushing_TDs', 'Passing_Att',\n",
    "                                    'Passing_Yds_p_Att', 'Completions', 'Yds_p_Completion', 'Passing_Yds', \n",
    "                                     'Passing_TDs', 'RZ_Att', 'RZ_TD', 'RZ_Percent', 'Ttl_Turnovers', 'Interceptions',\n",
    "                                    'Fumbles', 'Sacks'])"
   ]
  },
  {
   "cell_type": "code",
   "execution_count": 18,
   "metadata": {},
   "outputs": [],
   "source": [
    "defense_games = pd.DataFrame(columns = ['Team', 'GP'])"
   ]
  },
  {
   "cell_type": "markdown",
   "metadata": {},
   "source": [
    "### Functions"
   ]
  },
  {
   "cell_type": "code",
   "execution_count": 9,
   "metadata": {},
   "outputs": [],
   "source": [
    "def get_offense(url):\n",
    "    \"\"\"\n",
    "    This function takes a url and passes it through requests.get and then uses BeautifulSoup to parse the html for \n",
    "    stats by player.\n",
    "    \n",
    "    Parameters:\n",
    "        url: website looking to scrape for information.\n",
    "        \n",
    "    Returns:\n",
    "        Completed dataframe with offensive player stats season to date in the NFL.\n",
    "    \n",
    "    \"\"\"\n",
    "    \n",
    "    html = requests.get(url)\n",
    "    soup = BeautifulSoup(html.content, 'html.parser')\n",
    "    container = soup.find('tbody')\n",
    "    \n",
    "    for i in tqdm(range(len(container.findAll('td', {'data-stat': 'player'})))):\n",
    "        name = container.findAll('td', {'data-stat': 'player'})[i].get_text().rstrip(' ')\n",
    "        team = container.findAll('td', {'data-stat': 'team'})[i].get_text()\n",
    "        position = container.findAll('td', {'data-stat': 'fantasy_pos'})[i].get_text()\n",
    "        age = container.findAll('td', {'data-stat': 'age'})[i].get_text()\n",
    "        games = container.findAll('td', {'data-stat': 'g'})[i].get_text()\n",
    "        gamesstarted = container.findAll('td', {'data-stat': 'gs'})[i].get_text()\n",
    "        completions = container.findAll('td', {'data-stat': 'pass_cmp'})[i].get_text()\n",
    "        pass_att = container.findAll('td', {'data-stat': 'pass_att'})[i].get_text()\n",
    "        pass_yds = container.findAll('td', {'data-stat': 'pass_yds'})[i].get_text()\n",
    "        pass_tds = container.findAll('td', {'data-stat': 'pass_td'})[i].get_text()\n",
    "        pass_int = container.findAll('td', {'data-stat': 'pass_int'})[i].get_text()\n",
    "        rush_att = container.findAll('td', {'data-stat': 'rush_att'})[i].get_text()\n",
    "        rush_yds = container.findAll('td', {'data-stat': 'rush_yds'})[i].get_text()\n",
    "        yds_p_att = container.findAll('td', {'data-stat': 'rush_yds_per_att'})[i].get_text()\n",
    "        rushing_td = container.findAll('td', {'data-stat': 'rush_td'})[i].get_text()\n",
    "        targets = container.findAll('td', {'data-stat': 'targets'})[i].get_text()\n",
    "        receptions = container.findAll('td', {'data-stat': 'rec'})[i].get_text()\n",
    "        rec_yds = container.findAll('td', {'data-stat': 'rec_yds'})[i].get_text()\n",
    "        rec_yds_rec = container.findAll('td', {'data-stat': 'rec_yds_per_rec'})[i].get_text()\n",
    "        rec_td = container.findAll('td', {'data-stat': 'rec_td'})[i].get_text()\n",
    "        fumbles = container.findAll('td', {'data-stat': 'fumbles'})[i].get_text()\n",
    "        lost_fum = container.findAll('td', {'data-stat': 'fumbles_lost'})[i].get_text()\n",
    "        ttl_td = container.findAll('td', {'data-stat': 'all_td'})[i].get_text()\n",
    "        twopt_conv = container.findAll('td', {'data-stat': 'two_pt_md'})[i].get_text()\n",
    "        twopt_pass = container.findAll('td', {'data-stat': 'two_pt_pass'})[i].get_text()\n",
    "        fant_pts = container.findAll('td', {'data-stat': 'fanduel_points'})[i].get_text()\n",
    "        pos_rank = container.findAll('td', {'data-stat': 'fantasy_rank_pos'})[i].get_text()\n",
    "        overall_rank = container.findAll('td', {'data-stat': 'fantasy_rank_overall'})[i].get_text()\n",
    "        \n",
    "        global df\n",
    "        \n",
    "        df = df.append({'Player': name, \n",
    "                       'Team': team,\n",
    "                       'Position': position,\n",
    "                       'Age': age,\n",
    "                       'Games': games,\n",
    "                       'GamesStarted': gamesstarted,\n",
    "                       'CompletedPasses': completions,\n",
    "                       'PassesAttempted': pass_att,\n",
    "                       'PassingYds': pass_yds,\n",
    "                       'PassingTDs': pass_tds,\n",
    "                       'Interceptions': pass_int,\n",
    "                       'RushingAttempts': rush_att,\n",
    "                       'RushingYds': rush_yds,\n",
    "                       'RushingYdspAtt': yds_p_att,\n",
    "                       'RushingTDs': rushing_td,\n",
    "                       'Targeted': targets,\n",
    "                       'Receptions': receptions,\n",
    "                       'ReceivingYds': rec_yds,\n",
    "                       'YdspReception': rec_yds_rec,\n",
    "                       'ReceivingTDs': rec_td,\n",
    "                       'Fumbles': fumbles,\n",
    "                       'LostFumbles': lost_fum,\n",
    "                       'TtlTDs': ttl_td,\n",
    "                       'TwoPTConversions': twopt_conv,\n",
    "                       'TwoPTConversionPasses': twopt_pass,\n",
    "                       'FDFantasyPts': fant_pts,\n",
    "                       'PositionRank': pos_rank,\n",
    "                       'OverallRank': overall_rank}, ignore_index = True)"
   ]
  },
  {
   "cell_type": "code",
   "execution_count": 10,
   "metadata": {},
   "outputs": [],
   "source": [
    "### week fantasy points\n",
    "\n",
    "def get_lw_fantasy(url):\n",
    "    \"\"\"\n",
    "    This function takes a url and passes it through requests.get and then uses BeautifulSoup to parse the html for \n",
    "    fantasy points by player and team when it comes to the defense.\n",
    "    \n",
    "    Parameters:\n",
    "        url: website looking to scrape for information.\n",
    "        \n",
    "    Returns:\n",
    "        Lists for names, teams, positions and week fantasy points that can be set equal to the columns for a \n",
    "        dataframe.\n",
    "    \n",
    "    \"\"\"\n",
    "    \n",
    "    html = requests.get(url)\n",
    "    soup = BeautifulSoup(html.content, 'html.parser')\n",
    "    container = soup.find('tbody')\n",
    "    \n",
    "    names = []\n",
    "    teams = []\n",
    "    positions = []\n",
    "    week_1 = []\n",
    "    \n",
    "    team_count = 1\n",
    "    pos_count = 2\n",
    "    fant_pts = 3\n",
    "    \n",
    "    for i in range(len(container.findAll('td', class_ = 'player-label'))):\n",
    "        name = container.findAll('td', class_ = 'player-label')[i].get_text()\n",
    "        names.append(name)\n",
    "        \n",
    "    for i in range(len(container.findAll('td', class_ = 'center'))):\n",
    "        if team_count <= len(container.findAll('td', class_ = 'center')):\n",
    "            team = container.findAll('td', class_ = 'center')[team_count].get_text()\n",
    "            teams.append(team)\n",
    "            team_count += 6\n",
    "        \n",
    "        if pos_count <= len(container.findAll('td', class_ = 'center')):\n",
    "            position = container.findAll('td', class_ = 'center')[pos_count].get_text()\n",
    "            positions.append(position)\n",
    "            pos_count += 6\n",
    "        \n",
    "        if fant_pts <= len(container.findAll('td', class_ = 'center')):\n",
    "            fant_pt = container.findAll('td', class_ = 'center')[fant_pts].get_text()\n",
    "            week_1.append(fant_pt)\n",
    "            fant_pts += 6\n",
    "    \n",
    "    return names, teams, positions, week_1"
   ]
  },
  {
   "cell_type": "code",
   "execution_count": 11,
   "metadata": {},
   "outputs": [],
   "source": [
    "def get_defense_stats(url):\n",
    "    \"\"\"\n",
    "    This function takes a url and passes it through requests.get and then uses BeautifulSoup to parse the html for \n",
    "    stats for a team's defense.\n",
    "    \n",
    "    Parameters:\n",
    "        url: website looking to scrape for information.\n",
    "        \n",
    "    Returns:\n",
    "        Completed dataframe with each team's total defensive stats season to date in the NFL.\n",
    "    \n",
    "    \"\"\"\n",
    "    html = requests.get(url)\n",
    "    soup = BeautifulSoup(html.content, 'html.parser')\n",
    "    container = soup.find('tbody')\n",
    "    \n",
    "    yds_count = 0\n",
    "    att_count = 0\n",
    "    yds_p_att_count = 0\n",
    "    td_count = 0\n",
    "    \n",
    "    for i in range(len(container.findAll('span', class_ = 'hidden-xs-down'))):\n",
    "                \n",
    "        name = container.findAll('span', class_ = 'hidden-xs-down')[i].get_text()\n",
    "        \n",
    "        ttl_pts = container.findAll('td', {'data-title': 'PTS'})[i].get_text().replace('\\n', '').replace(' ', '')        \n",
    "        ttl_off = container.findAll('td', {'data-title': 'PLAYS'})[i].get_text().replace('\\n', '').replace(' ', '')\n",
    "        ttl_yds_p_play = container.findAll('td', {'data-title': 'YDS/PLAY'})[i].get_text().replace('\\n', '').replace(' ', '')\n",
    "        completions = container.findAll('td', {'data-title': 'COMP'})[i].get_text().replace('\\n', '').replace(' ', '')\n",
    "        yds_p_comp = container.findAll('td', {'data-title': 'YDS/COMP'})[i].get_text().replace('\\n', '').replace(' ', '')\n",
    "        rz_att = container.findAll('td', {'data-title': 'RZ ATT'})[i].get_text().replace('\\n', '').replace(' ', '')\n",
    "        rz_td = container.findAll('td', {'data-title': 'RZ TD'})[i].get_text().replace('\\n', '').replace(' ', '')\n",
    "        rz_perc = container.findAll('td', {'data-title': 'RZ %'})[i].get_text().replace('\\n', '').replace(' ', '')\n",
    "        turnovers = container.findAll('td', {'data-title': 'TOV'})[i].get_text().replace('\\n', '').replace(' ', '')\n",
    "        ints = container.findAll('td', {'data-title': 'INT'})[i].get_text().replace('\\n', '').replace(' ', '')\n",
    "        fumble = container.findAll('td', {'data-title': 'FUML'})[i].get_text().replace('\\n', '').replace(' ', '')\n",
    "        sacks = container.findAll('td', {'data-title': 'SACKS'})[i].get_text().replace('\\n', '').replace(' ', '')\n",
    "        \n",
    "        \n",
    "        if yds_count <= len(container.findAll('td', {'data-title': 'YDS'})):\n",
    "            ttl_yards = container.findAll('td', {'data-title': 'YDS'})[yds_count].get_text().replace('\\n', '').replace(' ', '')\n",
    "            yds_count += 1\n",
    "            rush_yds = container.findAll('td', {'data-title': 'YDS'})[yds_count].get_text().replace('\\n', '').replace(' ', '')\n",
    "            yds_count += 1\n",
    "            rec_yds = container.findAll('td', {'data-title': 'YDS'})[yds_count].get_text().replace('\\n', '').replace(' ', '')\n",
    "            yds_count += 1\n",
    "               \n",
    "        if att_count <= len(container.findAll('td', {'data-title': 'ATT'})):\n",
    "            rush_att = container.findAll('td', {'data-title': 'ATT'})[att_count].get_text().replace('\\n', '').replace(' ', '')\n",
    "            att_count += 1\n",
    "            rec_att = container.findAll('td', {'data-title': 'ATT'})[att_count].get_text().replace('\\n', '').replace(' ', '')\n",
    "            att_count += 1\n",
    "\n",
    "        if yds_p_att_count <= len(container.findAll('td', {'data-title': 'YDS/ATT'})):\n",
    "            rush_ypa = container.findAll('td', {'data-title': 'YDS/ATT'})[yds_p_att_count].get_text().replace('\\n', '').replace(' ', '')\n",
    "            yds_p_att_count += 1\n",
    "            rec_ypa = container.findAll('td', {'data-title': 'YDS/ATT'})[yds_p_att_count].get_text().replace('\\n', '').replace(' ', '')\n",
    "            yds_p_att_count += 1\n",
    "            \n",
    "        if td_count <= len(container.findAll('td', {'data-title': 'YDS/ATT'})):\n",
    "            rush_td = container.findAll('td', {'data-title': 'TD'})[td_count].get_text().replace('\\n', '').replace(' ', '')\n",
    "            td_count += 1\n",
    "            rec_td = container.findAll('td', {'data-title': 'TD'})[td_count].get_text().replace('\\n', '').replace(' ', '')\n",
    "            td_count += 1\n",
    "        \n",
    "        global defense_df\n",
    "        defense_df = defense_df.append({'Team': name, \n",
    "                                       'Ttl_Pts_Allowed': ttl_pts,\n",
    "                                       'Ttl_Offense_Plays_Allowed': ttl_off,\n",
    "                                       'Yds_p_Play': ttl_yds_p_play,\n",
    "                                       'Ttl_Yds': ttl_yards,\n",
    "                                       'Rushing_Att': rush_att,\n",
    "                                       'Rushing_Yds': rush_yds,\n",
    "                                       'Rushing_Yds_p_Att': rush_ypa,\n",
    "                                       'Rushing_TDs': rush_td,\n",
    "                                       'Passing_Att': rec_att,\n",
    "                                       'Passing_Yds_p_Att': rec_ypa,\n",
    "                                       'Completions': completions,\n",
    "                                       'Yds_p_Completion': yds_p_comp,\n",
    "                                       'Passing_Yds': rec_yds,\n",
    "                                       'Passing_TDs': rec_td,\n",
    "                                       'RZ_Att': rz_att,\n",
    "                                       'RZ_TD': rz_td,\n",
    "                                       'RZ_Percent': rz_perc,\n",
    "                                       'Ttl_Turnovers': turnovers,\n",
    "                                       'Interceptions': ints,\n",
    "                                       'Fumbles': fumble,\n",
    "                                       'Sacks': sacks}, ignore_index = True)"
   ]
  },
  {
   "cell_type": "code",
   "execution_count": 57,
   "metadata": {},
   "outputs": [],
   "source": [
    "def get_defense_g(url):\n",
    "    html = requests.get(url)\n",
    "    soup = BeautifulSoup(html.content, 'html.parser')\n",
    "    container = soup.find('tbody')\n",
    "    \n",
    "    for i in range(len(container.findAll('a', class_ = 'AnchorLink'))):\n",
    "        if i % 2 == 0:\n",
    "            team_name = container.find('a', class_ = 'AnchorLink')[i]\n",
    "            team_name = str(team_name).rstrip('\"/></a>').split('\"')[-1]\n",
    "      \n",
    "    for i in range(len())\n",
    "    global defense_games\n",
    "    defense_games = defense_games.append({'Team': team_name, \n",
    "                                          'GP': games}, ignore_index = True)"
   ]
  },
  {
   "cell_type": "code",
   "execution_count": 21,
   "metadata": {},
   "outputs": [],
   "source": [
    "url = 'https://www.espn.com/nfl/stats/team/_/view/defense'\n",
    "html = requests.get(url)\n",
    "soup = BeautifulSoup(html.content, 'html.parser')"
   ]
  },
  {
   "cell_type": "code",
   "execution_count": 61,
   "metadata": {},
   "outputs": [],
   "source": [
    "container = soup.findAll('tbody')"
   ]
  },
  {
   "cell_type": "code",
   "execution_count": 64,
   "metadata": {},
   "outputs": [
    {
     "data": {
      "text/plain": [
       "[<tbody class=\"Table__TBODY\"><tr class=\"Table__TR Table__TR--sm Table__even\" data-idx=\"0\"><td class=\"Table__TD\"><div class=\"flex items-start mr7\"><span class=\"pr3 TeamLink__Logo\"><a class=\"AnchorLink\" href=\"/nfl/team/_/name/ind/indianapolis-colts\" tabindex=\"0\"><img alt=\"Indianapolis Colts\" class=\"Image Logo Logo__sm\" data-mptype=\"image\" src=\"data:image/gif;base64,R0lGODlhAQABAIAAAAAAAP///yH5BAEAAAAALAAAAAABAAEAAAIBRAA7\" title=\"Indianapolis Colts\"/></a></span><a class=\"AnchorLink\" data-clubhouse-uid=\"s:20~l:28~t:11\" href=\"/nfl/team/_/name/ind/indianapolis-colts\" tabindex=\"0\">Indianapolis Colts</a></div></td></tr><tr class=\"Table__TR Table__TR--sm Table__even\" data-idx=\"1\"><td class=\"Table__TD\"><div class=\"flex items-start mr7\"><span class=\"pr3 TeamLink__Logo\"><a class=\"AnchorLink\" href=\"/nfl/team/_/name/tb/tampa-bay-buccaneers\" tabindex=\"0\"><img alt=\"Tampa Bay Buccaneers\" class=\"Image Logo Logo__sm\" data-mptype=\"image\" src=\"data:image/gif;base64,R0lGODlhAQABAIAAAAAAAP///yH5BAEAAAAALAAAAAABAAEAAAIBRAA7\" title=\"Tampa Bay Buccaneers\"/></a></span><a class=\"AnchorLink\" data-clubhouse-uid=\"s:20~l:28~t:27\" href=\"/nfl/team/_/name/tb/tampa-bay-buccaneers\" tabindex=\"0\">Tampa Bay Buccaneers</a></div></td></tr><tr class=\"Table__TR Table__TR--sm Table__even\" data-idx=\"2\"><td class=\"Table__TD\"><div class=\"flex items-start mr7\"><span class=\"pr3 TeamLink__Logo\"><a class=\"AnchorLink\" href=\"/nfl/team/_/name/pit/pittsburgh-steelers\" tabindex=\"0\"><img alt=\"Pittsburgh Steelers\" class=\"Image Logo Logo__sm\" data-mptype=\"image\" src=\"data:image/gif;base64,R0lGODlhAQABAIAAAAAAAP///yH5BAEAAAAALAAAAAABAAEAAAIBRAA7\" title=\"Pittsburgh Steelers\"/></a></span><a class=\"AnchorLink\" data-clubhouse-uid=\"s:20~l:28~t:23\" href=\"/nfl/team/_/name/pit/pittsburgh-steelers\" tabindex=\"0\">Pittsburgh Steelers</a></div></td></tr><tr class=\"Table__TR Table__TR--sm Table__even\" data-idx=\"3\"><td class=\"Table__TD\"><div class=\"flex items-start mr7\"><span class=\"pr3 TeamLink__Logo\"><a class=\"AnchorLink\" href=\"/nfl/team/_/name/lar/los-angeles-rams\" tabindex=\"0\"><img alt=\"Los Angeles Rams\" class=\"Image Logo Logo__sm\" data-mptype=\"image\" src=\"data:image/gif;base64,R0lGODlhAQABAIAAAAAAAP///yH5BAEAAAAALAAAAAABAAEAAAIBRAA7\" title=\"Los Angeles Rams\"/></a></span><a class=\"AnchorLink\" data-clubhouse-uid=\"s:20~l:28~t:14\" href=\"/nfl/team/_/name/lar/los-angeles-rams\" tabindex=\"0\">Los Angeles Rams</a></div></td></tr><tr class=\"Table__TR Table__TR--sm Table__even\" data-idx=\"4\"><td class=\"Table__TD\"><div class=\"flex items-start mr7\"><span class=\"pr3 TeamLink__Logo\"><a class=\"AnchorLink\" href=\"/nfl/team/_/name/sf/san-francisco-49ers\" tabindex=\"0\"><img alt=\"San Francisco 49ers\" class=\"Image Logo Logo__sm\" data-mptype=\"image\" src=\"data:image/gif;base64,R0lGODlhAQABAIAAAAAAAP///yH5BAEAAAAALAAAAAABAAEAAAIBRAA7\" title=\"San Francisco 49ers\"/></a></span><a class=\"AnchorLink\" data-clubhouse-uid=\"s:20~l:28~t:25\" href=\"/nfl/team/_/name/sf/san-francisco-49ers\" tabindex=\"0\">San Francisco 49ers</a></div></td></tr><tr class=\"Table__TR Table__TR--sm Table__even\" data-idx=\"5\"><td class=\"Table__TD\"><div class=\"flex items-start mr7\"><span class=\"pr3 TeamLink__Logo\"><a class=\"AnchorLink\" href=\"/nfl/team/_/name/bal/baltimore-ravens\" tabindex=\"0\"><img alt=\"Baltimore Ravens\" class=\"Image Logo Logo__sm\" data-mptype=\"image\" src=\"data:image/gif;base64,R0lGODlhAQABAIAAAAAAAP///yH5BAEAAAAALAAAAAABAAEAAAIBRAA7\" title=\"Baltimore Ravens\"/></a></span><a class=\"AnchorLink\" data-clubhouse-uid=\"s:20~l:28~t:33\" href=\"/nfl/team/_/name/bal/baltimore-ravens\" tabindex=\"0\">Baltimore Ravens</a></div></td></tr><tr class=\"Table__TR Table__TR--sm Table__even\" data-idx=\"6\"><td class=\"Table__TD\"><div class=\"flex items-start mr7\"><span class=\"pr3 TeamLink__Logo\"><a class=\"AnchorLink\" href=\"/nfl/team/_/name/no/new-orleans-saints\" tabindex=\"0\"><img alt=\"New Orleans Saints\" class=\"Image Logo Logo__sm\" data-mptype=\"image\" src=\"data:image/gif;base64,R0lGODlhAQABAIAAAAAAAP///yH5BAEAAAAALAAAAAABAAEAAAIBRAA7\" title=\"New Orleans Saints\"/></a></span><a class=\"AnchorLink\" data-clubhouse-uid=\"s:20~l:28~t:18\" href=\"/nfl/team/_/name/no/new-orleans-saints\" tabindex=\"0\">New Orleans Saints</a></div></td></tr><tr class=\"Table__TR Table__TR--sm Table__even\" data-idx=\"7\"><td class=\"Table__TD\"><div class=\"flex items-start mr7\"><span class=\"pr3 TeamLink__Logo\"><a class=\"AnchorLink\" href=\"/nfl/team/_/name/nyg/new-york-giants\" tabindex=\"0\"><img alt=\"New York Giants\" class=\"Image Logo Logo__sm\" data-mptype=\"image\" src=\"data:image/gif;base64,R0lGODlhAQABAIAAAAAAAP///yH5BAEAAAAALAAAAAABAAEAAAIBRAA7\" title=\"New York Giants\"/></a></span><a class=\"AnchorLink\" data-clubhouse-uid=\"s:20~l:28~t:19\" href=\"/nfl/team/_/name/nyg/new-york-giants\" tabindex=\"0\">New York Giants</a></div></td></tr><tr class=\"Table__TR Table__TR--sm Table__even\" data-idx=\"8\"><td class=\"Table__TD\"><div class=\"flex items-start mr7\"><span class=\"pr3 TeamLink__Logo\"><a class=\"AnchorLink\" href=\"/nfl/team/_/name/chi/chicago-bears\" tabindex=\"0\"><img alt=\"Chicago Bears\" class=\"Image Logo Logo__sm\" data-mptype=\"image\" src=\"data:image/gif;base64,R0lGODlhAQABAIAAAAAAAP///yH5BAEAAAAALAAAAAABAAEAAAIBRAA7\" title=\"Chicago Bears\"/></a></span><a class=\"AnchorLink\" data-clubhouse-uid=\"s:20~l:28~t:3\" href=\"/nfl/team/_/name/chi/chicago-bears\" tabindex=\"0\">Chicago Bears</a></div></td></tr><tr class=\"Table__TR Table__TR--sm Table__even\" data-idx=\"9\"><td class=\"Table__TD\"><div class=\"flex items-start mr7\"><span class=\"pr3 TeamLink__Logo\"><a class=\"AnchorLink\" href=\"/nfl/team/_/name/ari/arizona-cardinals\" tabindex=\"0\"><img alt=\"Arizona Cardinals\" class=\"Image Logo Logo__sm\" data-mptype=\"image\" src=\"data:image/gif;base64,R0lGODlhAQABAIAAAAAAAP///yH5BAEAAAAALAAAAAABAAEAAAIBRAA7\" title=\"Arizona Cardinals\"/></a></span><a class=\"AnchorLink\" data-clubhouse-uid=\"s:20~l:28~t:22\" href=\"/nfl/team/_/name/ari/arizona-cardinals\" tabindex=\"0\">Arizona Cardinals</a></div></td></tr><tr class=\"Table__TR Table__TR--sm Table__even\" data-idx=\"10\"><td class=\"Table__TD\"><div class=\"flex items-start mr7\"><span class=\"pr3 TeamLink__Logo\"><a class=\"AnchorLink\" href=\"/nfl/team/_/name/ne/new-england-patriots\" tabindex=\"0\"><img alt=\"New England Patriots\" class=\"Image Logo Logo__sm\" data-mptype=\"image\" src=\"data:image/gif;base64,R0lGODlhAQABAIAAAAAAAP///yH5BAEAAAAALAAAAAABAAEAAAIBRAA7\" title=\"New England Patriots\"/></a></span><a class=\"AnchorLink\" data-clubhouse-uid=\"s:20~l:28~t:17\" href=\"/nfl/team/_/name/ne/new-england-patriots\" tabindex=\"0\">New England Patriots</a></div></td></tr><tr class=\"Table__TR Table__TR--sm Table__even\" data-idx=\"11\"><td class=\"Table__TD\"><div class=\"flex items-start mr7\"><span class=\"pr3 TeamLink__Logo\"><a class=\"AnchorLink\" href=\"/nfl/team/_/name/gb/green-bay-packers\" tabindex=\"0\"><img alt=\"Green Bay Packers\" class=\"Image Logo Logo__sm\" data-mptype=\"image\" src=\"data:image/gif;base64,R0lGODlhAQABAIAAAAAAAP///yH5BAEAAAAALAAAAAABAAEAAAIBRAA7\" title=\"Green Bay Packers\"/></a></span><a class=\"AnchorLink\" data-clubhouse-uid=\"s:20~l:28~t:9\" href=\"/nfl/team/_/name/gb/green-bay-packers\" tabindex=\"0\">Green Bay Packers</a></div></td></tr><tr class=\"Table__TR Table__TR--sm Table__even\" data-idx=\"12\"><td class=\"Table__TD\"><div class=\"flex items-start mr7\"><span class=\"pr3 TeamLink__Logo\"><a class=\"AnchorLink\" href=\"/nfl/team/_/name/phi/philadelphia-eagles\" tabindex=\"0\"><img alt=\"Philadelphia Eagles\" class=\"Image Logo Logo__sm\" data-mptype=\"image\" src=\"data:image/gif;base64,R0lGODlhAQABAIAAAAAAAP///yH5BAEAAAAALAAAAAABAAEAAAIBRAA7\" title=\"Philadelphia Eagles\"/></a></span><a class=\"AnchorLink\" data-clubhouse-uid=\"s:20~l:28~t:21\" href=\"/nfl/team/_/name/phi/philadelphia-eagles\" tabindex=\"0\">Philadelphia Eagles</a></div></td></tr><tr class=\"Table__TR Table__TR--sm Table__even\" data-idx=\"13\"><td class=\"Table__TD\"><div class=\"flex items-start mr7\"><span class=\"pr3 TeamLink__Logo\"><a class=\"AnchorLink\" href=\"/nfl/team/_/name/wsh/washington\" tabindex=\"0\"><img alt=\"Washington\" class=\"Image Logo Logo__sm\" data-mptype=\"image\" src=\"data:image/gif;base64,R0lGODlhAQABAIAAAAAAAP///yH5BAEAAAAALAAAAAABAAEAAAIBRAA7\" title=\"Washington\"/></a></span><a class=\"AnchorLink\" data-clubhouse-uid=\"s:20~l:28~t:28\" href=\"/nfl/team/_/name/wsh/washington\" tabindex=\"0\">Washington</a></div></td></tr><tr class=\"Table__TR Table__TR--sm Table__even\" data-idx=\"14\"><td class=\"Table__TD\"><div class=\"flex items-start mr7\"><span class=\"pr3 TeamLink__Logo\"><a class=\"AnchorLink\" href=\"/nfl/team/_/name/car/carolina-panthers\" tabindex=\"0\"><img alt=\"Carolina Panthers\" class=\"Image Logo Logo__sm\" data-mptype=\"image\" src=\"data:image/gif;base64,R0lGODlhAQABAIAAAAAAAP///yH5BAEAAAAALAAAAAABAAEAAAIBRAA7\" title=\"Carolina Panthers\"/></a></span><a class=\"AnchorLink\" data-clubhouse-uid=\"s:20~l:28~t:29\" href=\"/nfl/team/_/name/car/carolina-panthers\" tabindex=\"0\">Carolina Panthers</a></div></td></tr><tr class=\"Table__TR Table__TR--sm Table__even\" data-idx=\"15\"><td class=\"Table__TD\"><div class=\"flex items-start mr7\"><span class=\"pr3 TeamLink__Logo\"><a class=\"AnchorLink\" href=\"/nfl/team/_/name/den/denver-broncos\" tabindex=\"0\"><img alt=\"Denver Broncos\" class=\"Image Logo Logo__sm\" data-mptype=\"image\" src=\"data:image/gif;base64,R0lGODlhAQABAIAAAAAAAP///yH5BAEAAAAALAAAAAABAAEAAAIBRAA7\" title=\"Denver Broncos\"/></a></span><a class=\"AnchorLink\" data-clubhouse-uid=\"s:20~l:28~t:7\" href=\"/nfl/team/_/name/den/denver-broncos\" tabindex=\"0\">Denver Broncos</a></div></td></tr><tr class=\"Table__TR Table__TR--sm Table__even\" data-idx=\"16\"><td class=\"Table__TD\"><div class=\"flex items-start mr7\"><span class=\"pr3 TeamLink__Logo\"><a class=\"AnchorLink\" href=\"/nfl/team/_/name/buf/buffalo-bills\" tabindex=\"0\"><img alt=\"Buffalo Bills\" class=\"Image Logo Logo__sm\" data-mptype=\"image\" src=\"data:image/gif;base64,R0lGODlhAQABAIAAAAAAAP///yH5BAEAAAAALAAAAAABAAEAAAIBRAA7\" title=\"Buffalo Bills\"/></a></span><a class=\"AnchorLink\" data-clubhouse-uid=\"s:20~l:28~t:2\" href=\"/nfl/team/_/name/buf/buffalo-bills\" tabindex=\"0\">Buffalo Bills</a></div></td></tr><tr class=\"Table__TR Table__TR--sm Table__even\" data-idx=\"17\"><td class=\"Table__TD\"><div class=\"flex items-start mr7\"><span class=\"pr3 TeamLink__Logo\"><a class=\"AnchorLink\" href=\"/nfl/team/_/name/mia/miami-dolphins\" tabindex=\"0\"><img alt=\"Miami Dolphins\" class=\"Image Logo Logo__sm\" data-mptype=\"image\" src=\"data:image/gif;base64,R0lGODlhAQABAIAAAAAAAP///yH5BAEAAAAALAAAAAABAAEAAAIBRAA7\" title=\"Miami Dolphins\"/></a></span><a class=\"AnchorLink\" data-clubhouse-uid=\"s:20~l:28~t:15\" href=\"/nfl/team/_/name/mia/miami-dolphins\" tabindex=\"0\">Miami Dolphins</a></div></td></tr><tr class=\"Table__TR Table__TR--sm Table__even\" data-idx=\"18\"><td class=\"Table__TD\"><div class=\"flex items-start mr7\"><span class=\"pr3 TeamLink__Logo\"><a class=\"AnchorLink\" href=\"/nfl/team/_/name/lac/los-angeles-chargers\" tabindex=\"0\"><img alt=\"Los Angeles Chargers\" class=\"Image Logo Logo__sm\" data-mptype=\"image\" src=\"data:image/gif;base64,R0lGODlhAQABAIAAAAAAAP///yH5BAEAAAAALAAAAAABAAEAAAIBRAA7\" title=\"Los Angeles Chargers\"/></a></span><a class=\"AnchorLink\" data-clubhouse-uid=\"s:20~l:28~t:24\" href=\"/nfl/team/_/name/lac/los-angeles-chargers\" tabindex=\"0\">Los Angeles Chargers</a></div></td></tr><tr class=\"Table__TR Table__TR--sm Table__even\" data-idx=\"19\"><td class=\"Table__TD\"><div class=\"flex items-start mr7\"><span class=\"pr3 TeamLink__Logo\"><a class=\"AnchorLink\" href=\"/nfl/team/_/name/kc/kansas-city-chiefs\" tabindex=\"0\"><img alt=\"Kansas City Chiefs\" class=\"Image Logo Logo__sm\" data-mptype=\"image\" src=\"data:image/gif;base64,R0lGODlhAQABAIAAAAAAAP///yH5BAEAAAAALAAAAAABAAEAAAIBRAA7\" title=\"Kansas City Chiefs\"/></a></span><a class=\"AnchorLink\" data-clubhouse-uid=\"s:20~l:28~t:12\" href=\"/nfl/team/_/name/kc/kansas-city-chiefs\" tabindex=\"0\">Kansas City Chiefs</a></div></td></tr><tr class=\"Table__TR Table__TR--sm Table__even\" data-idx=\"20\"><td class=\"Table__TD\"><div class=\"flex items-start mr7\"><span class=\"pr3 TeamLink__Logo\"><a class=\"AnchorLink\" href=\"/nfl/team/_/name/cle/cleveland-browns\" tabindex=\"0\"><img alt=\"Cleveland Browns\" class=\"Image Logo Logo__sm\" data-mptype=\"image\" src=\"data:image/gif;base64,R0lGODlhAQABAIAAAAAAAP///yH5BAEAAAAALAAAAAABAAEAAAIBRAA7\" title=\"Cleveland Browns\"/></a></span><a class=\"AnchorLink\" data-clubhouse-uid=\"s:20~l:28~t:5\" href=\"/nfl/team/_/name/cle/cleveland-browns\" tabindex=\"0\">Cleveland Browns</a></div></td></tr><tr class=\"Table__TR Table__TR--sm Table__even\" data-idx=\"21\"><td class=\"Table__TD\"><div class=\"flex items-start mr7\"><span class=\"pr3 TeamLink__Logo\"><a class=\"AnchorLink\" href=\"/nfl/team/_/name/hou/houston-texans\" tabindex=\"0\"><img alt=\"Houston Texans\" class=\"Image Logo Logo__sm\" data-mptype=\"image\" src=\"data:image/gif;base64,R0lGODlhAQABAIAAAAAAAP///yH5BAEAAAAALAAAAAABAAEAAAIBRAA7\" title=\"Houston Texans\"/></a></span><a class=\"AnchorLink\" data-clubhouse-uid=\"s:20~l:28~t:34\" href=\"/nfl/team/_/name/hou/houston-texans\" tabindex=\"0\">Houston Texans</a></div></td></tr><tr class=\"Table__TR Table__TR--sm Table__even\" data-idx=\"22\"><td class=\"Table__TD\"><div class=\"flex items-start mr7\"><span class=\"pr3 TeamLink__Logo\"><a class=\"AnchorLink\" href=\"/nfl/team/_/name/cin/cincinnati-bengals\" tabindex=\"0\"><img alt=\"Cincinnati Bengals\" class=\"Image Logo Logo__sm\" data-mptype=\"image\" src=\"data:image/gif;base64,R0lGODlhAQABAIAAAAAAAP///yH5BAEAAAAALAAAAAABAAEAAAIBRAA7\" title=\"Cincinnati Bengals\"/></a></span><a class=\"AnchorLink\" data-clubhouse-uid=\"s:20~l:28~t:4\" href=\"/nfl/team/_/name/cin/cincinnati-bengals\" tabindex=\"0\">Cincinnati Bengals</a></div></td></tr><tr class=\"Table__TR Table__TR--sm Table__even\" data-idx=\"23\"><td class=\"Table__TD\"><div class=\"flex items-start mr7\"><span class=\"pr3 TeamLink__Logo\"><a class=\"AnchorLink\" href=\"/nfl/team/_/name/lv/las-vegas-raiders\" tabindex=\"0\"><img alt=\"Las Vegas Raiders\" class=\"Image Logo Logo__sm\" data-mptype=\"image\" src=\"data:image/gif;base64,R0lGODlhAQABAIAAAAAAAP///yH5BAEAAAAALAAAAAABAAEAAAIBRAA7\" title=\"Las Vegas Raiders\"/></a></span><a class=\"AnchorLink\" data-clubhouse-uid=\"s:20~l:28~t:13\" href=\"/nfl/team/_/name/lv/las-vegas-raiders\" tabindex=\"0\">Las Vegas Raiders</a></div></td></tr><tr class=\"Table__TR Table__TR--sm Table__even\" data-idx=\"24\"><td class=\"Table__TD\"><div class=\"flex items-start mr7\"><span class=\"pr3 TeamLink__Logo\"><a class=\"AnchorLink\" href=\"/nfl/team/_/name/nyj/new-york-jets\" tabindex=\"0\"><img alt=\"New York Jets\" class=\"Image Logo Logo__sm\" data-mptype=\"image\" src=\"data:image/gif;base64,R0lGODlhAQABAIAAAAAAAP///yH5BAEAAAAALAAAAAABAAEAAAIBRAA7\" title=\"New York Jets\"/></a></span><a class=\"AnchorLink\" data-clubhouse-uid=\"s:20~l:28~t:20\" href=\"/nfl/team/_/name/nyj/new-york-jets\" tabindex=\"0\">New York Jets</a></div></td></tr><tr class=\"Table__TR Table__TR--sm Table__even\" data-idx=\"25\"><td class=\"Table__TD\"><div class=\"flex items-start mr7\"><span class=\"pr3 TeamLink__Logo\"><a class=\"AnchorLink\" href=\"/nfl/team/_/name/min/minnesota-vikings\" tabindex=\"0\"><img alt=\"Minnesota Vikings\" class=\"Image Logo Logo__sm\" data-mptype=\"image\" src=\"data:image/gif;base64,R0lGODlhAQABAIAAAAAAAP///yH5BAEAAAAALAAAAAABAAEAAAIBRAA7\" title=\"Minnesota Vikings\"/></a></span><a class=\"AnchorLink\" data-clubhouse-uid=\"s:20~l:28~t:16\" href=\"/nfl/team/_/name/min/minnesota-vikings\" tabindex=\"0\">Minnesota Vikings</a></div></td></tr><tr class=\"Table__TR Table__TR--sm Table__even\" data-idx=\"26\"><td class=\"Table__TD\"><div class=\"flex items-start mr7\"><span class=\"pr3 TeamLink__Logo\"><a class=\"AnchorLink\" href=\"/nfl/team/_/name/dal/dallas-cowboys\" tabindex=\"0\"><img alt=\"Dallas Cowboys\" class=\"Image Logo Logo__sm\" data-mptype=\"image\" src=\"data:image/gif;base64,R0lGODlhAQABAIAAAAAAAP///yH5BAEAAAAALAAAAAABAAEAAAIBRAA7\" title=\"Dallas Cowboys\"/></a></span><a class=\"AnchorLink\" data-clubhouse-uid=\"s:20~l:28~t:6\" href=\"/nfl/team/_/name/dal/dallas-cowboys\" tabindex=\"0\">Dallas Cowboys</a></div></td></tr><tr class=\"Table__TR Table__TR--sm Table__even\" data-idx=\"27\"><td class=\"Table__TD\"><div class=\"flex items-start mr7\"><span class=\"pr3 TeamLink__Logo\"><a class=\"AnchorLink\" href=\"/nfl/team/_/name/det/detroit-lions\" tabindex=\"0\"><img alt=\"Detroit Lions\" class=\"Image Logo Logo__sm\" data-mptype=\"image\" src=\"data:image/gif;base64,R0lGODlhAQABAIAAAAAAAP///yH5BAEAAAAALAAAAAABAAEAAAIBRAA7\" title=\"Detroit Lions\"/></a></span><a class=\"AnchorLink\" data-clubhouse-uid=\"s:20~l:28~t:8\" href=\"/nfl/team/_/name/det/detroit-lions\" tabindex=\"0\">Detroit Lions</a></div></td></tr><tr class=\"Table__TR Table__TR--sm Table__even\" data-idx=\"28\"><td class=\"Table__TD\"><div class=\"flex items-start mr7\"><span class=\"pr3 TeamLink__Logo\"><a class=\"AnchorLink\" href=\"/nfl/team/_/name/ten/tennessee-titans\" tabindex=\"0\"><img alt=\"Tennessee Titans\" class=\"Image Logo Logo__sm\" data-mptype=\"image\" src=\"data:image/gif;base64,R0lGODlhAQABAIAAAAAAAP///yH5BAEAAAAALAAAAAABAAEAAAIBRAA7\" title=\"Tennessee Titans\"/></a></span><a class=\"AnchorLink\" data-clubhouse-uid=\"s:20~l:28~t:10\" href=\"/nfl/team/_/name/ten/tennessee-titans\" tabindex=\"0\">Tennessee Titans</a></div></td></tr><tr class=\"Table__TR Table__TR--sm Table__even\" data-idx=\"29\"><td class=\"Table__TD\"><div class=\"flex items-start mr7\"><span class=\"pr3 TeamLink__Logo\"><a class=\"AnchorLink\" href=\"/nfl/team/_/name/jax/jacksonville-jaguars\" tabindex=\"0\"><img alt=\"Jacksonville Jaguars\" class=\"Image Logo Logo__sm\" data-mptype=\"image\" src=\"data:image/gif;base64,R0lGODlhAQABAIAAAAAAAP///yH5BAEAAAAALAAAAAABAAEAAAIBRAA7\" title=\"Jacksonville Jaguars\"/></a></span><a class=\"AnchorLink\" data-clubhouse-uid=\"s:20~l:28~t:30\" href=\"/nfl/team/_/name/jax/jacksonville-jaguars\" tabindex=\"0\">Jacksonville Jaguars</a></div></td></tr><tr class=\"Table__TR Table__TR--sm Table__even\" data-idx=\"30\"><td class=\"Table__TD\"><div class=\"flex items-start mr7\"><span class=\"pr3 TeamLink__Logo\"><a class=\"AnchorLink\" href=\"/nfl/team/_/name/atl/atlanta-falcons\" tabindex=\"0\"><img alt=\"Atlanta Falcons\" class=\"Image Logo Logo__sm\" data-mptype=\"image\" src=\"data:image/gif;base64,R0lGODlhAQABAIAAAAAAAP///yH5BAEAAAAALAAAAAABAAEAAAIBRAA7\" title=\"Atlanta Falcons\"/></a></span><a class=\"AnchorLink\" data-clubhouse-uid=\"s:20~l:28~t:1\" href=\"/nfl/team/_/name/atl/atlanta-falcons\" tabindex=\"0\">Atlanta Falcons</a></div></td></tr><tr class=\"Table__TR Table__TR--sm Table__even\" data-idx=\"31\"><td class=\"Table__TD\"><div class=\"flex items-start mr7\"><span class=\"pr3 TeamLink__Logo\"><a class=\"AnchorLink\" href=\"/nfl/team/_/name/sea/seattle-seahawks\" tabindex=\"0\"><img alt=\"Seattle Seahawks\" class=\"Image Logo Logo__sm\" data-mptype=\"image\" src=\"data:image/gif;base64,R0lGODlhAQABAIAAAAAAAP///yH5BAEAAAAALAAAAAABAAEAAAIBRAA7\" title=\"Seattle Seahawks\"/></a></span><a class=\"AnchorLink\" data-clubhouse-uid=\"s:20~l:28~t:26\" href=\"/nfl/team/_/name/sea/seattle-seahawks\" tabindex=\"0\">Seattle Seahawks</a></div></td></tr></tbody>,\n",
       " <tbody class=\"Table__TBODY\"><tr class=\"Table__TR Table__TR--sm Table__even\" data-idx=\"0\"><td class=\"Table__TD\"><div class=\"\">5</div></td><td class=\"Table__TD\"><div class=\"\">1,330</div></td><td class=\"Table__TD\"><div class=\"\">266.0</div></td><td class=\"Table__TD\"><div class=\"\">898</div></td><td class=\"Table__TD\"><div class=\"\">179.6</div></td><td class=\"Table__TD\"><div class=\"\">432</div></td><td class=\"Table__TD\"><div class=\"\">86.4</div></td><td class=\"Table__TD\"><div class=\"\">88</div></td><td class=\"Table__TD\"><div class=\"\">17.6</div></td></tr><tr class=\"Table__TR Table__TR--sm Table__even\" data-idx=\"1\"><td class=\"Table__TD\"><div class=\"\">5</div></td><td class=\"Table__TD\"><div class=\"\">1,491</div></td><td class=\"Table__TD\"><div class=\"\">298.2</div></td><td class=\"Table__TD\"><div class=\"\">1,199</div></td><td class=\"Table__TD\"><div class=\"\">239.8</div></td><td class=\"Table__TD\"><div class=\"\">292</div></td><td class=\"Table__TD\"><div class=\"\">58.4</div></td><td class=\"Table__TD\"><div class=\"\">112</div></td><td class=\"Table__TD\"><div class=\"\">22.4</div></td></tr><tr class=\"Table__TR Table__TR--sm Table__even\" data-idx=\"2\"><td class=\"Table__TD\"><div class=\"\">4</div></td><td class=\"Table__TD\"><div class=\"\">1,206</div></td><td class=\"Table__TD\"><div class=\"\">301.5</div></td><td class=\"Table__TD\"><div class=\"\">950</div></td><td class=\"Table__TD\"><div class=\"\">237.5</div></td><td class=\"Table__TD\"><div class=\"\">256</div></td><td class=\"Table__TD\"><div class=\"\">64.0</div></td><td class=\"Table__TD\"><div class=\"\">87</div></td><td class=\"Table__TD\"><div class=\"\">21.8</div></td></tr><tr class=\"Table__TR Table__TR--sm Table__even\" data-idx=\"3\"><td class=\"Table__TD\"><div class=\"\">5</div></td><td class=\"Table__TD\"><div class=\"\">1,521</div></td><td class=\"Table__TD\"><div class=\"\">304.2</div></td><td class=\"Table__TD\"><div class=\"\">989</div></td><td class=\"Table__TD\"><div class=\"\">197.8</div></td><td class=\"Table__TD\"><div class=\"\">532</div></td><td class=\"Table__TD\"><div class=\"\">106.4</div></td><td class=\"Table__TD\"><div class=\"\">90</div></td><td class=\"Table__TD\"><div class=\"\">18.0</div></td></tr><tr class=\"Table__TR Table__TR--sm Table__even\" data-idx=\"4\"><td class=\"Table__TD\"><div class=\"\">5</div></td><td class=\"Table__TD\"><div class=\"\">1,615</div></td><td class=\"Table__TD\"><div class=\"\">323.0</div></td><td class=\"Table__TD\"><div class=\"\">1,078</div></td><td class=\"Table__TD\"><div class=\"\">215.6</div></td><td class=\"Table__TD\"><div class=\"\">537</div></td><td class=\"Table__TD\"><div class=\"\">107.4</div></td><td class=\"Table__TD\"><div class=\"\">114</div></td><td class=\"Table__TD\"><div class=\"\">22.8</div></td></tr><tr class=\"Table__TR Table__TR--sm Table__even\" data-idx=\"5\"><td class=\"Table__TD\"><div class=\"\">5</div></td><td class=\"Table__TD\"><div class=\"\">1,675</div></td><td class=\"Table__TD\"><div class=\"\">335.0</div></td><td class=\"Table__TD\"><div class=\"\">1,215</div></td><td class=\"Table__TD\"><div class=\"\">243.0</div></td><td class=\"Table__TD\"><div class=\"\">460</div></td><td class=\"Table__TD\"><div class=\"\">92.0</div></td><td class=\"Table__TD\"><div class=\"\">76</div></td><td class=\"Table__TD\"><div class=\"\">15.2</div></td></tr><tr class=\"Table__TR Table__TR--sm Table__even\" data-idx=\"6\"><td class=\"Table__TD\"><div class=\"\">5</div></td><td class=\"Table__TD\"><div class=\"\">1,687</div></td><td class=\"Table__TD\"><div class=\"\">337.4</div></td><td class=\"Table__TD\"><div class=\"\">1,186</div></td><td class=\"Table__TD\"><div class=\"\">237.2</div></td><td class=\"Table__TD\"><div class=\"\">501</div></td><td class=\"Table__TD\"><div class=\"\">100.2</div></td><td class=\"Table__TD\"><div class=\"\">150</div></td><td class=\"Table__TD\"><div class=\"\">30.0</div></td></tr><tr class=\"Table__TR Table__TR--sm Table__even\" data-idx=\"7\"><td class=\"Table__TD\"><div class=\"\">5</div></td><td class=\"Table__TD\"><div class=\"\">1,715</div></td><td class=\"Table__TD\"><div class=\"\">343.0</div></td><td class=\"Table__TD\"><div class=\"\">1,162</div></td><td class=\"Table__TD\"><div class=\"\">232.4</div></td><td class=\"Table__TD\"><div class=\"\">553</div></td><td class=\"Table__TD\"><div class=\"\">110.6</div></td><td class=\"Table__TD\"><div class=\"\">133</div></td><td class=\"Table__TD\"><div class=\"\">26.6</div></td></tr><tr class=\"Table__TR Table__TR--sm Table__even\" data-idx=\"8\"><td class=\"Table__TD\"><div class=\"\">5</div></td><td class=\"Table__TD\"><div class=\"\">1,720</div></td><td class=\"Table__TD\"><div class=\"\">344.0</div></td><td class=\"Table__TD\"><div class=\"\">1,154</div></td><td class=\"Table__TD\"><div class=\"\">230.8</div></td><td class=\"Table__TD\"><div class=\"\">566</div></td><td class=\"Table__TD\"><div class=\"\">113.2</div></td><td class=\"Table__TD\"><div class=\"\">100</div></td><td class=\"Table__TD\"><div class=\"\">20.0</div></td></tr><tr class=\"Table__TR Table__TR--sm Table__even\" data-idx=\"9\"><td class=\"Table__TD\"><div class=\"\">5</div></td><td class=\"Table__TD\"><div class=\"\">1,733</div></td><td class=\"Table__TD\"><div class=\"\">346.6</div></td><td class=\"Table__TD\"><div class=\"\">1,112</div></td><td class=\"Table__TD\"><div class=\"\">222.4</div></td><td class=\"Table__TD\"><div class=\"\">621</div></td><td class=\"Table__TD\"><div class=\"\">124.2</div></td><td class=\"Table__TD\"><div class=\"\">102</div></td><td class=\"Table__TD\"><div class=\"\">20.4</div></td></tr><tr class=\"Table__TR Table__TR--sm Table__even\" data-idx=\"10\"><td class=\"Table__TD\"><div class=\"\">4</div></td><td class=\"Table__TD\"><div class=\"\">1,396</div></td><td class=\"Table__TD\"><div class=\"\">349.0</div></td><td class=\"Table__TD\"><div class=\"\">935</div></td><td class=\"Table__TD\"><div class=\"\">233.8</div></td><td class=\"Table__TD\"><div class=\"\">461</div></td><td class=\"Table__TD\"><div class=\"\">115.3</div></td><td class=\"Table__TD\"><div class=\"\">92</div></td><td class=\"Table__TD\"><div class=\"\">23.0</div></td></tr><tr class=\"Table__TR Table__TR--sm Table__even\" data-idx=\"11\"><td class=\"Table__TD\"><div class=\"\">4</div></td><td class=\"Table__TD\"><div class=\"\">1,413</div></td><td class=\"Table__TD\"><div class=\"\">353.3</div></td><td class=\"Table__TD\"><div class=\"\">990</div></td><td class=\"Table__TD\"><div class=\"\">247.5</div></td><td class=\"Table__TD\"><div class=\"\">423</div></td><td class=\"Table__TD\"><div class=\"\">105.8</div></td><td class=\"Table__TD\"><div class=\"\">101</div></td><td class=\"Table__TD\"><div class=\"\">25.3</div></td></tr><tr class=\"Table__TR Table__TR--sm Table__even\" data-idx=\"12\"><td class=\"Table__TD\"><div class=\"\">5</div></td><td class=\"Table__TD\"><div class=\"\">1,776</div></td><td class=\"Table__TD\"><div class=\"\">355.2</div></td><td class=\"Table__TD\"><div class=\"\">1,205</div></td><td class=\"Table__TD\"><div class=\"\">241.0</div></td><td class=\"Table__TD\"><div class=\"\">571</div></td><td class=\"Table__TD\"><div class=\"\">114.2</div></td><td class=\"Table__TD\"><div class=\"\">145</div></td><td class=\"Table__TD\"><div class=\"\">29.0</div></td></tr><tr class=\"Table__TR Table__TR--sm Table__even\" data-idx=\"13\"><td class=\"Table__TD\"><div class=\"\">5</div></td><td class=\"Table__TD\"><div class=\"\">1,782</div></td><td class=\"Table__TD\"><div class=\"\">356.4</div></td><td class=\"Table__TD\"><div class=\"\">1,134</div></td><td class=\"Table__TD\"><div class=\"\">226.8</div></td><td class=\"Table__TD\"><div class=\"\">648</div></td><td class=\"Table__TD\"><div class=\"\">129.6</div></td><td class=\"Table__TD\"><div class=\"\">142</div></td><td class=\"Table__TD\"><div class=\"\">28.4</div></td></tr><tr class=\"Table__TR Table__TR--sm Table__even\" data-idx=\"14\"><td class=\"Table__TD\"><div class=\"\">5</div></td><td class=\"Table__TD\"><div class=\"\">1,782</div></td><td class=\"Table__TD\"><div class=\"\">356.4</div></td><td class=\"Table__TD\"><div class=\"\">1,115</div></td><td class=\"Table__TD\"><div class=\"\">223.0</div></td><td class=\"Table__TD\"><div class=\"\">667</div></td><td class=\"Table__TD\"><div class=\"\">133.4</div></td><td class=\"Table__TD\"><div class=\"\">118</div></td><td class=\"Table__TD\"><div class=\"\">23.6</div></td></tr><tr class=\"Table__TR Table__TR--sm Table__even\" data-idx=\"15\"><td class=\"Table__TD\"><div class=\"\">4</div></td><td class=\"Table__TD\"><div class=\"\">1,461</div></td><td class=\"Table__TD\"><div class=\"\">365.3</div></td><td class=\"Table__TD\"><div class=\"\">1,025</div></td><td class=\"Table__TD\"><div class=\"\">256.3</div></td><td class=\"Table__TD\"><div class=\"\">436</div></td><td class=\"Table__TD\"><div class=\"\">109.0</div></td><td class=\"Table__TD\"><div class=\"\">98</div></td><td class=\"Table__TD\"><div class=\"\">24.5</div></td></tr><tr class=\"Table__TR Table__TR--sm Table__even\" data-idx=\"16\"><td class=\"Table__TD\"><div class=\"\">5</div></td><td class=\"Table__TD\"><div class=\"\">1,859</div></td><td class=\"Table__TD\"><div class=\"\">371.8</div></td><td class=\"Table__TD\"><div class=\"\">1,316</div></td><td class=\"Table__TD\"><div class=\"\">263.2</div></td><td class=\"Table__TD\"><div class=\"\">543</div></td><td class=\"Table__TD\"><div class=\"\">108.6</div></td><td class=\"Table__TD\"><div class=\"\">142</div></td><td class=\"Table__TD\"><div class=\"\">28.4</div></td></tr><tr class=\"Table__TR Table__TR--sm Table__even\" data-idx=\"17\"><td class=\"Table__TD\"><div class=\"\">5</div></td><td class=\"Table__TD\"><div class=\"\">1,898</div></td><td class=\"Table__TD\"><div class=\"\">379.6</div></td><td class=\"Table__TD\"><div class=\"\">1,268</div></td><td class=\"Table__TD\"><div class=\"\">253.6</div></td><td class=\"Table__TD\"><div class=\"\">630</div></td><td class=\"Table__TD\"><div class=\"\">126.0</div></td><td class=\"Table__TD\"><div class=\"\">113</div></td><td class=\"Table__TD\"><div class=\"\">22.6</div></td></tr><tr class=\"Table__TR Table__TR--sm Table__even\" data-idx=\"18\"><td class=\"Table__TD\"><div class=\"\">5</div></td><td class=\"Table__TD\"><div class=\"\">1,903</div></td><td class=\"Table__TD\"><div class=\"\">380.6</div></td><td class=\"Table__TD\"><div class=\"\">1,365</div></td><td class=\"Table__TD\"><div class=\"\">273.0</div></td><td class=\"Table__TD\"><div class=\"\">538</div></td><td class=\"Table__TD\"><div class=\"\">107.6</div></td><td class=\"Table__TD\"><div class=\"\">125</div></td><td class=\"Table__TD\"><div class=\"\">25.0</div></td></tr><tr class=\"Table__TR Table__TR--sm Table__even\" data-idx=\"19\"><td class=\"Table__TD\"><div class=\"\">5</div></td><td class=\"Table__TD\"><div class=\"\">1,914</div></td><td class=\"Table__TD\"><div class=\"\">382.8</div></td><td class=\"Table__TD\"><div class=\"\">1,126</div></td><td class=\"Table__TD\"><div class=\"\">225.2</div></td><td class=\"Table__TD\"><div class=\"\">788</div></td><td class=\"Table__TD\"><div class=\"\">157.6</div></td><td class=\"Table__TD\"><div class=\"\">110</div></td><td class=\"Table__TD\"><div class=\"\">22.0</div></td></tr><tr class=\"Table__TR Table__TR--sm Table__even\" data-idx=\"20\"><td class=\"Table__TD\"><div class=\"\">5</div></td><td class=\"Table__TD\"><div class=\"\">1,917</div></td><td class=\"Table__TD\"><div class=\"\">383.4</div></td><td class=\"Table__TD\"><div class=\"\">1,482</div></td><td class=\"Table__TD\"><div class=\"\">296.4</div></td><td class=\"Table__TD\"><div class=\"\">435</div></td><td class=\"Table__TD\"><div class=\"\">87.0</div></td><td class=\"Table__TD\"><div class=\"\">149</div></td><td class=\"Table__TD\"><div class=\"\">29.8</div></td></tr><tr class=\"Table__TR Table__TR--sm Table__even\" data-idx=\"21\"><td class=\"Table__TD\"><div class=\"\">5</div></td><td class=\"Table__TD\"><div class=\"\">1,937</div></td><td class=\"Table__TD\"><div class=\"\">387.4</div></td><td class=\"Table__TD\"><div class=\"\">1,135</div></td><td class=\"Table__TD\"><div class=\"\">227.0</div></td><td class=\"Table__TD\"><div class=\"\">802</div></td><td class=\"Table__TD\"><div class=\"\">160.4</div></td><td class=\"Table__TD\"><div class=\"\">140</div></td><td class=\"Table__TD\"><div class=\"\">28.0</div></td></tr><tr class=\"Table__TR Table__TR--sm Table__even\" data-idx=\"22\"><td class=\"Table__TD\"><div class=\"\">5</div></td><td class=\"Table__TD\"><div class=\"\">1,938</div></td><td class=\"Table__TD\"><div class=\"\">387.6</div></td><td class=\"Table__TD\"><div class=\"\">1,143</div></td><td class=\"Table__TD\"><div class=\"\">228.6</div></td><td class=\"Table__TD\"><div class=\"\">795</div></td><td class=\"Table__TD\"><div class=\"\">159.0</div></td><td class=\"Table__TD\"><div class=\"\">126</div></td><td class=\"Table__TD\"><div class=\"\">25.2</div></td></tr><tr class=\"Table__TR Table__TR--sm Table__even\" data-idx=\"23\"><td class=\"Table__TD\"><div class=\"\">5</div></td><td class=\"Table__TD\"><div class=\"\">1,968</div></td><td class=\"Table__TD\"><div class=\"\">393.6</div></td><td class=\"Table__TD\"><div class=\"\">1,334</div></td><td class=\"Table__TD\"><div class=\"\">266.8</div></td><td class=\"Table__TD\"><div class=\"\">634</div></td><td class=\"Table__TD\"><div class=\"\">126.8</div></td><td class=\"Table__TD\"><div class=\"\">152</div></td><td class=\"Table__TD\"><div class=\"\">30.4</div></td></tr><tr class=\"Table__TR Table__TR--sm Table__even\" data-idx=\"24\"><td class=\"Table__TD\"><div class=\"\">5</div></td><td class=\"Table__TD\"><div class=\"\">1,971</div></td><td class=\"Table__TD\"><div class=\"\">394.2</div></td><td class=\"Table__TD\"><div class=\"\">1,328</div></td><td class=\"Table__TD\"><div class=\"\">265.6</div></td><td class=\"Table__TD\"><div class=\"\">643</div></td><td class=\"Table__TD\"><div class=\"\">128.6</div></td><td class=\"Table__TD\"><div class=\"\">161</div></td><td class=\"Table__TD\"><div class=\"\">32.2</div></td></tr><tr class=\"Table__TR Table__TR--sm Table__even\" data-idx=\"25\"><td class=\"Table__TD\"><div class=\"\">5</div></td><td class=\"Table__TD\"><div class=\"\">2,020</div></td><td class=\"Table__TD\"><div class=\"\">404.0</div></td><td class=\"Table__TD\"><div class=\"\">1,357</div></td><td class=\"Table__TD\"><div class=\"\">271.4</div></td><td class=\"Table__TD\"><div class=\"\">663</div></td><td class=\"Table__TD\"><div class=\"\">132.6</div></td><td class=\"Table__TD\"><div class=\"\">152</div></td><td class=\"Table__TD\"><div class=\"\">30.4</div></td></tr><tr class=\"Table__TR Table__TR--sm Table__even\" data-idx=\"26\"><td class=\"Table__TD\"><div class=\"\">5</div></td><td class=\"Table__TD\"><div class=\"\">2,022</div></td><td class=\"Table__TD\"><div class=\"\">404.4</div></td><td class=\"Table__TD\"><div class=\"\">1,243</div></td><td class=\"Table__TD\"><div class=\"\">248.6</div></td><td class=\"Table__TD\"><div class=\"\">779</div></td><td class=\"Table__TD\"><div class=\"\">155.8</div></td><td class=\"Table__TD\"><div class=\"\">180</div></td><td class=\"Table__TD\"><div class=\"\">36.0</div></td></tr><tr class=\"Table__TR Table__TR--sm Table__even\" data-idx=\"27\"><td class=\"Table__TD\"><div class=\"\">4</div></td><td class=\"Table__TD\"><div class=\"\">1,620</div></td><td class=\"Table__TD\"><div class=\"\">405.0</div></td><td class=\"Table__TD\"><div class=\"\">939</div></td><td class=\"Table__TD\"><div class=\"\">234.8</div></td><td class=\"Table__TD\"><div class=\"\">681</div></td><td class=\"Table__TD\"><div class=\"\">170.3</div></td><td class=\"Table__TD\"><div class=\"\">127</div></td><td class=\"Table__TD\"><div class=\"\">31.8</div></td></tr><tr class=\"Table__TR Table__TR--sm Table__even\" data-idx=\"28\"><td class=\"Table__TD\"><div class=\"\">4</div></td><td class=\"Table__TD\"><div class=\"\">1,637</div></td><td class=\"Table__TD\"><div class=\"\">409.3</div></td><td class=\"Table__TD\"><div class=\"\">1,044</div></td><td class=\"Table__TD\"><div class=\"\">261.0</div></td><td class=\"Table__TD\"><div class=\"\">593</div></td><td class=\"Table__TD\"><div class=\"\">148.3</div></td><td class=\"Table__TD\"><div class=\"\">90</div></td><td class=\"Table__TD\"><div class=\"\">22.5</div></td></tr><tr class=\"Table__TR Table__TR--sm Table__even\" data-idx=\"29\"><td class=\"Table__TD\"><div class=\"\">5</div></td><td class=\"Table__TD\"><div class=\"\">2,084</div></td><td class=\"Table__TD\"><div class=\"\">416.8</div></td><td class=\"Table__TD\"><div class=\"\">1,401</div></td><td class=\"Table__TD\"><div class=\"\">280.2</div></td><td class=\"Table__TD\"><div class=\"\">683</div></td><td class=\"Table__TD\"><div class=\"\">136.6</div></td><td class=\"Table__TD\"><div class=\"\">147</div></td><td class=\"Table__TD\"><div class=\"\">29.4</div></td></tr><tr class=\"Table__TR Table__TR--sm Table__even\" data-idx=\"30\"><td class=\"Table__TD\"><div class=\"\">5</div></td><td class=\"Table__TD\"><div class=\"\">2,230</div></td><td class=\"Table__TD\"><div class=\"\">446.0</div></td><td class=\"Table__TD\"><div class=\"\">1,679</div></td><td class=\"Table__TD\"><div class=\"\">335.8</div></td><td class=\"Table__TD\"><div class=\"\">551</div></td><td class=\"Table__TD\"><div class=\"\">110.2</div></td><td class=\"Table__TD\"><div class=\"\">161</div></td><td class=\"Table__TD\"><div class=\"\">32.2</div></td></tr><tr class=\"Table__TR Table__TR--sm Table__even\" data-idx=\"31\"><td class=\"Table__TD\"><div class=\"\">5</div></td><td class=\"Table__TD\"><div class=\"\">2,356</div></td><td class=\"Table__TD\"><div class=\"\">471.2</div></td><td class=\"Table__TD\"><div class=\"\">1,852</div></td><td class=\"Table__TD\"><div class=\"\">370.4</div></td><td class=\"Table__TD\"><div class=\"\">504</div></td><td class=\"Table__TD\"><div class=\"\">100.8</div></td><td class=\"Table__TD\"><div class=\"\">135</div></td><td class=\"Table__TD\"><div class=\"\">27.0</div></td></tr></tbody>]"
      ]
     },
     "execution_count": 64,
     "metadata": {},
     "output_type": "execute_result"
    }
   ],
   "source": [
    "container"
   ]
  },
  {
   "cell_type": "code",
   "execution_count": 53,
   "metadata": {},
   "outputs": [],
   "source": [
    "team = container.findAll('a', class_ = 'AnchorLink')[2]"
   ]
  },
  {
   "cell_type": "code",
   "execution_count": 54,
   "metadata": {},
   "outputs": [],
   "source": [
    "team = str(team)"
   ]
  },
  {
   "cell_type": "code",
   "execution_count": 55,
   "metadata": {},
   "outputs": [
    {
     "data": {
      "text/plain": [
       "'<a class=\"AnchorLink\" href=\"/nfl/team/_/name/tb/tampa-bay-buccaneers\" tabindex=\"0\"><img alt=\"Tampa Bay Buccaneers\" class=\"Image Logo Logo__sm\" data-mptype=\"image\" src=\"data:image/gif;base64,R0lGODlhAQABAIAAAAAAAP///yH5BAEAAAAALAAAAAABAAEAAAIBRAA7\" title=\"Tampa Bay Buccaneers\"/></a>'"
      ]
     },
     "execution_count": 55,
     "metadata": {},
     "output_type": "execute_result"
    }
   ],
   "source": [
    "team"
   ]
  },
  {
   "cell_type": "code",
   "execution_count": 56,
   "metadata": {},
   "outputs": [
    {
     "data": {
      "text/plain": [
       "'Tampa Bay Buccaneers'"
      ]
     },
     "execution_count": 56,
     "metadata": {},
     "output_type": "execute_result"
    }
   ],
   "source": [
    "team = team.rstrip('\"/></a>')\n",
    "team.split('\"')[-1]"
   ]
  },
  {
   "cell_type": "markdown",
   "metadata": {},
   "source": [
    "## Collecting Data\n",
    "\n",
    "### Offense Player Stats"
   ]
  },
  {
   "cell_type": "code",
   "execution_count": 12,
   "metadata": {},
   "outputs": [
    {
     "data": {
      "application/vnd.jupyter.widget-view+json": {
       "model_id": "01acd1cdb9d347378cd5124228d489cb",
       "version_major": 2,
       "version_minor": 0
      },
      "text/plain": [
       "HBox(children=(FloatProgress(value=0.0, max=501.0), HTML(value='')))"
      ]
     },
     "metadata": {},
     "output_type": "display_data"
    },
    {
     "name": "stdout",
     "output_type": "stream",
     "text": [
      "\n"
     ]
    }
   ],
   "source": [
    "offense_url = 'https://www.pro-football-reference.com/years/2020/fantasy.htm'\n",
    "get_offense(offense_url)"
   ]
  },
  {
   "cell_type": "markdown",
   "metadata": {},
   "source": [
    "### Fantasy Pts by Week"
   ]
  },
  {
   "cell_type": "code",
   "execution_count": 13,
   "metadata": {},
   "outputs": [],
   "source": [
    "fantTTL_url = 'https://www.fantasypros.com/nfl/reports/leaders/?year=2020&start=1&end=' + str(week_no)\n",
    "weekTTL_fantasy['Player'], weekTTL_fantasy['Team'], weekTTL_fantasy['Position'], weekTTL_fantasy['TTL'] = get_lw_fantasy(fantTTL_url)"
   ]
  },
  {
   "cell_type": "code",
   "execution_count": 14,
   "metadata": {},
   "outputs": [],
   "source": [
    "week_url = 'https://www.fantasypros.com/nfl/reports/leaders/?year=2020&start=' + str(week_no) + '&end=' + str(week_no)\n",
    "week_fantasy['Player'], week_fantasy['Team'], week_fantasy['Position'], week_fantasy['Week_' + str(week_no)] = get_lw_fantasy(week_url)"
   ]
  },
  {
   "cell_type": "markdown",
   "metadata": {},
   "source": [
    "#### Merging Ttl and Week Fantasy Pts DataFrames"
   ]
  },
  {
   "cell_type": "code",
   "execution_count": 15,
   "metadata": {},
   "outputs": [
    {
     "data": {
      "text/html": [
       "<div>\n",
       "<style scoped>\n",
       "    .dataframe tbody tr th:only-of-type {\n",
       "        vertical-align: middle;\n",
       "    }\n",
       "\n",
       "    .dataframe tbody tr th {\n",
       "        vertical-align: top;\n",
       "    }\n",
       "\n",
       "    .dataframe thead th {\n",
       "        text-align: right;\n",
       "    }\n",
       "</style>\n",
       "<table border=\"1\" class=\"dataframe\">\n",
       "  <thead>\n",
       "    <tr style=\"text-align: right;\">\n",
       "      <th></th>\n",
       "      <th>Player</th>\n",
       "      <th>Team</th>\n",
       "      <th>Position</th>\n",
       "      <th>TTL</th>\n",
       "      <th>Week_5</th>\n",
       "    </tr>\n",
       "  </thead>\n",
       "  <tbody>\n",
       "    <tr>\n",
       "      <th>0</th>\n",
       "      <td>Russell Wilson</td>\n",
       "      <td>SEA</td>\n",
       "      <td>QB</td>\n",
       "      <td>150.4</td>\n",
       "      <td>25.5</td>\n",
       "    </tr>\n",
       "    <tr>\n",
       "      <th>1</th>\n",
       "      <td>Patrick Mahomes II</td>\n",
       "      <td>KC</td>\n",
       "      <td>QB</td>\n",
       "      <td>138.8</td>\n",
       "      <td>30.7</td>\n",
       "    </tr>\n",
       "    <tr>\n",
       "      <th>2</th>\n",
       "      <td>Josh Allen</td>\n",
       "      <td>BUF</td>\n",
       "      <td>QB</td>\n",
       "      <td>138.6</td>\n",
       "      <td>18.3</td>\n",
       "    </tr>\n",
       "    <tr>\n",
       "      <th>3</th>\n",
       "      <td>Dak Prescott</td>\n",
       "      <td>DAL</td>\n",
       "      <td>QB</td>\n",
       "      <td>138.6</td>\n",
       "      <td>13.4</td>\n",
       "    </tr>\n",
       "    <tr>\n",
       "      <th>4</th>\n",
       "      <td>Kyler Murray</td>\n",
       "      <td>ARI</td>\n",
       "      <td>QB</td>\n",
       "      <td>135.5</td>\n",
       "      <td>27.3</td>\n",
       "    </tr>\n",
       "  </tbody>\n",
       "</table>\n",
       "</div>"
      ],
      "text/plain": [
       "               Player Team Position    TTL Week_5\n",
       "0      Russell Wilson  SEA       QB  150.4   25.5\n",
       "1  Patrick Mahomes II   KC       QB  138.8   30.7\n",
       "2          Josh Allen  BUF       QB  138.6   18.3\n",
       "3        Dak Prescott  DAL       QB  138.6   13.4\n",
       "4        Kyler Murray  ARI       QB  135.5   27.3"
      ]
     },
     "execution_count": 15,
     "metadata": {},
     "output_type": "execute_result"
    }
   ],
   "source": [
    "fantPts = pd.merge(weekTTL_fantasy, week_fantasy, 'left', on = 'Player')\n",
    "fantPts.drop(columns = ['Team_y', 'Position_y'], inplace = True)\n",
    "fantPts.rename(columns = {'Team_x': 'Team', 'Position_x': 'Position'}, inplace = True)\n",
    "fantPts.head()"
   ]
  },
  {
   "cell_type": "markdown",
   "metadata": {},
   "source": [
    "### Defense Stats by Team"
   ]
  },
  {
   "cell_type": "code",
   "execution_count": 12,
   "metadata": {},
   "outputs": [],
   "source": [
    "defense_url = 'https://www.lineups.com/nfl/team-stats/defense'\n",
    "get_defense_stats(defense_url)"
   ]
  },
  {
   "cell_type": "code",
   "execution_count": 13,
   "metadata": {},
   "outputs": [],
   "source": [
    "defense_url = 'https://www.lineups.com/nfl/team-stats/defense'\n",
    "html = requests.get(defense_url)"
   ]
  },
  {
   "cell_type": "code",
   "execution_count": 14,
   "metadata": {},
   "outputs": [],
   "source": [
    "soup = BeautifulSoup(html.content, 'html.parser')"
   ]
  },
  {
   "cell_type": "code",
   "execution_count": 15,
   "metadata": {},
   "outputs": [
    {
     "data": {
      "text/plain": [
       "<span _ngcontent-sc332=\"\" class=\"hidden-xs-down\">Baltimore Ravens</span>"
      ]
     },
     "execution_count": 15,
     "metadata": {},
     "output_type": "execute_result"
    }
   ],
   "source": [
    "container = soup.find('tbody')\n",
    "\n",
    "container.find('span', class_ = 'hidden-xs-down')"
   ]
  },
  {
   "cell_type": "code",
   "execution_count": 16,
   "metadata": {},
   "outputs": [
    {
     "data": {
      "text/plain": [
       "<button _ngcontent-sc195=\"\" class=\"toggle-in-page active\">\n",
       "<span _ngcontent-sc195=\"\" class=\"\">\n",
       "            Total\n",
       "          </span>\n",
       "<!-- -->\n",
       "</button>"
      ]
     },
     "execution_count": 16,
     "metadata": {},
     "output_type": "execute_result"
    }
   ],
   "source": [
    "soup.find('button', class_ = 'toggle-in-page active')"
   ]
  },
  {
   "cell_type": "code",
   "execution_count": 17,
   "metadata": {
    "scrolled": false
   },
   "outputs": [
    {
     "data": {
      "text/html": [
       "<div>\n",
       "<style scoped>\n",
       "    .dataframe tbody tr th:only-of-type {\n",
       "        vertical-align: middle;\n",
       "    }\n",
       "\n",
       "    .dataframe tbody tr th {\n",
       "        vertical-align: top;\n",
       "    }\n",
       "\n",
       "    .dataframe thead th {\n",
       "        text-align: right;\n",
       "    }\n",
       "</style>\n",
       "<table border=\"1\" class=\"dataframe\">\n",
       "  <thead>\n",
       "    <tr style=\"text-align: right;\">\n",
       "      <th></th>\n",
       "      <th>Team</th>\n",
       "      <th>Ttl_Pts_Allowed</th>\n",
       "      <th>Ttl_Offense_Plays_Allowed</th>\n",
       "      <th>Yds_p_Play</th>\n",
       "      <th>Ttl_Yds</th>\n",
       "      <th>Rushing_Att</th>\n",
       "      <th>Rushing_Yds</th>\n",
       "      <th>Rushing_Yds_p_Att</th>\n",
       "      <th>Rushing_TDs</th>\n",
       "      <th>Passing_Att</th>\n",
       "      <th>Passing_Yds_p_Att</th>\n",
       "      <th>Completions</th>\n",
       "      <th>Yds_p_Completion</th>\n",
       "      <th>Passing_Yds</th>\n",
       "      <th>Passing_TDs</th>\n",
       "      <th>RZ_Att</th>\n",
       "      <th>RZ_TD</th>\n",
       "      <th>RZ_Percent</th>\n",
       "      <th>Ttl_Turnovers</th>\n",
       "      <th>Interceptions</th>\n",
       "      <th>Fumbles</th>\n",
       "      <th>Sacks</th>\n",
       "    </tr>\n",
       "  </thead>\n",
       "  <tbody>\n",
       "    <tr>\n",
       "      <th>0</th>\n",
       "      <td>Baltimore Ravens</td>\n",
       "      <td>76</td>\n",
       "      <td>333</td>\n",
       "      <td>5</td>\n",
       "      <td>1,675</td>\n",
       "      <td>125</td>\n",
       "      <td>460</td>\n",
       "      <td>3.7</td>\n",
       "      <td>3</td>\n",
       "      <td>192</td>\n",
       "      <td>5.8</td>\n",
       "      <td>128</td>\n",
       "      <td>10.5</td>\n",
       "      <td>1,215</td>\n",
       "      <td>6</td>\n",
       "      <td>10</td>\n",
       "      <td>7</td>\n",
       "      <td>70%</td>\n",
       "      <td>10</td>\n",
       "      <td>3</td>\n",
       "      <td>7</td>\n",
       "      <td>16</td>\n",
       "    </tr>\n",
       "    <tr>\n",
       "      <th>1</th>\n",
       "      <td>Pittsburgh Steelers</td>\n",
       "      <td>87</td>\n",
       "      <td>240</td>\n",
       "      <td>5</td>\n",
       "      <td>1,206</td>\n",
       "      <td>77</td>\n",
       "      <td>256</td>\n",
       "      <td>3.3</td>\n",
       "      <td>3</td>\n",
       "      <td>143</td>\n",
       "      <td>5.8</td>\n",
       "      <td>85</td>\n",
       "      <td>12.9</td>\n",
       "      <td>950</td>\n",
       "      <td>8</td>\n",
       "      <td>12</td>\n",
       "      <td>7</td>\n",
       "      <td>58.3%</td>\n",
       "      <td>7</td>\n",
       "      <td>6</td>\n",
       "      <td>1</td>\n",
       "      <td>20</td>\n",
       "    </tr>\n",
       "    <tr>\n",
       "      <th>2</th>\n",
       "      <td>Indianapolis Colts</td>\n",
       "      <td>88</td>\n",
       "      <td>285</td>\n",
       "      <td>4.7</td>\n",
       "      <td>1,330</td>\n",
       "      <td>119</td>\n",
       "      <td>432</td>\n",
       "      <td>3.6</td>\n",
       "      <td>1</td>\n",
       "      <td>155</td>\n",
       "      <td>5.4</td>\n",
       "      <td>95</td>\n",
       "      <td>10.2</td>\n",
       "      <td>898</td>\n",
       "      <td>7</td>\n",
       "      <td>12</td>\n",
       "      <td>7</td>\n",
       "      <td>58.3%</td>\n",
       "      <td>9</td>\n",
       "      <td>9</td>\n",
       "      <td>0</td>\n",
       "      <td>11</td>\n",
       "    </tr>\n",
       "    <tr>\n",
       "      <th>3</th>\n",
       "      <td>Los Angeles Rams</td>\n",
       "      <td>90</td>\n",
       "      <td>314</td>\n",
       "      <td>4.8</td>\n",
       "      <td>1,521</td>\n",
       "      <td>113</td>\n",
       "      <td>532</td>\n",
       "      <td>4.7</td>\n",
       "      <td>5</td>\n",
       "      <td>181</td>\n",
       "      <td>4.9</td>\n",
       "      <td>116</td>\n",
       "      <td>9.7</td>\n",
       "      <td>989</td>\n",
       "      <td>5</td>\n",
       "      <td>17</td>\n",
       "      <td>10</td>\n",
       "      <td>58.8%</td>\n",
       "      <td>6</td>\n",
       "      <td>4</td>\n",
       "      <td>2</td>\n",
       "      <td>20</td>\n",
       "    </tr>\n",
       "    <tr>\n",
       "      <th>4</th>\n",
       "      <td>Tennessee Titans</td>\n",
       "      <td>90</td>\n",
       "      <td>264</td>\n",
       "      <td>6.2</td>\n",
       "      <td>1,637</td>\n",
       "      <td>108</td>\n",
       "      <td>593</td>\n",
       "      <td>5.5</td>\n",
       "      <td>3</td>\n",
       "      <td>151</td>\n",
       "      <td>6.7</td>\n",
       "      <td>97</td>\n",
       "      <td>11.2</td>\n",
       "      <td>1,044</td>\n",
       "      <td>9</td>\n",
       "      <td>12</td>\n",
       "      <td>10</td>\n",
       "      <td>83.3%</td>\n",
       "      <td>9</td>\n",
       "      <td>6</td>\n",
       "      <td>3</td>\n",
       "      <td>5</td>\n",
       "    </tr>\n",
       "  </tbody>\n",
       "</table>\n",
       "</div>"
      ],
      "text/plain": [
       "                  Team Ttl_Pts_Allowed Ttl_Offense_Plays_Allowed Yds_p_Play  \\\n",
       "0     Baltimore Ravens              76                       333          5   \n",
       "1  Pittsburgh Steelers              87                       240          5   \n",
       "2   Indianapolis Colts              88                       285        4.7   \n",
       "3     Los Angeles Rams              90                       314        4.8   \n",
       "4     Tennessee Titans              90                       264        6.2   \n",
       "\n",
       "  Ttl_Yds Rushing_Att Rushing_Yds Rushing_Yds_p_Att Rushing_TDs Passing_Att  \\\n",
       "0   1,675         125         460               3.7           3         192   \n",
       "1   1,206          77         256               3.3           3         143   \n",
       "2   1,330         119         432               3.6           1         155   \n",
       "3   1,521         113         532               4.7           5         181   \n",
       "4   1,637         108         593               5.5           3         151   \n",
       "\n",
       "  Passing_Yds_p_Att Completions Yds_p_Completion Passing_Yds Passing_TDs  \\\n",
       "0               5.8         128             10.5       1,215           6   \n",
       "1               5.8          85             12.9         950           8   \n",
       "2               5.4          95             10.2         898           7   \n",
       "3               4.9         116              9.7         989           5   \n",
       "4               6.7          97             11.2       1,044           9   \n",
       "\n",
       "  RZ_Att RZ_TD RZ_Percent Ttl_Turnovers Interceptions Fumbles Sacks  \n",
       "0     10     7        70%            10             3       7    16  \n",
       "1     12     7      58.3%             7             6       1    20  \n",
       "2     12     7      58.3%             9             9       0    11  \n",
       "3     17    10      58.8%             6             4       2    20  \n",
       "4     12    10      83.3%             9             6       3     5  "
      ]
     },
     "execution_count": 17,
     "metadata": {},
     "output_type": "execute_result"
    }
   ],
   "source": [
    "defense_df.head()"
   ]
  },
  {
   "cell_type": "markdown",
   "metadata": {},
   "source": [
    "### Pickle DataFrames"
   ]
  },
  {
   "cell_type": "code",
   "execution_count": 21,
   "metadata": {},
   "outputs": [],
   "source": [
    "df.to_pickle('player_stats')\n",
    "fantPts.to_pickle('fantasy_weeks')\n",
    "defense_df.to_pickle('defense_data')"
   ]
  },
  {
   "cell_type": "code",
   "execution_count": null,
   "metadata": {},
   "outputs": [],
   "source": []
  }
 ],
 "metadata": {
  "kernelspec": {
   "display_name": "Python 3",
   "language": "python",
   "name": "python3"
  },
  "language_info": {
   "codemirror_mode": {
    "name": "ipython",
    "version": 3
   },
   "file_extension": ".py",
   "mimetype": "text/x-python",
   "name": "python",
   "nbconvert_exporter": "python",
   "pygments_lexer": "ipython3",
   "version": "3.7.6"
  }
 },
 "nbformat": 4,
 "nbformat_minor": 4
}
